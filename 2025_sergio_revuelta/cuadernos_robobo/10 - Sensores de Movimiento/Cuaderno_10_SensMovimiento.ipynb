{
 "cells": [
  {
   "cell_type": "markdown",
   "id": "77ae6d45",
   "metadata": {},
   "source": [
    "<table width=\"100%\">\n",
    "<tr>\n",
    "    <td align=\"left\" width=\"50%\" style=\"border: 0px; padding-left: 20px;\">\n",
    "        <img src=\"img/udc.png\" width=\"300\">\n",
    "    </td>\n",
    "    <td align=\"right\" width=\"50%\" style=\"border: 0px; padding-right: 50px;\">\n",
    "        <img src=\"img/logo_mint.svg\" width=\"250\">\n",
    "    </td>    \n",
    "</tr>\n",
    "</table>"
   ]
  },
  {
   "cell_type": "markdown",
   "id": "87b38968",
   "metadata": {},
   "source": [
    "<center>\n",
    "<h1 style=\"color: #d60e8c;\">Robobo: Sensores de Movimiento</h1> \n",
    "</center>"
   ]
  },
  {
   "cell_type": "markdown",
   "id": "b0b42b1c",
   "metadata": {},
   "source": [
    "<h2>Contenidos</h2>\n",
    "\n",
    "<div class=\"alert alert-block alert-info\" \n",
    "     style=\"margin-top: 20px; padding-top:10px; border: 1px solid #d60e8c; border-radius: 20px; background:transparent;\">\n",
    "    <ul>\n",
    "        <li><a href=\"#intro\">Introducción</a></li>\n",
    "        <ul>\n",
    "            <li><a href=\"#ror\">readOrientationSensor()</a></li>\n",
    "            <li><a href=\"#racc\">readAccelerationSensor()</a></li>\n",
    "        </ul>\n",
    "        <li><a href=\"#ej\">Ejercicios</a></li>  \n",
    "    </ul>\n",
    "</div>"
   ]
  },
  {
   "cell_type": "markdown",
   "id": "7511129a",
   "metadata": {},
   "source": [
    "<a id=\"intro\" style=\"text-decoration:none;\">\n",
    "<h1 style=\"color: #d60e8c; border-bottom: 2px solid #d60e8c;padding-bottom: 5px;\">Introducción</h1>\n",
    "</a>\n",
    "\n",
    "Una **unidad de medición inercial o IMU** (del inglés inertial measurement unit), es un dispositivo electrónico que mide e informa acerca de la velocidad, orientación y fuerzas gravitacionales de un aparato, usando una combinación de acelerómetros y giróscopos. Las unidades de medición inercial son normalmente usadas para maniobrar aviones, pero son muy populares también en vehículos autónomos, como drones, submarinos o robots móviles.\n",
    "\n",
    "Su principal uso en estos últimos, como Robobo, es conocer la posición y orientación del robot mientras se mueve, ya que es fundamental conocer en todo momento su localización exacta para poder navegar de forma segura y eficiente.\n",
    "\n",
    "El Robobo real incluye una IMU gracias al smartphone, pero **no todos los modelos lo incorporan**, por lo que estos métodos podrían no estar disponibles para algunos usuarios. En RoboboSim, la IMU está simulada, por lo que se pueden utilizar sin problema. \n",
    "\n",
    "Los métodos disponibles son dos: uno para conocer la orientación del robot, y otro para conocer su aceleración."
   ]
  },
  {
   "cell_type": "markdown",
   "id": "a9492686",
   "metadata": {},
   "source": [
    "<a id=\"ror\" style=\"text-decoration:none;\">\n",
    "<h3 style=\"color: #d60e8c;\">readOrientationSensor()</h2>\n",
    "</a>\n",
    "\n",
    "**Función:** Lee la orientación en la que se encuentra el robot.\n",
    "\n",
    "**Devuelve:**\n",
    "\n",
    "- La orientación (Orientation). Ver Clase Orientation."
   ]
  },
  {
   "cell_type": "markdown",
   "id": "abbbb36b",
   "metadata": {},
   "source": [
    "<a id=\"cor\" style=\"text-decoration:none;\">\n",
    "<h3 style=\"color: #d60e8c;\">Clase Orientation</h2>\n",
    "</a>\n",
    "\n",
    "\n",
    "Representa la orientación del smartphone en base a estos ejes de referencia:\n",
    "\n",
    "<center>\n",
    "    <img src=\"img/ejes_sensor.png\" width=\"300\"/>\n",
    "</center>\n",
    "\n",
    "\n",
    "\n",
    "\n",
    "\n",
    "**Atributos:**\n",
    "\n",
    "- *yaw (float)*: Rotación en grados alrededor del eje **Z**. Los valores están en el rango de -180 a 180. El ángulo de giro yaw se consigue girando la base con los motores de las ruedas y el motor\n",
    "PAN.\n",
    "- *pitch (float)*: Rotación en grados alrededor del eje **Y**. Los valores están en el rango de -180 a 180. El ángulo de giro pitch se consigue usando el motor TILT o moviendo el robot por una superficie inclinada frontalmente.\n",
    "- *roll (float)*: Rotación en grados alrededor del eje **X**. Los valores están en el rango de -180 a 180.\n",
    "El ángulo de giro roll no lo puede conseguir Robobo directamente, pero cambiará si la\n",
    "superficie en la que se mueve tiene una inclinación lateral."
   ]
  },
  {
   "cell_type": "markdown",
   "id": "0ce4010c",
   "metadata": {},
   "source": [
    "Para probar este método se cargará un mundo cualquiera en RoboboSim, ya que lo que va a hacer Robobo es girar sobre su eje sin avanzar. El siguiente programa realizará cuatro lecturas para ver cómo cambian los 3 parámetros del sensor de orientación:\n",
    "- La primera lectura mostrará los valores antes de realizar cualquier movimiento\n",
    "- La segunda lectura se hará después de girar a la derecha\n",
    "- La tercera lectura se hará después de girar a la izquierda\n",
    "- La cuarta y última lectura se hará al mover el TILT a 90º"
   ]
  },
  {
   "cell_type": "code",
   "execution_count": null,
   "id": "f769d44e",
   "metadata": {},
   "outputs": [],
   "source": [
    "from robobopy.Robobo import Robobo\n",
    "rob = Robobo(\"localhost\")\n",
    "rob.connect()\n",
    "\n",
    "#Se añade un retardo para que se haga la lectura bien, porque de lo contrario, dará todo ceros.\n",
    "rob.wait(1)\n",
    "print(f\"Primera lectura: {rob.readOrientationSensor()} grados\")\n",
    "#Gira hacia la derecha\n",
    "rob.wait(1)\n",
    "rob.moveWheelsByTime(-2,2,3)\n",
    "print(f\"Segunda lectura: {rob.readOrientationSensor()} grados\")\n",
    "rob.wait(1)\n",
    "#Gira hacia la izquierda\n",
    "rob.moveWheelsByTime(3,-3,3)\n",
    "print(f\"Tercera lectura: {rob.readOrientationSensor()} grados\")\n",
    "rob.wait(1)\n",
    "#Mueve el TILT a 90º\n",
    "rob.moveTiltTo(90,15)\n",
    "print(f\"Cuarta lectura: {rob.readOrientationSensor()} grados\")\n",
    "rob.wait(1)"
   ]
  },
  {
   "cell_type": "markdown",
   "id": "7a97ecb8",
   "metadata": {},
   "source": [
    "Una vez realizadas las pruebas, y tras haber visto las lecturas, se pueden llegar a esas conclusiones:\n",
    "\n",
    "- **Yaw** siempre vale 0 cuando el robot se conecta. Si Robobo gira a la izquierda, el rango de valores va de 0 a 180. Y si gira hacia la derecha, el rango es de 0 a -180. Si por ejemplo, sigue girando hacia la derecha y se excede del rango, pasará a recibir los valores positivos del semicírculo izquierdo. Esta distribución también se aplica a *pitch* y *roll*.\n",
    "\n",
    "- **Pitch** vale 15 cuando el robot se conecta, porque el TILT está a una inclinación de 75º por defecto, lo que quiere decir que el ángulo 0 es cuando el smartphone está de pie y recto. Cuanto más inclinado esté hacia atrás está el TILT o mayor en la inclinación del suelo, mayor será el valor de este eje. Y cuanto más esté inclinado hacia abajo, menor será el valor.\n",
    "\n",
    "- **Roll** no cambió nada en esta prueba porque esta orientación depende de lateral del robot. Pero si la parte izquierda está en una posición más elevada que la derecha, el valor será mayor que 0, y si la derecha está más elevada, este valor será menor que 0. Esto se pueda dar en un suelo irregular o con baches, y es de utilidad para evitar que el robot pueda volcar."
   ]
  },
  {
   "cell_type": "markdown",
   "id": "3b18af66",
   "metadata": {},
   "source": [
    "Ahora que ya compredemos cómo funciona este sensor, probamos el siguiente programa, que hace lo siguiente:\n",
    "\n",
    "- En un mundo cualquiera, se le pide al eje cardinal: norte, sur, este u oeste. Norte representa los 0 grados, Sur los 180, Este los 270, y Oeste los 90.\n",
    "- Robobo girará sobre el eje z, y en ese momento se usará la lectura del **yaw** porque está asociado a los giros de ese eje. Girará hacia la derecha o hacia la izquierda dependiendo del tiempo que le tome hacer el giro. Por ejemplo, si el ángulo actual es 5, y el ángulo a desear es el de 180, girará hacia la izquierda porque le tomaría menos que girando hacia la derecha.\n",
    "- Para que sea más fácil hacer las condiciones que se encargan de decidir si se gira hacia la derecha o hacia la izquierda, se ha añadido una condición que hace que los valores negativos del lado derecho sumen 360, de forma que la lectura sea de 0 a 360 en el sentido antihorario y no de 0 a 180 en el semicirculo izquierdo para pasar de -180 a 0 cuando se va al semicirculo derecho en el sentido antihorario."
   ]
  },
  {
   "cell_type": "markdown",
   "id": "7a72e6d7",
   "metadata": {},
   "source": [
    "**NOTA**: La conversión de (180,0) y (0,-180 ) grados a ser de (0 a 360) se puede aplicar también en pitch y roll en caso de que se desee realizar condiciones más sencillas."
   ]
  },
  {
   "cell_type": "code",
   "execution_count": null,
   "id": "d4804023",
   "metadata": {},
   "outputs": [],
   "source": [
    "from robobopy.Robobo import Robobo\n",
    "rob = Robobo(\"localhost\")\n",
    "rob.connect()\n",
    "\n",
    "#Se le pide al usuario el polo\n",
    "polo=input(\"¿En qué polo quieres que mire Robobo? ¿Norte (N), Sur (S), Este (E) u Oeste(O)?: \")\n",
    "\n",
    "#Dependiendo del polo, se asignara un angulo objetivo\n",
    "match polo:\n",
    "    case \"N\":\n",
    "        ang=0\n",
    "    case \"O\":\n",
    "        ang=90\n",
    "    case \"E\":\n",
    "        ang=-90\n",
    "    case \"S\":\n",
    "        ang=180\n",
    "\n",
    "\n",
    "#Primera lectura para determinar si tiene que girar a la izquierda o a la derecha dependiendo del trayecto más corto\n",
    "lectura=rob.readOrientationSensor().yaw\n",
    "\n",
    "#Bucle \n",
    "if lectura<ang or lectura>(ang+360):\n",
    "    rob.moveWheels(4,-4)\n",
    "elif lectura>ang or lectura<(ang+360):\n",
    "    rob.moveWheels(-4,4)\n",
    "\n",
    "while (lectura>ang+6 or lectura<ang-6):\n",
    "    lectura=rob.readOrientationSensor().yaw\n",
    "    print(lectura)\n",
    "    rob.wait(0.1)\n",
    "\n",
    "rob.stopMotors()\n",
    "rob.disconnect()"
   ]
  },
  {
   "cell_type": "markdown",
   "id": "1a301118",
   "metadata": {},
   "source": [
    "<a id=\"racc\" style=\"text-decoration:none;\">\n",
    "<h3 style=\"color: #d60e8c;\">readAccelerationSensor()</h2>\n",
    "</a>\n",
    "\n",
    "\n",
    "**Función**: Lee la aceleración a la que está sometida el robot.\n",
    "\n",
    "**Devuelve:**\n",
    "- La aceleración (Acceleration). Ver Clase Acceleration."
   ]
  },
  {
   "cell_type": "markdown",
   "id": "f27032cc",
   "metadata": {},
   "source": [
    "\n",
    "<a id=\"cacc\" style=\"text-decoration:none;\">\n",
    "<h3 style=\"color: #d60e8c;\">Clase Acceleration</h2>\n",
    "</a>\n",
    "\n",
    "\n",
    "Representa la aceleración a la que está sometido el robot en cada eje.\n",
    "\n",
    "**Atributos:**\n",
    "- *x (float)*: aceleración en el eje X en m/s2.\n",
    "- *y (float)*: aceleración en el eje Y en m/s2.\n",
    "- *z (float)*: aceleración en el eje Z axis (m/s2).\n",
    "\n",
    "\n",
    "Estos atributos hacen referencia al aumento o disminución de la velocidad de forma progresiva en cada eje. "
   ]
  },
  {
   "cell_type": "markdown",
   "id": "2031a9dc",
   "metadata": {},
   "source": [
    "El acelerómetro de un smartphone **suele compartir el mismo eje XYZ** que el del giroscopio que se emplea para medir la orientación.  Actualmente en el simulador, los ejes son diferentes.\n",
    "\n",
    "Los ejes del acelerómetro, cuando el smarthphone de Robobo está recto, son estos:\n",
    "\n",
    "- x: Representa el movimiento horizontal (de lado a lado). Por ejemplo, si giras el móvil de izquierda a derecha o lo mueves lateralmente, el acelerómetro detecta cambios en este eje.\n",
    "- z: Representa el movimiento vertical (de arriba abajo). Detecta, por ejemplo, cuando levantas o bajas el móvil.\n",
    "- y: Representa el movimiento en profundidad (hacia adelante o atrás). Detecta cuando el móvil se mueve hacia adelante, hacia atrás o perpendicular al suelo.\n"
   ]
  },
  {
   "cell_type": "markdown",
   "id": "d1b1c044",
   "metadata": {},
   "source": [
    "En robótica móvil, el acelerómetro se suele usar para comprobar si el robot sufrió alguna caída o golpe, o si está atascado (los motores se mueven pero no hay aceleración). No es un sensor simple, por lo que dejamos como opcional probar el siguiente ejemplo de su uso:"
   ]
  },
  {
   "cell_type": "markdown",
   "id": "f403ba15",
   "metadata": {},
   "source": [
    "**IMPORTANTE**: El siguiente ejemplo requiere tener la extensión **matplotlib** instalada. **Matplotlib** es una extensión de Python que permite realizar gráficas, y el ejemplo que váis a ejecutar va a crear tres gráficas distintas para cada eje del acelerómetro.\n",
    "\n",
    "Abrid el mapa **TEST PLAZE**  con la opción de \"mundos aleatorios\" desactivada y ejecutad el código de abajo:\n",
    "\n",
    "- El programa dura 160 ciclos de 100 ms cada uno. En cada ciclo, se guardarán los valores leídos por la función del acelerómetro en 3 listas, una por cada eje de coordenadas.\n",
    "\n",
    "**NOTA**: Los valores se convertirán de m/s^2 a mm/s^2 debido a que los valores leídos son demasiado bajos para usar la medida en metros.\n",
    "- Cuando hayan pasado 20 ciclos, Robobo se moverá de forma constante a una velocidad de 50 durante 3 segundos. En este instante se deberá notar el primer pico en las gráficas.\n",
    "- Cuando el programa esté en el ciclo número 100, Robobo se moverá de forma constante a su velocidad máxima (100) durante 3 segundos. En este momento se deberá notar el segundo pico en las gráficas.\n",
    "- Cuando hayan los 160 ciclos, se crearán 3 gráficas mostrando las medidas de cada eje."
   ]
  },
  {
   "cell_type": "code",
   "execution_count": null,
   "id": "66ff2b9e",
   "metadata": {},
   "outputs": [],
   "source": [
    "from robobopy.Robobo import Robobo\n",
    "import matplotlib\n",
    "import matplotlib.pyplot as plt\n",
    "import numpy as np\n",
    "\n",
    "rob = Robobo(\"localhost\")\n",
    "rob.connect()\n",
    "\n",
    "#Declaración de variables y listas\n",
    "timeout=0\n",
    "X=[]\n",
    "Y=[]\n",
    "Z=[]\n",
    "\n",
    "\n",
    "#Bucle que termina tras realizar 160 iteraciones\n",
    "while timeout<160:\n",
    "\n",
    "    #Dependiendo del valor del timeout, se activarán los comandos de las ruedas\n",
    "    match timeout:\n",
    "\n",
    "        case 20:\n",
    "            rob.moveWheelsByTime(50,50,3)\n",
    "\n",
    "        case 100:\n",
    "            rob.moveWheelsByTime(100,100,3)\n",
    "\n",
    "    rob.wait(0.1)\n",
    "    #print(f\"Lectura: {rob.readAccelerationSensor()} \")\n",
    "\n",
    "    X.append((rob.readAccelerationSensor().x)*1000)\n",
    "    Y.append((rob.readAccelerationSensor().y)*1000)\n",
    "    Z.append((rob.readAccelerationSensor().z)*1000)\n",
    "    timeout+=1\n",
    "\n",
    "#Se paran los motores\n",
    "rob.stopMotors()\n",
    "\n",
    "#Se realizan las gráficas\n",
    "plt.figure()\n",
    "\n",
    "plt.ylabel('x (mm/s^2)', fontsize=15, color='blue')\n",
    "plt.xlabel('cuentas', fontsize=15, color='blue')\n",
    "plt.plot(range(1,161),X)\n",
    "plt.figure()\n",
    "\n",
    "plt.ylabel('y (mm/s^2)', fontsize=15, color='red')\n",
    "plt.xlabel('cuentas', fontsize=15, color='red')\n",
    "plt.plot(range(1,161),Y,color='red' )\n",
    "plt.figure()\n",
    "\n",
    "plt.ylabel('z (mm/s^2)', fontsize=15, color='green')\n",
    "plt.xlabel('cuentas', fontsize=15, color='green')\n",
    "plt.plot(range(1,161),Z,color='green' )\n",
    "rob.disconnect()"
   ]
  },
  {
   "cell_type": "markdown",
   "id": "3fbd986d",
   "metadata": {},
   "source": [
    "Una vez se haya ejecutado el programa y realizado las gráficas, se van a explicar los resultados:\n",
    "\n",
    "- La gráfica **x** suele dar esos valores debido a que a veces, Robobo se puede desviar ligeramente a la derecha o a la izquierda.\n",
    "- La gráfica **y** es la que da los valores más altos debido a que Robobo se mueve hacia delante.\n",
    "- La gráfica **z** es la que da los valores más bajos debido a que está avanzando en línea recta sin pasar por ninguna rampa o camino con un desnivel de altura."
   ]
  },
  {
   "cell_type": "markdown",
   "id": "3bfe083d",
   "metadata": {},
   "source": [
    "Con esta prueba se quiere demostrar lo complejo que es utilizar el acelerómetro para ejercicios con Robobo, y que por las dimensiones del mismo, no todos los ejes darán los mismos valores aunque se hagan pruebas extremas."
   ]
  },
  {
   "cell_type": "markdown",
   "id": "b5047ab7",
   "metadata": {},
   "source": [
    "<a id=\"ej\" style=\"text-decoration:none;\">\n",
    "<h1 style=\"color: #d60e8c; border-bottom: 2px solid #d60e8c;padding-bottom: 5px;\">Ejercicios</h1>\n",
    "</a>"
   ]
  },
  {
   "cell_type": "markdown",
   "id": "fe2c6723",
   "metadata": {},
   "source": [
    "**EJERCICIO 1**\n",
    "\n",
    "Carga el mundo **FOUR WALLS**, y mediante el método *moveWheels()*, intenta recrear el siguiente recorrido. Para hacer los giros debéis de utilizar el método *readOrientationSensor()*.\n",
    "\n",
    "Trata de utilizar el menor número de movimientos posible.\n",
    "\n",
    "<div style=\"margin-bottom: 40px;\">\n",
    "    <div style=\"float:center;\">\n",
    "        <br/>\n",
    "        <img src=\"img/carrera.avif\" width=\"500\"/>\n",
    "    </div>\n",
    "</div>"
   ]
  },
  {
   "cell_type": "code",
   "execution_count": null,
   "id": "819d1662",
   "metadata": {},
   "outputs": [],
   "source": [
    "#INSERTAR CÓDIGO AQUÍ"
   ]
  },
  {
   "cell_type": "markdown",
   "id": "82dad208",
   "metadata": {},
   "source": [
    "**EJERCICIO 2**\n",
    "\n",
    "Carga el mundo **SLOPE**, y haz que Robobo vaya hacia delante constantemente a una velocidad de **15**. Cuando esté subiendo y note una inclinación de mínimo 4º, los leds Front-C, Front-LL y Front-RR deberán estar encendidos y de color azul, y Robobo debe de poner una cara de **sorprendido**. Si la inclinación es inferior a -2º, los leds Front-L y Front-R deberán estar encendidos y de color rojo, y Robobo debe de poner una cara de **enfadado**. Si no se cumple ninguna de las dos condiciones, los leds deberán estar apagados y Robobo debe de poner una cara **normal**.\n",
    "\n",
    "El programa deberá estar en funcionamiento durante 45 segundos aproximadamente, luego se apagarán los motores y finalizará el programa."
   ]
  },
  {
   "cell_type": "code",
   "execution_count": null,
   "id": "dcfad38a",
   "metadata": {},
   "outputs": [],
   "source": [
    "#INSERTAR CÓDIGO AQUÍ"
   ]
  }
 ],
 "metadata": {
  "kernelspec": {
   "display_name": "Python 3",
   "language": "python",
   "name": "python3"
  },
  "language_info": {
   "codemirror_mode": {
    "name": "ipython",
    "version": 3
   },
   "file_extension": ".py",
   "mimetype": "text/x-python",
   "name": "python",
   "nbconvert_exporter": "python",
   "pygments_lexer": "ipython3",
   "version": "3.12.6"
  }
 },
 "nbformat": 4,
 "nbformat_minor": 5
}
