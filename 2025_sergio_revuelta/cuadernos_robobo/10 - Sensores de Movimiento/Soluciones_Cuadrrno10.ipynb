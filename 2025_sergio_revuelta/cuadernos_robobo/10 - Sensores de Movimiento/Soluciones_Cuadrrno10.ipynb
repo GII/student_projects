{
 "cells": [
  {
   "cell_type": "markdown",
   "id": "1961a569",
   "metadata": {},
   "source": [
    "EJERCICIO 1"
   ]
  },
  {
   "cell_type": "code",
   "execution_count": null,
   "id": "95910464",
   "metadata": {},
   "outputs": [],
   "source": [
    "from robobopy.Robobo import Robobo\n",
    "\n",
    "rob = Robobo(\"localhost\")\n",
    "rob.connect()\n",
    "\n",
    "\n",
    "#Primer tramo recto\n",
    "rob.moveWheels(20,20)\n",
    "rob.wait(3)\n",
    "\n",
    "#Primera curva. Bucle que comprueba cuántos grados está realizando\n",
    "rob.moveWheels(2,15)\n",
    "while rob.readOrientationSensor().yaw>-170:\n",
    "    rob.wait(0.2)\n",
    "\n",
    "\n",
    "#Segundo tramo recto\n",
    "rob.moveWheels(20,20)\n",
    "rob.wait(3)\n",
    "\n",
    "#Segunda curva. Bucle que comprueba cuántos grados está realizando\n",
    "rob.moveWheels(15,2)\n",
    "while rob.readOrientationSensor().yaw<-10:\n",
    "    rob.wait(0.2)\n",
    "\n",
    "\n",
    "#Tercer tramo recto\n",
    "rob.moveWheels(20,20)\n",
    "rob.wait(3)\n",
    "\n",
    "rob.stopMotors()"
   ]
  },
  {
   "cell_type": "markdown",
   "id": "cf09c140",
   "metadata": {},
   "source": [
    "EJERCICIO 2"
   ]
  },
  {
   "cell_type": "code",
   "execution_count": null,
   "id": "a3c7602d",
   "metadata": {},
   "outputs": [],
   "source": [
    "from robobopy.Robobo import Robobo\n",
    "from robobopy.utils.Color import Color\n",
    "from robobopy.utils.LED import LED\n",
    "from robobopy.utils.Emotions import Emotions\n",
    "rob = Robobo(\"localhost\")\n",
    "rob.connect()\n",
    "\n",
    "\n",
    "#Parámetros iniciales. Se pone recto el móvil y se arrancan los motores\n",
    "rob.moveTiltTo(90,10)\n",
    "rob.moveWheels(20,20)\n",
    "rob.wait(3)\n",
    "\n",
    "tiempo=0\n",
    "while tiempo<25:\n",
    "    print(rob.readOrientationSensor().pitch)\n",
    "\n",
    "    #Cuando sube la pendiente\n",
    "    if rob.readOrientationSensor().pitch>4:\n",
    "        rob.setEmotionTo(Emotions.SURPRISED)\n",
    "        rob.setLedColorTo(LED.FrontLL,Color.BLUE)\n",
    "        rob.setLedColorTo(LED.FrontRR,Color.BLUE)\n",
    "        rob.setLedColorTo(LED.FrontC,Color.BLUE)\n",
    "        rob.wait(0.15)\n",
    "        rob.setLedColorTo(LED.FrontL,Color.OFF)\n",
    "        rob.setLedColorTo(LED.FrontR,Color.OFF)\n",
    "    #Cuando baja la pendiente\n",
    "    elif rob.readOrientationSensor().pitch<-2:\n",
    "        rob.setEmotionTo(Emotions.ANGRY)\n",
    "        rob.setLedColorTo(LED.FrontLL,Color.OFF)\n",
    "        rob.setLedColorTo(LED.FrontRR,Color.OFF)\n",
    "        rob.setLedColorTo(LED.FrontC,Color.OFF)\n",
    "        rob.wait(0.15)\n",
    "        rob.setLedColorTo(LED.FrontL,Color.RED)\n",
    "        rob.setLedColorTo(LED.FrontR,Color.RED)\n",
    "    #Cuando avanza sin inclinaciones\n",
    "    else:\n",
    "        rob.setEmotionTo(Emotions.NORMAL)\n",
    "        rob.setLedColorTo(LED.FrontLL,Color.OFF)\n",
    "        rob.setLedColorTo(LED.FrontRR,Color.OFF)\n",
    "        rob.setLedColorTo(LED.FrontC,Color.OFF)\n",
    "        rob.wait(0.15)\n",
    "        rob.setLedColorTo(LED.FrontL,Color.OFF)\n",
    "        rob.setLedColorTo(LED.FrontR,Color.OFF)    \n",
    "    rob.wait(0.85)\n",
    "    tiempo+=1\n",
    "\n",
    "\n",
    "#Se detienen los motores y se termina el programa\n",
    "rob.stopMotors()\n",
    "rob.disconnect()"
   ]
  }
 ],
 "metadata": {
  "kernelspec": {
   "display_name": "Python 3",
   "language": "python",
   "name": "python3"
  },
  "language_info": {
   "codemirror_mode": {
    "name": "ipython",
    "version": 3
   },
   "file_extension": ".py",
   "mimetype": "text/x-python",
   "name": "python",
   "nbconvert_exporter": "python",
   "pygments_lexer": "ipython3",
   "version": "3.12.6"
  }
 },
 "nbformat": 4,
 "nbformat_minor": 5
}
