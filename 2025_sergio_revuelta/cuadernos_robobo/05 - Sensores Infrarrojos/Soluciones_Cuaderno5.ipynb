{
 "cells": [
  {
   "cell_type": "markdown",
   "id": "6de46357",
   "metadata": {},
   "source": [
    "EJERCICIO 1"
   ]
  },
  {
   "cell_type": "code",
   "execution_count": null,
   "id": "01235807",
   "metadata": {},
   "outputs": [],
   "source": [
    "from robobopy.Robobo import Robobo\n",
    "from robobopy.utils.Wheels import Wheels\n",
    "from robobopy.utils.IR import IR\n",
    "\n",
    "rob = Robobo(\"localhost\")\n",
    "rob.connect()\n",
    "\n",
    "rob.moveWheels(25,25)\n",
    "\n",
    "\n",
    "while rob.readIRSensor(IR.FrontC)<150:\n",
    "    rob.wait(0.2)\n",
    "\n",
    "rob.moveWheelsByDegrees(Wheels.L,270,15)\n",
    "\n",
    "rob.moveWheels(25,25)\n",
    "\n",
    "while rob.readIRSensor(IR.FrontL)>100 or rob.readIRSensor(IR.FrontLL)>100 or rob.readIRSensor(IR.BackL)>100:\n",
    "    rob.wait(0.2)\n",
    "\n",
    "rob.stopMotors()"
   ]
  },
  {
   "cell_type": "markdown",
   "id": "f822b198",
   "metadata": {},
   "source": [
    "EJERCICIO 2"
   ]
  },
  {
   "cell_type": "code",
   "execution_count": 12,
   "id": "5d1a207f",
   "metadata": {},
   "outputs": [
    {
     "name": "stdout",
     "output_type": "stream",
     "text": [
      "Connecting\n",
      "wait\n",
      "wait\n",
      "wait\n",
      "wait\n",
      "wait\n",
      "wait\n",
      "wait\n",
      "wait\n",
      "wait\n",
      "wait\n",
      "wait\n",
      "wait\n",
      "wait\n",
      "wait\n",
      "wait\n",
      "wait\n",
      "wait\n",
      "wait\n",
      "wait\n",
      "wait\n",
      "### connection established ###\n",
      "### closed connection ###\n"
     ]
    }
   ],
   "source": [
    "from robobopy.Robobo import Robobo\n",
    "from robobopy.utils.Wheels import Wheels\n",
    "from robobopy.utils.IR import IR\n",
    "\n",
    "rob = Robobo(\"localhost\")\n",
    "rob.connect()\n",
    "\n",
    "giro=input(\"Si Robobo se encontrara una pared,¿Hacia dónde girará? ¿Hacia la derecha (D) o hacia la izquierda (I)?\")\n",
    "\n",
    "ciclos=0\n",
    "\n",
    "while ciclos<5:\n",
    "    rob.moveWheels(15,15)\n",
    "    while rob.readIRSensor(IR.FrontC)<125:\n",
    "        rob.wait(0.2)\n",
    "    \n",
    "    if giro==\"D\":\n",
    "        rob.moveWheels(-10,10)\n",
    "        while rob.readIRSensor(IR.FrontLL)>100 or rob.readIRSensor(IR.BackL)<50:\n",
    "            rob.wait(0.2)\n",
    "    elif giro==\"I\":\n",
    "        rob.moveWheels(10,-10)\n",
    "        while rob.readIRSensor(IR.FrontRR)>100 or rob.readIRSensor(IR.BackR)<50:\n",
    "            rob.wait(0.2)\n",
    "\n",
    "    ciclos+=1\n",
    "\n",
    "rob.stopMotors()\n",
    "rob.disconnect()"
   ]
  },
  {
   "cell_type": "markdown",
   "id": "7a205425",
   "metadata": {},
   "source": [
    "EJERCICIO 3"
   ]
  },
  {
   "cell_type": "code",
   "execution_count": null,
   "id": "223e4876",
   "metadata": {},
   "outputs": [],
   "source": [
    "from robobopy.Robobo import Robobo\n",
    "from robobopy.utils.Wheels import Wheels\n",
    "from robobopy.utils.IR import IR\n",
    "from robobopy.utils.Emotions import Emotions\n",
    "rob = Robobo(\"localhost\")\n",
    "rob.connect()\n",
    "\n",
    "ciclos=0\n",
    "while ciclos<8:\n",
    "    rob.moveWheels(40,40)\n",
    "    rob.wait(0.2)\n",
    "    while rob.readIRSensor(IR.FrontC)<200 and rob.readIRSensor(IR.FrontLL)<200 and rob.readIRSensor(IR.FrontRR)<200 and (rob.readIRSensor(IR.FrontL)>30 and rob.readIRSensor(IR.FrontR)>30):\n",
    "        rob.wait(0.2)\n",
    "\n",
    "    rob.stopMotors()\n",
    "    rob.setEmotionTo(Emotions.AFRAID)\n",
    "    if rob.readIRSensor(IR.FrontC)>200 or rob.readIRSensor(IR.FrontLL)>200 or rob.readIRSensor(IR.FrontRR)>200:\n",
    "        rob.sayText(\"CASI CHOCO\")\n",
    "    elif (rob.readIRSensor(IR.FrontL)<30 or rob.readIRSensor(IR.FrontR)<30):\n",
    "        rob.sayText(\"CASI ME CAIGO\")\n",
    "\n",
    "    rob.moveWheelsByTime(-15,-15,2)\n",
    "\n",
    "    rob.moveWheelsByTime(-15,15,1)\n",
    "    rob.setEmotionTo(Emotions.NORMAL)\n",
    "    rob.wait(0.2)\n",
    "    ciclos+=1\n",
    "\n",
    "rob.disconnect()"
   ]
  }
 ],
 "metadata": {
  "kernelspec": {
   "display_name": "Python 3",
   "language": "python",
   "name": "python3"
  },
  "language_info": {
   "codemirror_mode": {
    "name": "ipython",
    "version": 3
   },
   "file_extension": ".py",
   "mimetype": "text/x-python",
   "name": "python",
   "nbconvert_exporter": "python",
   "pygments_lexer": "ipython3",
   "version": "3.12.6"
  }
 },
 "nbformat": 4,
 "nbformat_minor": 5
}
