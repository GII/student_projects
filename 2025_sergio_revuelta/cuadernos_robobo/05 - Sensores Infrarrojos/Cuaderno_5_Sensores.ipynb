{
 "cells": [
  {
   "cell_type": "markdown",
   "id": "e41d404e",
   "metadata": {},
   "source": [
    "<table width=\"100%\">\n",
    "<tr>\n",
    "    <td align=\"left\" width=\"50%\" style=\"border: 0px; padding-left: 20px;\">\n",
    "        <img src=\"img/udc.png\" width=\"300\">\n",
    "    </td>\n",
    "    <td align=\"right\" width=\"50%\" style=\"border: 0px; padding-right: 50px;\">\n",
    "        <img src=\"img/logo_mint.svg\" width=\"250\">\n",
    "    </td>    \n",
    "</tr>\n",
    "</table>"
   ]
  },
  {
   "cell_type": "markdown",
   "id": "d02c0513",
   "metadata": {},
   "source": [
    "<center>\n",
    "<h1 style=\"color: #d60e8c;\">Robobo: Sensores Infrarrojos</h1> \n",
    "</center>\n"
   ]
  },
  {
   "cell_type": "markdown",
   "id": "307941b5",
   "metadata": {},
   "source": [
    "<h2>Contenidos</h2>\n",
    "\n",
    "<div class=\"alert alert-block alert-info\" \n",
    "     style=\"margin-top: 20px; padding-top:10px; border: 1px solid #d60e8c; border-radius: 20px; background:transparent;\">\n",
    "    <ul>\n",
    "        <li><a href=\"#intro\">Introducción</a></li>\n",
    "        <ul>\n",
    "            <li><a href=\"#irsensor\">readIRSensor(id)</a></li>\n",
    "            <li><a href=\"#allirsensor\">readAllIRSensor()</a></li>\n",
    "        </ul>\n",
    "        <li><a href=\"#ej\">Ejercicios</a></li>\n",
    "    </ul>\n",
    "</div>"
   ]
  },
  {
   "cell_type": "markdown",
   "id": "dbaba59d",
   "metadata": {},
   "source": [
    "<a id=\"intro\" style=\"text-decoration:none;\">\n",
    "<h1 style=\"color: #d60e8c; border-bottom: 2px solid #d60e8c;padding-bottom: 5px;\">Introducción</h1>\n",
    "</a>\n",
    "\n",
    "Un **sensor infrarrojo** es un dispostivo optoeléctronico que permite captar radiación electromagnética en el rango infrarrojo, que no es visible para el ojo humano. En robótica se utilizan habitualmente para medir distancias, utilizando un LED infrarrojo que emite radiación de manera constante y un fotoreceptor que puede medir la cantidad de luz recibida tras impactar con los objetos que tenga alrededor. Como todos los sensores, tienen unos límites de detección fuera de los cuales no perciben nada.\n",
    "\n",
    "Si quieres más información sobre cómo funcionan estos sensores, puedes visitar [esta web](https://www.luisllamas.es/detectar-obstaculos-con-sensor-infrarrojo-y-arduino/).\n",
    "\n",
    "Robobo cuenta con varios sensores infrarrojos que le permiten detectar si hay objetos cerca: cinco en la parte\n",
    "delantera y tres en la parte trasera, como se muestra en la figura inferior. Ojo, estos sensores no nos dan la distancia en centímetros o metros, sino que nos devuelven la **intensidad de luz recibida**. Por tanto, cuanto más altos sean los valores devueltos por un infrarrojo, más cerca estarán los objetos de alrededor."
   ]
  },
  {
   "cell_type": "markdown",
   "id": "8d9395f4",
   "metadata": {},
   "source": [
    "<div style=\"margin-bottom: 20px;\">\n",
    "    <div style=\"float:center;\">\n",
    "        <br/>\n",
    "        <img src=\"img/sensores_robobo.PNG\" width=\"600\"/>\n",
    "    </div>\n",
    "</div>"
   ]
  },
  {
   "cell_type": "markdown",
   "id": "9fbe271f",
   "metadata": {},
   "source": [
    "**IMPORTANTE**: No todos los sensores tienen la misma inclinación. **FrontR**, **FrontL**, y **BackC** están ligeramente inclinados hacia abajo, para poder medir la distancia al suelo y poder detectar agujeros o bordes en mesas. El resto apunta hacia delante para poder detectar objetos enfrente o detrás."
   ]
  },
  {
   "cell_type": "markdown",
   "id": "db63a4da",
   "metadata": {},
   "source": [
    "Para saber los valores de los sensores, se puede usar la ventana de monitorización:"
   ]
  },
  {
   "cell_type": "markdown",
   "id": "189f697c",
   "metadata": {},
   "source": [
    "<a id=\"irsensor\" style=\"text-decoration:none;\">\n",
    "<h3 style=\"color: #d60e8c;\">readIRSensor(id)</h2>\n",
    "</a>\n",
    "\n",
    "**Función:** Lee el valor medido por el sensor infrarrojo indicado.\n",
    "\n",
    "**Parámetros:**\n",
    "- *id (IR)*: El sensor del que se quiere obtener el valor. Ver Enumerado IR.\n",
    "\n",
    "**Devuelve:**\n",
    "- *Valor medido (int)*. Los valores son positivos. Cuanto mayor es el valor devuelto, menor es\n",
    "la distancia a la que se encuentra el objeto detectado. Este valor no depende de la iluminación visible, pero sí de la superficie a detectar, ya que la reflexión puede cambiar.\n",
    "\n",
    "\n",
    "**Enumerado IR**\n",
    " <ul>\n",
    "    <li>BackR: ‘Back-R’. Trasero derecho.</li>\n",
    "    <li>BackC: ‘Back-C’. Trasero central.</li>\n",
    "    <li>FrontR: ‘Front-R’. Frontal derecho medio.</li>\n",
    "    <li>FrontRR: ‘Front-RR’. Frontal derecho extremo.</li>\n",
    "    <li>FrontC: ‘Front-C’. Frontal central.</li>\n",
    "    <li>FrontL: ‘Front-L’. Frontal izquierdo medio.</li>\n",
    "    <li>FrontLL: ‘Front-LL’. Frontal izquierdo extremo.</li>\n",
    "    <li>BackL: ‘Back-L’. Trasero izquierdo.</li>\n",
    "</ul>"
   ]
  },
  {
   "cell_type": "markdown",
   "id": "e971811f",
   "metadata": {},
   "source": [
    "Para probar este método, primero debemos importar las librerías necesarias y realizar la conexión con el robot:"
   ]
  },
  {
   "cell_type": "code",
   "execution_count": null,
   "id": "18c812f3",
   "metadata": {},
   "outputs": [],
   "source": [
    "from robobopy.Robobo import Robobo\n",
    "from robobopy.utils import Wheels\n",
    "from robobopy.utils.IR import IR\n",
    "\n",
    "#Se conecta con Robobo en el simulador\n",
    "rob = Robobo(\"localhost\")\n",
    "rob.connect()"
   ]
  },
  {
   "cell_type": "markdown",
   "id": "92c229e6",
   "metadata": {},
   "source": [
    "A continuación, probaremos un pequeño programa que resuelve este caso:\n",
    "\n",
    "*El siguiente programa hace que Robobo se mueva hacia delante hasta que encuentre un obstáculo\n",
    "cercano en el sensor delantero central (el valor de 100 es orientativo, y debe ser ajustado al tipo de objeto a detectar). Cuando eso ocurre, se mueve hacia atrás durante 1 segundo para\n",
    "separase del obstáculo, luego gira en el sitio 180º aproximadamente y, finalmente, se mueve en\n",
    "dirección contraria durante 2 segundos*"
   ]
  },
  {
   "cell_type": "markdown",
   "id": "e8fd99d0",
   "metadata": {},
   "source": [
    "Se recomienda probarlo en el entorno **AVOID THE BLOCK**."
   ]
  },
  {
   "cell_type": "code",
   "execution_count": null,
   "id": "390f0e5f",
   "metadata": {},
   "outputs": [],
   "source": [
    "#Arranca motores\n",
    "rob.moveWheels(30,30)\n",
    "\n",
    "#Se mueve de forma constante hasta que detecte un bloque de frente\n",
    "while rob.readIRSensor(IR.FrontC) < 100:\n",
    "    rob.wait(0.1)\n",
    "rob.stopMotors()\n",
    "\n",
    "rob.moveWheelsByTime(-20,-20,1)\n",
    "rob.moveWheelsByTime(28,-28,1)\n",
    "rob.moveWheelsByTime(30,30,2)\n",
    "\n",
    "rob.disconnect()"
   ]
  },
  {
   "cell_type": "markdown",
   "id": "4917dfab",
   "metadata": {},
   "source": [
    "El programa anterior es un ejemplo muy importante para comprender cómo se deben usar los sensores en robótica:\n",
    "1. Primero, el robot se empieza a mover sin tiempo predefinido\n",
    "\n",
    "2. Entramos en un bucle que comprueba si el valor del sensor delantero frontal es menor que 100 (objeto cercano). Mientras eso no ocurra y los valores leídos sean mayores de 100 (objeto lejano), el programa se quedará ejecutando el bucle, que no debe hacer nada, y avanzando hacia delante. \n",
    "\n",
    "**NOTA 1**: Es recomendable evitar lecturas del sensor demasiado frecuentes para evitar que el procesador del robot se ralentice, por lo que hemos puesto simplemente una espera de 0.1 segundos dentro del bucle. Esto quiere decir que mediremos cada 0.1 segundos, más que suficiente en este ejemplo.\n",
    "\n",
    "**NOTA 2**: La condición de terminación del bucle es un < y no un ==, ¿por qué?. Pues porque estamos programando un sistema real, con un sensor real, y que devuelva un valor exacto de 100 es casi imposible. Lo más probable es que nos devuelva valores como 100.5, 100.4, 99.8, etc. Al poner un <, en cuanto el valor medido baje de 100, el bucle se termina, logrando el efecto deseado.\n",
    "\n",
    "3. Tras salir del bucle, se para el robot. \n",
    "\n",
    "**NOTA 3**: En los sistemas reales existen inexactitudes diversas que debemos suponer que pueden ocurrir para programar adecuadamente el comportamiento. En este caso, al utilizar un <, el robot no parará exactamente cuando detecte 100, y además, detener los motores no es inmediato (inercia).\n",
    "4. Las 3 instrucciones finales del ejemplo anterior hacen que el robot se mueva hacia atrás, gire y vuelva a moverse en dirección contraria.\n",
    "\n",
    "Por tanto, debes comprender como funcionan los puntos 1, 2 y 3 anteriores con claridad, ya que **permiten que el robot se pare delante de un objeto independientemente de la distancia a la que se encuentre**. Esto hace que el comportamiento sea realmente autónomo, y pueda funcionar en entornos desconocidos a priori. Para comprobarlo, vete a las opciones de RoboboSim y activa **Comportamiento aleatorio en mundos**. Ahora, cada vez que reinicies el escenario, el bloque estará a una distancia distinta, pero el programa anterior funcionará igualmente."
   ]
  },
  {
   "cell_type": "markdown",
   "id": "7d330c73",
   "metadata": {},
   "source": [
    "En las siguiente capturas se muestra la relación entre la distancia y el valor del sensor que recibe:"
   ]
  },
  {
   "cell_type": "markdown",
   "id": "c4b8d8c6",
   "metadata": {},
   "source": [
    "<div style=\"margin-bottom: 20px;\">\n",
    "    <div style=\"float:center;\">\n",
    "        <br/>\n",
    "        <img src=\"img/IR_1.PNG\" width=\"600\"/>\n",
    "    </div>\n",
    "</div>\n",
    "\n",
    "En la pestaña de los sensores en la pantalla de monitorización se pueden apreciar los siguientes valores:\n",
    "\n",
    "<div style=\"margin-bottom: 20px;\">\n",
    "    <div style=\"float:center;\">\n",
    "        <br/>\n",
    "        <img src=\"img/IR_2.PNG\" width=\"400\"/>\n",
    "    </div>\n",
    "</div>\n",
    "\n",
    "\n",
    "- Los sensores Front-LL y Front-RR dan unos valores más bajos que Front-C por su posición, ya que estos miran desde una dirección más alejada a la pared frontal.\n",
    "\n",
    "- Los sensores Front-L, Front-R y Back-C dan esos valores cuando están en el suelo.\n",
    "\n",
    "\n",
    "Si el Robobo se acerca más a la pared:\n",
    "\n",
    "<div style=\"margin-bottom: 20px;\">\n",
    "    <div style=\"float:center;\">\n",
    "        <br/>\n",
    "        <img src=\"img/IR_3.PNG\" width=\"600\"/>\n",
    "    </div>\n",
    "</div>\n",
    "\n",
    "Dará estos valores:\n",
    "\n",
    "<div style=\"margin-bottom: 20px;\">\n",
    "    <div style=\"float:center;\">\n",
    "        <br/>\n",
    "        <img src=\"img/IR_4.PNG\" width=\"400\"/>\n",
    "    </div>\n",
    "</div>\n"
   ]
  },
  {
   "cell_type": "markdown",
   "id": "5b7f7171",
   "metadata": {},
   "source": [
    "Es importante recordar que los valores leídos **no equivalen a una distancia real en metros**, sino que representa la intensidad de la señal generada por los sensores. La distancia a la que se encuentre y el material del objeto influyen en los valores. Habrá otros obstáculos en los que el valor puede cambiar bastante incluso si están a la misma distancia."
   ]
  },
  {
   "cell_type": "markdown",
   "id": "bdaf1784",
   "metadata": {},
   "source": [
    "Ahora, para que podáis probar los sensores que miran al suelo, hay que cargar el mundo **AVOID FALLING AND PUSH** (No te preocupes por los obstáculos pequeños, ya que tiene una pinza para empujarlos o apartarlos) y abrir la página web de monitorización de Robobo y comprobar qué valores dan los sensores *Front-R,Front-L y Back-C*:"
   ]
  },
  {
   "cell_type": "markdown",
   "id": "c5cd8ee1",
   "metadata": {},
   "source": [
    "El funcionamiento es el siguiente:\n",
    "\n",
    "1. Robobo dice \"Voy hacia delante\" y acto seguido avanza recto a una velocidad de **30**.\n",
    "\n",
    "2. Si *Front-L* o *Front-R* detectan un precicipio (El valor de los sensores empieza a disminuír hasta valores igual o inferiores a 25), se parará\n",
    "\n",
    "3. Robobo dirá \"Ahora voy a andar hacia atrás*, y avanzará hacia **atrás** a una velocidad de **40**.\n",
    "\n",
    "4. Cuando detecte un precicipio con el sensor *Back-C*, el robot se volverá a detener.\n",
    "\n",
    "5. Robobo dirá \"Ya no me muevo más\" y se terminará el programa."
   ]
  },
  {
   "cell_type": "code",
   "execution_count": null,
   "id": "320c741f",
   "metadata": {},
   "outputs": [],
   "source": [
    "rob.connect()\n",
    "rob.sayText(\"VOY HACIA DELANTE\")\n",
    "rob.moveWheels(30,30)\n",
    "\n",
    "\n",
    "\n",
    "#Se mueve hacia adelante hasta que se acerque a un precipicio\n",
    "while rob.readIRSensor(IR.FrontR) > 25 and rob.readIRSensor(IR.FrontL) > 25:\n",
    "    rob.wait(0.1)\n",
    "#Se detiene y dice que andará hacia atrás\n",
    "rob.stopMotors()\n",
    "rob.sayText(\"AHORA VOY A ANDAR HACIA ATRÁS\")\n",
    "\n",
    "#Se mueve hacia atrás hasta que encuentre un precipicio\n",
    "rob.moveWheels(-40,-40)\n",
    "while rob.readIRSensor(IR.BackC) > 25:\n",
    "    rob.wait(0.1)\n",
    "    \n",
    "#Se detiene y termina el programa\n",
    "rob.stopMotors()\n",
    "rob.sayText(\"YA NO ME MUEVO MÁS\")\n",
    "rob.disconnect()"
   ]
  },
  {
   "cell_type": "markdown",
   "id": "2a57e1cd",
   "metadata": {},
   "source": [
    "¿Habéis visto cómo cambian los valores al acercarse a los precipios?"
   ]
  },
  {
   "cell_type": "markdown",
   "id": "6052287d",
   "metadata": {},
   "source": [
    "<a id=\"allirsensor\" style=\"text-decoration:none;\">\n",
    "<h3 style=\"color: #d60e8c;\">readAllIRSensor()</h2>\n",
    "</a>\n",
    "\n",
    "**Función**: Lee el valor de todos los sensores infrarrojos.\n",
    "\n",
    "**Parámetro**:\n",
    "- Valores medidos (dict). Es un diccionario con los valores medidos por todos los sensores IR\n",
    "de la base. Las claves del diccionario son de tipo string, e indican el sensor IR\n",
    "correspondiente. Los valores del diccionario son de tipo int e indican el\n",
    "valor medido por el IR correspondiente"
   ]
  },
  {
   "cell_type": "markdown",
   "id": "362bee2f",
   "metadata": {},
   "source": [
    "Para probar este método, en el mismo mundo anterior, reinicia el escenario y ejecuta estas instrucciones:"
   ]
  },
  {
   "cell_type": "markdown",
   "id": "d8c540a7",
   "metadata": {},
   "source": [
    "El siguiente programa a cargar en el mundo **FOUR WALLS** hace que Robobo se mueva hacia adelante hasta que encuentra un obstáculo\n",
    "cercano en el sensor delantero central:\n",
    "\n",
    "- Los diccionarios son conjunto de datos que contienen valores asociados a una clave. En el caso de este método las claves son los nombres de los sensores infrarrojos. Aquí se usará la clave *'Front-C'*.\n",
    "- El primer bucle sirve para evitar que haya un error a la hora de comparar los valores de las claves en el siguiente bucle, ya que en el momento en que se ejecuta el Robot, es probable que los sensores no estén detectando nada. Por eso la condición del while es que el método sea igual a una lista vacía.\n",
    "\n",
    "- En el segundo bucle, cuando el valor de FrontC sea igual o mayor que 100 (el valor es orientativo, y debe ser ajustado al nivel de luz y al tipo de objeto a detectar), el robot se detendrá."
   ]
  },
  {
   "cell_type": "code",
   "execution_count": null,
   "id": "914fc605",
   "metadata": {},
   "outputs": [],
   "source": [
    "from robobopy.Robobo import Robobo\n",
    "from robobopy.utils import Wheels\n",
    "from robobopy.utils.IR import IR\n",
    "\n",
    "rob = Robobo(\"localhost\")\n",
    "rob.connect()\n",
    "\n",
    "#Se mueve hacia adelante\n",
    "rob.moveWheels(30,30)\n",
    "\n",
    "#Se carga el bucle con tal de que se asegure de que ha recibido los primeros valores sin ningún problema\n",
    "while (rob.readAllIRSensor()==[]):\n",
    "    rob.wait(0.1)\n",
    "\n",
    "#Robobo se mueve hasta que detecte un objeto de frente\n",
    "while rob.readAllIRSensor()['Front-C'] < 100:\n",
    "    rob.wait(0.1)\n",
    "\n",
    "#Se apagan los motores y se termina el programa\n",
    "rob.stopMotors()\n",
    "rob.disconnect()"
   ]
  },
  {
   "cell_type": "markdown",
   "id": "b47ad873",
   "metadata": {},
   "source": [
    "**AVISO**: A veces, cuando se ejecutan varios comandos a la vez y/o en poco tiempo en un bucle, puede saltar el aviso en RoboboSim de que el robot está recibiendo demasiados comandos, por lo que se recomienda usar el comando wait() entre los comandos o no usar tantos comandos en modo no bloqueante de forma simultánea."
   ]
  },
  {
   "cell_type": "markdown",
   "id": "8d9e05db",
   "metadata": {},
   "source": [
    "<a id=\"ej\" style=\"text-decoration:none;\">\n",
    "<h1 style=\"color: #d60e8c; border-bottom: 2px solid #d60e8c;padding-bottom: 5px;\">Ejercicios</h1>\n",
    "</a>"
   ]
  },
  {
   "cell_type": "markdown",
   "id": "a17d50a9",
   "metadata": {},
   "source": [
    "**EJERCICIO 1**\n",
    "\n",
    "Abre el mapa **Avoid the Block** y crea el siguiente programa:\n",
    "\n",
    "- Robobo tiene que avanzar a una velocidad de **25** y evitar el bloque que tiene enfrente. Para ello, si detecta el objeto con el sensor **FrontC** con un valor mínimo de **150** se tiene que detener.\n",
    "- Después, el robot deberá girar 90º hacia la derecha, de forma que Robobo quede en **paralelo** a la caja.\n",
    "- Avanza hacia delante hasta que no detecte el bloque con ningún IR (En este caso, los sensores FrontL, FrontLL y BackL)"
   ]
  },
  {
   "cell_type": "code",
   "execution_count": null,
   "id": "7c79d93d",
   "metadata": {},
   "outputs": [],
   "source": [
    "#INSERTAR CÓDIGO AQUÍ"
   ]
  },
  {
   "cell_type": "markdown",
   "id": "6e403b06",
   "metadata": {},
   "source": [
    "**EJERCICIO 2**\n",
    "\n",
    "En el mapa **Simple Maze**, crea un programa que haga lo siguiente:\n",
    "\n",
    "- El robot debe avanzar hacia delante hasta que se encuentre una pared de frente.\n",
    "- En ese momento, el robot **se pondrá en paralelo a la pared** a su izquierda o a su derecha (esto lo decidirá el alumno preguntando al usuario por pantalla) lo máximo que pueda. No se usará moveWheelsByTime() ni moveWheelsByDegrees(), sino que Robobo girará hasta que los sensores cercanos a la pared detecten la pared. Por ejemplo, si Robob gira hacia la izquierda, los sensores Front-RR y Back-R deberán de detectar la pared y estén en paralelo.\n",
    "- Cada que encuentre una nueva pared de frente dirá \"TENGO UNA PARED ENFRENTE\", se posicionará y después dira \"VOY A SEGUIRLA\".\n",
    "- Estas secuencias las repetirá **5 veces**, una vez acabe, se detendrá."
   ]
  },
  {
   "cell_type": "code",
   "execution_count": null,
   "id": "592667f0",
   "metadata": {},
   "outputs": [],
   "source": [
    "#INSERTAR CÓDIGO AQUÍ"
   ]
  },
  {
   "cell_type": "markdown",
   "id": "8927f138",
   "metadata": {},
   "source": [
    "**EJERCICIO 3**\n",
    "\n",
    "Cargad el mundo **AVOID FALLING** y crea un programa en el que el:\n",
    "\n",
    "- El robot avance de forma recta a una velocidad de **40** hasta que esté cerca de un precipicio o esté cerca de un obstáculo.\n",
    "- Una vez cerca, el robot se tiene que detener, poner cara de  **asustado** y decir \"CASI ME CAIGO\".\n",
    "- Después, el robot tiene que **retroceder** un poco y girar hacia la derecha. Luego pondrá cara **normal**\n",
    "- Si en lugar de un precipicio es un obstáculo que tenga de frente, que realice lo mismo pero diciendo \"CASI CHOCO\".\n",
    "- Estas secuencias las repetirá **8 veces**, una vez acabe, se detendrá."
   ]
  },
  {
   "cell_type": "code",
   "execution_count": null,
   "id": "0e526a8a",
   "metadata": {},
   "outputs": [],
   "source": [
    "#INSERTAR CÓDIGO AQUÍ"
   ]
  }
 ],
 "metadata": {
  "kernelspec": {
   "display_name": "Python 3",
   "language": "python",
   "name": "python3"
  },
  "language_info": {
   "codemirror_mode": {
    "name": "ipython",
    "version": 3
   },
   "file_extension": ".py",
   "mimetype": "text/x-python",
   "name": "python",
   "nbconvert_exporter": "python",
   "pygments_lexer": "ipython3",
   "version": "3.12.6"
  }
 },
 "nbformat": 4,
 "nbformat_minor": 5
}
