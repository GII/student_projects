{
 "cells": [
  {
   "cell_type": "markdown",
   "id": "8b57e417",
   "metadata": {},
   "source": [
    "<table width=\"100%\">\n",
    "<tr>\n",
    "    <td align=\"left\" width=\"50%\" style=\"border: 0px; padding-left: 20px;\">\n",
    "        <img src=\"img/udc.png\" width=\"300\">\n",
    "    </td>\n",
    "    <td align=\"right\" width=\"50%\" style=\"border: 0px; padding-right: 50px;\">\n",
    "        <img src=\"img/logo_mint.svg\" width=\"250\">\n",
    "    </td>    \n",
    "</tr>\n",
    "</table>"
   ]
  },
  {
   "cell_type": "markdown",
   "id": "5a14a43a",
   "metadata": {},
   "source": [
    "<center>\n",
    "<h1 style=\"color: #d60e8c;\">Robobo: Pantalla táctil</h1> \n",
    "</center>"
   ]
  },
  {
   "cell_type": "markdown",
   "id": "1f225424",
   "metadata": {},
   "source": [
    "<h2>Contenidos</h2>\n",
    "\n",
    "<div class=\"alert alert-block alert-info\" \n",
    "     style=\"margin-top: 20px; padding-top:10px; border: 1px solid #d60e8c; border-radius: 20px; background:transparent;\">\n",
    "    <ul>\n",
    "        <li><a href=\"#intro\">Introducción</a></li>\n",
    "        <li><a href=\"#fling\">Fling</a></li>\n",
    "        <ul>\n",
    "            <li><a href=\"#rfa\">readFlingAngle()</a></li>\n",
    "            <li><a href=\"#rft\">readFlingTime()</a></li>\n",
    "            <li><a href=\"#rfs\">resetFlingSensor()</a></li>\n",
    "        </ul>\n",
    "        <li><a href=\"#tap\">Tap</a></li>\n",
    "        <ul>\n",
    "            <li><a href=\"#readts\">readTapSensor()</a></li>\n",
    "            <li><a href=\"#resetts\">resetTapSensor()</a></li>\n",
    "        </ul>\n",
    "        <li><a href=\"#ej\">Ejercicios</a></li>\n",
    "    </ul>\n",
    "</div>"
   ]
  },
  {
   "cell_type": "markdown",
   "id": "9b20e2ca",
   "metadata": {},
   "source": [
    "<a id=\"intro\" style=\"text-decoration:none;\">\n",
    "<h1 style=\"color: #d60e8c; border-bottom: 2px solid #d60e8c;padding-bottom: 5px;\">Introducción</h1>\n",
    "</a>"
   ]
  },
  {
   "cell_type": "markdown",
   "id": "07fd98d7",
   "metadata": {},
   "source": [
    "Robobo puede detectar dos tipos de gestos realizados con el dedo sobre la pantalla del Smartphone. Este tipo de interacción táctil es muy habitual hoy en día en diferentes dispositivos, imita al sentido del tacto en los seres humanos, y se utiliza para mejorar la **interacción natural de los robots autónomos**. Por tanto, los métodos que vamos a ver en este cuaderno están relacionados con los que ya vimos en el cuaderno 4.\n",
    "\n",
    "En RoboboSim, la interacción táctil no se realiza con el dedo, sino con el ratón del ordenador sobre la ventana emergente inferior derecha (ver documentación del simulador en https://grupo3.francispenalba.es/inicio/simulador/entorno-de-simulacion/)."
   ]
  },
  {
   "cell_type": "markdown",
   "id": "6f07825a",
   "metadata": {},
   "source": [
    "Los dos tipos de gestos que podemos detectar se llaman en inglés *Fling* y *Tap*:\n",
    "\n",
    "- *Fling*: ocurre cuando se traza una línea recta desde un punto a otro en la pantalla de forma continua. Por ejemplo, cuando nos desplazamos hacia abajo en una web en nuestro smartphone.\n",
    "\n",
    "- *Tap*: ocurre cuando se hace un toque instantáneo sobre la pantalla. Por ejemplo, cuando tocamos cualquier icono de una app en nuestro smartphone.\n",
    "\n",
    "\n",
    "\n",
    "\n",
    "<img src=\"img/flings_y_taps.png\" width=\"350\">\n",
    "\n",
    "\n",
    "\n",
    "\n",
    "Cada uno de ellos tiene varios métodos asociados, vamos a verlos:"
   ]
  },
  {
   "cell_type": "markdown",
   "id": "b8bbae4c",
   "metadata": {},
   "source": [
    "<a id=\"fling\" style=\"text-decoration:none;\">\n",
    "<h1 style=\"color: #d60e8c; border-bottom: 2px solid #d60e8c;padding-bottom: 5px;\">Fling</h1>\n",
    "</a>"
   ]
  },
  {
   "cell_type": "markdown",
   "id": "6955a79e",
   "metadata": {},
   "source": [
    "<a id=\"rfa\" style=\"text-decoration:none;\">\n",
    "<h3 style=\"color: #d60e8c;\">readFlingAngle()</h2>\n",
    "</a>\n",
    "\n",
    "\n",
    "**Función:** Lee el último ángulo de fling detectado. El valor devuelto se corresponde con el ángulo que se forma entre la linea trazada por el movimiento del dedo y la horizontal, como se explica en las imágenes de abajo.\n",
    "\n",
    "**Devuelve:**\n",
    "- El ángulo en grados (int). Varía entre 0 y 360, tal y como se muestra en la imagen inferior."
   ]
  },
  {
   "cell_type": "markdown",
   "id": "f8964eda",
   "metadata": {},
   "source": [
    "\n",
    "<img src=\"img/Flings.png\" width=\"650\">"
   ]
  },
  {
   "cell_type": "markdown",
   "id": "758f96bb",
   "metadata": {},
   "source": [
    "En la imagen de la izquierda vemos que el ángulo es de 0º en los dos casos, aunque se haya hecho el fling en puntos diferentes de la pantalla. En la imagen central tenemos un ángulo de 65º aproximandamente y en la imagen derecha uno de 330º. Trata de comprender por qué se leen esos valores."
   ]
  },
  {
   "cell_type": "markdown",
   "id": "5736b2d4",
   "metadata": {},
   "source": [
    "Para probar este método en el simulador, abrimos un mundo cualquiera y pulsamos la opción \"Cámara y Pantalla\" que se muestra en la parte superior izquierda.\n",
    "\n",
    "A continuación, vamos a probar un ejemplo que simplemente nos permite imprimir por pantalla el ángulo detectado durante 5 veces. Para que funcione, debes mover tu ratón por encima de la pantalla de interacción (cara de Robobo), haciendo click en un punto, trazando una línea y soltando a continuación:"
   ]
  },
  {
   "cell_type": "markdown",
   "id": "7f8e343f",
   "metadata": {},
   "source": [
    "<img src=\"img/Flings_Sim.png\" width=\"850\">"
   ]
  },
  {
   "cell_type": "code",
   "execution_count": null,
   "id": "efa773a7",
   "metadata": {},
   "outputs": [],
   "source": [
    "from robobopy.Robobo import Robobo\n",
    "rob = Robobo('localhost')\n",
    "rob.connect()\n",
    "parar = 0\n",
    "\n",
    "#Bucle que dura aproximadamente 10 segundos. En ese tiempo, se debe ir probando los flings\n",
    "while parar < 10:\n",
    "    fling_angle = rob.readFlingAngle()\n",
    "    print(fling_angle)\n",
    "    rob.wait(1)\n",
    "    parar=parar+1"
   ]
  },
  {
   "cell_type": "markdown",
   "id": "6d054980",
   "metadata": {},
   "source": [
    "Fíjate en el gesto trazado y el valor devuelto, que no tiene por qué coincidir perfectamente (sensor real). Por ejemplo, trata de hacer un ángulo perfecto de 0º, a ver si eres capaz. De paso, trata de hacerlo en diferentes partes de la pantalla, para que comprendas que el ángulo devuelto es relativo al punto donde lo aplicas."
   ]
  },
  {
   "cell_type": "markdown",
   "id": "32344bd5",
   "metadata": {},
   "source": [
    "<a id=\"rfd\" style=\"text-decoration:none;\">\n",
    "<h3 style=\"color: #d60e8c;\">readFlingDistance()</h2>\n",
    "</a>\n",
    "\n",
    "\n",
    "\n",
    "\n",
    "**Función:** Lee la longitud del último fling detectado por Robobo.\n",
    "\n",
    "**Devuelve:**\n",
    "- La longitud en píxeles (float)."
   ]
  },
  {
   "cell_type": "markdown",
   "id": "45c36315",
   "metadata": {},
   "source": [
    "Los valores que devuelve este método siempre serán positivos. El valor máximo dependerá de la resolución del smarthphone, ya que al depender del número de píxeles, cuanto mayor sea la resolución, mayor será el valor máximo al que puede llegar.\n",
    "\n",
    "Para hacer una comprobación rápida, se recomienda realizar un trazo en diagonal desde la esquina superior izquierda hasta la esquina inferior derecha."
   ]
  },
  {
   "cell_type": "markdown",
   "id": "1dce7ed8",
   "metadata": {},
   "source": [
    "Para probar este método , está disponible el siguiente ejemplo:\n",
    "\n",
    "1. Cada segundo se imprimirá por pantalla la distancia del último fling realizado.\n",
    "\n",
    "2. Para finalizar la ejecución del programa, se deberá de realizar un fling con una longitud mínima de **90**\n"
   ]
  },
  {
   "cell_type": "code",
   "execution_count": null,
   "id": "8a9b264c",
   "metadata": {},
   "outputs": [],
   "source": [
    "from robobopy.Robobo import Robobo\n",
    "from robobopy.utils.Sounds import Sounds\n",
    "rob = Robobo('localhost')\n",
    "rob.connect()\n",
    "fling_distance=0\n",
    "\n",
    "#Bucle en el que se prueba la lectura de distancia del Fling. Si es mayor que 90, se termina el programa\n",
    "while fling_distance<90:\n",
    "    fling_distance = rob.readFlingDistance()\n",
    "    print(f\"La distancia del fling es de: {fling_distance}\")\n",
    "    rob.wait(1)\n",
    "\n",
    "#Emite un sonido de aprovación y se cierra el programa\n",
    "rob.playSound(Sounds.APPROVE)\n",
    "rob.disconnect()"
   ]
  },
  {
   "cell_type": "markdown",
   "id": "95dc8969",
   "metadata": {},
   "source": [
    "<a id=\"rft\" style=\"text-decoration:none;\">\n",
    "<h3 style=\"color: #d60e8c;\">readFlingTime()</h2>\n",
    "</a>\n",
    "\n",
    "\n",
    "\n",
    "**Función:** Lee la duración del último fling detectado por Robobo.\n",
    "\n",
    "**Devuelve:**\n",
    "- La duración en milisegundos (float)."
   ]
  },
  {
   "cell_type": "markdown",
   "id": "76e200a3",
   "metadata": {},
   "source": [
    "En este ejemplo, tenéis 5 segundo para realizar un fling cualquiera. Una vez se acabe el tiempo, se imprimirá por pantalla el tiempo que pasó desde el último fling realizado."
   ]
  },
  {
   "cell_type": "code",
   "execution_count": null,
   "id": "698b34b5",
   "metadata": {},
   "outputs": [],
   "source": [
    "from robobopy.Robobo import Robobo\n",
    "rob = Robobo('localhost')\n",
    "rob.connect()\n",
    "\n",
    "#Se declara una variable\n",
    "fling_time=0\n",
    "rob.wait(0.1)\n",
    "\n",
    "#En estos 5 segundos se debe realizar un Fling. No os preocupéis, el wait() no influye en la lectura\n",
    "rob.wait(5)\n",
    "\n",
    "#Se lee el tiempo del último fling realizado y se imprime por pantalla\n",
    "fling_time = rob.readFlingTime()\n",
    "print(fling_time)\n",
    "rob.wait(1)"
   ]
  },
  {
   "cell_type": "markdown",
   "id": "cf92744a",
   "metadata": {},
   "source": [
    "<a id=\"rfs\" style=\"text-decoration:none;\">\n",
    "<h3 style=\"color: #d60e8c;\">resetFlingSensor()</h2>\n",
    "</a>\n",
    "\n",
    "**Función:** Reinicia el estado del sensor Fling, poniendo los valores de la *distancia*, *ángulo* y *tiempo* a **0**."
   ]
  },
  {
   "cell_type": "markdown",
   "id": "b8d20ad7",
   "metadata": {},
   "source": [
    "Este es un método útil en muchos casos, porque los métodos anteriores guardan el último valor medido. Si queremos partir de un valor inicial, debemos reiniciar el sensor.\n",
    "\n",
    "Partiendo del apartado anterior, si ejecutáis el siguiente programa, se resetearán todos los valores:"
   ]
  },
  {
   "cell_type": "code",
   "execution_count": null,
   "id": "40d7d00f",
   "metadata": {},
   "outputs": [],
   "source": [
    "#Se imprimen los valores de los ejemplos anteriores\n",
    "print(\"ANTES\")\n",
    "print(fling_distance)\n",
    "print(fling_angle)\n",
    "print(fling_time)\n",
    "\n",
    "#Reinicia los valores\n",
    "rob.resetFlingSensor()\n",
    "fling_distance = rob.readFlingDistance()\n",
    "fling_angle = rob.readFlingAngle()\n",
    "fling_time = rob.readFlingTime()\n",
    "\n",
    "#Se imprimen los nuevos valores\n",
    "print(\"DESPUÉS\")\n",
    "print(fling_distance)\n",
    "print(fling_angle)\n",
    "print(fling_time)\n",
    "\n",
    "rob.disconnect()"
   ]
  },
  {
   "cell_type": "markdown",
   "id": "b86f7d71",
   "metadata": {},
   "source": [
    "<a id=\"tap\" style=\"text-decoration:none;\">\n",
    "<h1 style=\"color: #d60e8c; border-bottom: 2px solid #d60e8c;padding-bottom: 5px;\">Tap</h1>\n",
    "</a>"
   ]
  },
  {
   "cell_type": "markdown",
   "id": "b3a32ae6",
   "metadata": {},
   "source": [
    "<a id=\"readts\" style=\"text-decoration:none;\">\n",
    "<h3 style=\"color: #d60e8c;\">readTapSensor()</h2>\n",
    "</a>\n",
    "\n",
    "**Función:** Lee los datos del último tap detectado. Un tap se corresponde con un toque único (no mantenido) sobre la pantalla del smartphone\n",
    "\n",
    "**Devuelve:**\n",
    "- El valor devuelto es un objeto de la **clase Tap**, que tiene estos 3 atributos:\n",
    "  - *x (int)*: La coordenada X del tap. Toma valores de entre 0 y 100.\n",
    "  - *y (int)*: La coordenada Y del tap. Toma valores de entre 0 y 100.\n",
    "  - *zone (string)*: Devuelve el área de la pantalla del smartphone, que puede ser uno de los siguientes valores: ‘forehead’, ‘eye’, ‘right’, ‘left’, ‘mouth’ o ‘chin’. Estos valores están representados en la imagen siguiente:"
   ]
  },
  {
   "cell_type": "markdown",
   "id": "01b1b845",
   "metadata": {},
   "source": [
    "En la imagen de abajo se muestra la orientación de los ejes XY para las coordenadas del tap.\n",
    "\n",
    "En la segunda imagen se pueden apreciar las áreas de las zonas."
   ]
  },
  {
   "cell_type": "markdown",
   "id": "ae3da674",
   "metadata": {},
   "source": [
    "<img src=\"img/tap.PNG\" width=\"750\">"
   ]
  },
  {
   "cell_type": "markdown",
   "id": "2f8c98e2",
   "metadata": {},
   "source": [
    "Para poder probar este método, se carga un mundo cualquiera y se ejecuta este programa:\n",
    "\n",
    "1. Se puede probar en tocar cualquier punto de la pantalla del smarthphone de RoboboSimulator, y **cada segundo** se imprimirá por pantalla los valores del método.\n",
    "\n",
    "2. Una vez hayan pasado 25 segundos, se cierra el programa."
   ]
  },
  {
   "cell_type": "code",
   "execution_count": null,
   "id": "9cf3a823",
   "metadata": {},
   "outputs": [],
   "source": [
    "from robobopy.Robobo import Robobo\n",
    "rob = Robobo('localhost')\n",
    "rob.connect()\n",
    "tiempo=0\n",
    "\n",
    "#Bucle que dura aproximadamente 25 segundos\n",
    "while tiempo<25:\n",
    "    tap = rob.readTapSensor()\n",
    "    print(tap)\n",
    "    rob.wait(1)\n",
    "    tiempo=+1"
   ]
  },
  {
   "cell_type": "markdown",
   "id": "614838eb",
   "metadata": {},
   "source": [
    "<a id=\"resetts\" style=\"text-decoration:none;\">\n",
    "<h3 style=\"color: #d60e8c;\">resetTapSensor()</h2>\n",
    "</a>\n",
    "\n",
    "\n",
    "\n",
    "\n",
    "**Función:** Reinicia el estado del sensor tap."
   ]
  },
  {
   "cell_type": "markdown",
   "id": "0e3207a2",
   "metadata": {},
   "source": [
    "Ya que el método anterior guarda el último valor medido, en muchos programas será necesario reiniciarlo antes de medir. Para probarlo, **se parte del programa del apartado anterior**, y se ejecutan las tres líneas de abajo que nos permiten comprobar cómo se ponen los atributos a su valor inicial (***Tap, (x,y): 0, 0, zone: None***):"
   ]
  },
  {
   "cell_type": "code",
   "execution_count": null,
   "id": "bc1ee7ab",
   "metadata": {},
   "outputs": [],
   "source": [
    "#Reinicia el valor del tap\n",
    "\n",
    "rob.resetTapSensor()\n",
    "tap=rob.readTapSensor()\n",
    "print(tap)\n",
    "\n",
    "rob.disconnect()"
   ]
  },
  {
   "cell_type": "markdown",
   "id": "6ef43486",
   "metadata": {},
   "source": [
    "<a id=\"ej\" style=\"text-decoration:none;\">\n",
    "<h1 style=\"color: #d60e8c; border-bottom: 2px solid #d60e8c;padding-bottom: 5px;\">Ejercicios</h1>\n",
    "</a>"
   ]
  },
  {
   "cell_type": "markdown",
   "id": "817a2cd6",
   "metadata": {},
   "source": [
    "**EJERCICIO 1**\n",
    "\n",
    "Abrir un mundo cualquiera y crear el siguiente código:\n",
    "\n",
    "Mediante los métodos asociados al sensor Fling, cread un programa en el que Robobo gire sobre su eje en dependiendo del fling:\n",
    "\n",
    "- La longitud del fling debe ser mayor que 40 para cada acción, de lo contrario, no habrá ningún cambio.\n",
    "- Si el ángulo del fling es inferior a 45 o superor a 315, gira a la izquierda a una velocidad de 5.\n",
    "- Si el ángulo del fling es superior a 135 e inferior a 225, gira a la derecha a una velocidad de 5.\n",
    "- Si el ángulo del fling no corresponde a ninguno de los dos casos anteriores, se detiene.\n",
    "- El programa funcionará durante 60 segundos. Cuando termine se tienen que parar los motores."
   ]
  },
  {
   "cell_type": "code",
   "execution_count": null,
   "id": "e9e990a0",
   "metadata": {},
   "outputs": [],
   "source": [
    "#INSERTAR CÓDIGO AQUÍ"
   ]
  },
  {
   "cell_type": "markdown",
   "id": "4acaaab8",
   "metadata": {},
   "source": [
    "**EJERCICIO 2**\n",
    "\n",
    "\n",
    "En un mundo cualquiera, realiza un programa en el que Robobo avance dependiendo de la zona que toques de la pantalla táctil:\n",
    "- Si tocas la zona *eye*, el robot se moverá a una velocidad de 20 de forma constante.\n",
    "- Si tocas la zona *right*, el robot girará hacia la izquierda a una velocidad de 5.\n",
    "- Si tocas la zona *left*, el robot girará hacia la derecha a una velocidad de 5.\n",
    "- Si tocas la zona *chin*, el robot avanzará el doble de rápido, es decir, a 40.\n",
    "- Si tocas la zona *forehead*, el robot avanzará hacia atrás a una velocidad de 20.\n",
    "- Si tocas la zona *mouth*, el robot se detendrá.\n",
    "\n",
    "El programa funcionará durante 60 segundos. Cuando termine se tienen que parar los motores."
   ]
  },
  {
   "cell_type": "code",
   "execution_count": null,
   "id": "7de8a1af",
   "metadata": {},
   "outputs": [],
   "source": [
    "#INSERTAR CÓDIGO AQUÍ"
   ]
  }
 ],
 "metadata": {
  "kernelspec": {
   "display_name": "Python 3",
   "language": "python",
   "name": "python3"
  },
  "language_info": {
   "codemirror_mode": {
    "name": "ipython",
    "version": 3
   },
   "file_extension": ".py",
   "mimetype": "text/x-python",
   "name": "python",
   "nbconvert_exporter": "python",
   "pygments_lexer": "ipython3",
   "version": "3.12.6"
  }
 },
 "nbformat": 4,
 "nbformat_minor": 5
}
