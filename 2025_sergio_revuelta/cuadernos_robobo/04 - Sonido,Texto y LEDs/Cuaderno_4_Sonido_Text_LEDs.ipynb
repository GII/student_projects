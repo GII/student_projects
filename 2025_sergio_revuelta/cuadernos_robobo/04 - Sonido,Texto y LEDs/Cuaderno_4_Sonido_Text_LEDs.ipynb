{
 "cells": [
  {
   "cell_type": "markdown",
   "id": "c27838fa",
   "metadata": {},
   "source": [
    "<table width=\"100%\">\n",
    "<tr>\n",
    "    <td align=\"left\" width=\"50%\" style=\"border: 0px; padding-left: 20px;\">\n",
    "        <img src=\"img/udc.png\" width=\"300\">\n",
    "    </td>\n",
    "    <td align=\"right\" width=\"50%\" style=\"border: 0px; padding-right: 50px;\">\n",
    "        <img src=\"img/logo_mint.svg\" width=\"250\">\n",
    "    </td>    \n",
    "</tr>\n",
    "</table>"
   ]
  },
  {
   "cell_type": "markdown",
   "id": "a025b2f7",
   "metadata": {},
   "source": [
    "<center>\n",
    "<h1 style=\"color: #d60e8c;\">Robobo: Audio, LEDs y Emociones</h1> \n",
    "</center>\n"
   ]
  },
  {
   "cell_type": "markdown",
   "id": "dc2043a5",
   "metadata": {},
   "source": [
    "<h2>Contenidos</h2>\n",
    "\n",
    "<div class=\"alert alert-block alert-info\" \n",
    "     style=\"margin-top: 20px; padding-top:10px; border: 1px solid #d60e8c; border-radius: 20px; background:transparent;\">\n",
    "    <ul>\n",
    "        <li><a href=\"#intro\">Introducción</a></li>\n",
    "        <li><a href=\"#sounds\">Audio</a></li>\n",
    "        <ul>\n",
    "            <li><a href=\"#playsounds\">playSound(sound, wait=True)</a></li>\n",
    "            <li><a href=\"#playtext\">sayText (speech, wait=True)</a></li>\n",
    "            <li><a href=\"#playnote\">playNote (note, duration, wait=True)</a></li>\n",
    "        </ul>\n",
    "        <li><a href=\"#led\">Luces LED</a></li>\n",
    "        <ul>\n",
    "            <li><a href=\"#playled\">setLedColorTo(led,color)</a></li>\n",
    "        </ul>\n",
    "        <li><a href=\"#emotions\">Emociones</a></li>\n",
    "        <ul>\n",
    "            <li><a href=\"#playemo\">setEmotionTo(emotion)</a></li>\n",
    "        </ul>\n",
    "        <li><a href=\"#EJ\">Ejercicios</a></li>\n",
    "    </ul>\n",
    "</div>"
   ]
  },
  {
   "cell_type": "markdown",
   "id": "e368baeb",
   "metadata": {},
   "source": [
    "<a id=\"intro\" style=\"text-decoration:none;\">\n",
    "<h1 style=\"color: #d60e8c; border-bottom: 2px solid #d60e8c;padding-bottom: 5px;\">Introducción</h1>\n",
    "</a>\n",
    "\n",
    "Los métodos que veremos en este cuaderno están relacionados con las capacidades de Robobo para realizar una **interacción natural** con el usuario. Esto significa que se basa en sonidos e imágenes, como hacemos los humanos. \n",
    "\n",
    "En concreto, vamos a ver métodos que permiten que Robobo emita audio, que encienda las luces que tiene en su cuerpo y que muestre emociones en la pantalla del smartphone."
   ]
  },
  {
   "cell_type": "markdown",
   "id": "4d6cdba7",
   "metadata": {},
   "source": [
    "<a id=\"sounds\" style=\"text-decoration:none;\">\n",
    "<h1 style=\"color: #d60e8c; border-bottom: 2px solid #d60e8c;padding-bottom: 5px;\">Audio</h1>\n",
    "</a>\n",
    "\n",
    "Robobo tiene la capacidad de emitir 3 tipos de audio a través del altavoz del smartphone: Sonidos, Habla y Notas Musicales."
   ]
  },
  {
   "cell_type": "markdown",
   "id": "3f6579f1",
   "metadata": {},
   "source": [
    "<h3 style=\"color: #d60e8c;\"> playSound(sound, wait=True)</h2>\n",
    "<p>Robobo posee un registro de sonidos predefinidos que son de utilidad para que muestre expresividad y \"estado de ánimo\", algo básico en la interacción natural de los robots.</p>\n",
    "\n",
    "**Función:** Utiliza los altavoces del smartphone para reproducir un sonido.\n",
    "\n",
    "**Parámetros:**\n",
    "- *sound (Sounds)*: El sonido que se reproduce.\n",
    "- *wait (boolean)*: Indica si este método se ejecuta en modo bloqueante o no (True: modo\n",
    "bloqueante, False: modo no bloqueante).\n",
    "\n",
    "\n",
    "\n",
    "Entre los sonidos disponibles están:\n",
    "\n",
    "- PURR: Ronroneo.\n",
    "- MOAN: Queja.\n",
    "- ANGRY: Enfado.\n",
    "- APPROVE: Aprobación.\n",
    "- DISAPPROVE: Desaprobación.\n",
    "- DISCOMFORT: Incomodidad.\n",
    "- DOUBTFUL: Duda.\n",
    "- LAUGH: Risa.\n",
    "- LIKES: Gustar.\n",
    "- MUMBLE: Mascullar.\n",
    "- OUCH: Ay.\n",
    "- THINK: Pensar.\n",
    "- VARIOUS: Varios.\n"
   ]
  },
  {
   "cell_type": "markdown",
   "id": "58379db3",
   "metadata": {},
   "source": [
    "Te recomendamos probar diferentes sonidos para comprender que se podrían aplicar a diferentes situaciones en función del estado de ánimo que se quiera mostrar. Para ello, abrimos RoboboSim y cargamos un mundo cualquier. \n",
    "\n",
    "A continuación, cargamos las librerías necesarias, nos conectamos al robot y probamos un sonido:"
   ]
  },
  {
   "cell_type": "code",
   "execution_count": null,
   "id": "f7f0814f",
   "metadata": {},
   "outputs": [],
   "source": [
    "from robobopy.Robobo import Robobo\n",
    "from robobopy.utils.Sounds import Sounds\n",
    "rob = Robobo(\"localhost\")\n",
    "rob.connect()\n",
    "\n",
    "\n",
    "opcion=input(\"¿Quiere un sonido (alegre ) o un sonido (triste)?\")\n",
    "\n",
    "if opcion==\"alegre\":\n",
    "    rob.playSound(Sounds.LIKES)\n",
    "else:\n",
    "    rob.playSound(Sounds.DISCOMFORT)"
   ]
  },
  {
   "cell_type": "markdown",
   "id": "7ae82491",
   "metadata": {},
   "source": [
    "<a id=\"playtext\" style=\"text-decoration:none;\">\n",
    "<h3 style=\"color: #d60e8c;\"> sayText (speech, wait=True)</h2>\n",
    "</a>\n",
    "\n",
    "El siguiente comando es especialmente interesante en la interacción natural, ya que permite que Robobo pronuncie cualquier texto escrito, utilizando para ello las capacidades de generación de habla de los smartphone actuales.\n",
    "\n",
    "**Función**: Utiliza los altavoces del smartphone para reproducir un texto\n",
    "\n",
    "**Parámetros:**\n",
    "- *speech (string)*: Es el texto que Robobo reproducirá a través del smarthphone.\n",
    "- *wait (boolean)*: Indica si este método se ejecuta en modo bloqueante o no (True: modo\n",
    "bloqueante, False: modo no bloqueante)."
   ]
  },
  {
   "cell_type": "markdown",
   "id": "04e7aecf",
   "metadata": {},
   "source": [
    "Prueba ahora este programa que lee dos frases con una pausa de 1 segundo entre ellas:"
   ]
  },
  {
   "cell_type": "code",
   "execution_count": null,
   "id": "fa31a0fb",
   "metadata": {},
   "outputs": [],
   "source": [
    "rob.sayText('Hola, soy Robobo')\n",
    "rob.wait(1)\n",
    "rob.sayText('¿Qué tal si le das un poco al cerebro y me programas para hacer algo útil?')"
   ]
  },
  {
   "cell_type": "markdown",
   "id": "95b32ed0",
   "metadata": {},
   "source": [
    "Si deseas cambiar el estilo de la voz que habla en RoboboSim puedes hacerlo desde el menú principal, entrando en *Opciones* y luego en *Voz de generación de habla*\n"
   ]
  },
  {
   "cell_type": "markdown",
   "id": "13a38f84",
   "metadata": {},
   "source": [
    "Ojo a la hora de usar este comando en **modo no bloqueante**, ya que, si por ejemplo pones dos líneas sayText() entre ellas y la primera tarda tanto al punto que dura más que el wait, se podría solapar el texto que reproduce Robobo con el de la segunda línea."
   ]
  },
  {
   "cell_type": "markdown",
   "id": "2f0a1c18",
   "metadata": {},
   "source": [
    "<a id=\"playnote\" style=\"text-decoration:none;\">\n",
    "<h3 style=\"color: #d60e8c;\"> playNote (note, duration, wait=True)</h2>\n",
    "</a>\n",
    "\n",
    "**Función**: Hace que Robobo toque una nota musical.\n",
    "\n",
    "- note (int): Nota a reproducir siguiendo la notación anglosajona. Se permiten 133 posibles\n",
    "notas. El siguiente esquema muestra la equivalencia en el rango de 48 a 59:\n",
    "\n",
    "\n",
    "<img src=\"img/notas.PNG\" width=\"900\">\n",
    "\n",
    "- duration (float): Duración de la nota en segundos. Toma valores positivos.\n",
    "- wait (boolean): Indica si este método se ejecuta en modo bloqueante o no (True: modo\n",
    "bloqueante, False: modo no bloqueante)."
   ]
  },
  {
   "cell_type": "markdown",
   "id": "bdabe215",
   "metadata": {},
   "source": [
    "Partiendo del ejemplo anterior, ejecutad este código:\n",
    "\n",
    "\n",
    "El programa os pedirá una nota entre 48 al 59. Una vez seleccionada, tocará esa nota durante **2** segundos."
   ]
  },
  {
   "cell_type": "code",
   "execution_count": null,
   "id": "e8baac2f",
   "metadata": {},
   "outputs": [],
   "source": [
    "nota=int(input(\"¿Que nota quieres que toque Robobo?\"))\n",
    "\n",
    "if nota>=48 and nota<=59:\n",
    "    rob.playNote(nota,2)\n",
    "else:\n",
    "    print(\"Nota no válida\")"
   ]
  },
  {
   "cell_type": "markdown",
   "id": "defd567f",
   "metadata": {
    "vscode": {
     "languageId": "html"
    }
   },
   "source": [
    "<a id=\"led\" style=\"text-decoration:none;\">\n",
    "<h1 style=\"color: #d60e8c; border-bottom: 2px solid #d60e8c;padding-bottom: 5px;\">Luces LED</h1>\n",
    "</a>\n",
    "\n",
    "Robobo tiene un conjunto de luces LED en la base que se pueden iluminar de distintos colores para\n",
    "mostrar información visual simple. La siguiente imagen muestra un esquema de su posición\n",
    "en el cuerpo del robot.\n",
    "\n",
    "<img src=\"img/leds_robobo.PNG\" width=\"400\">\n",
    "\n",
    "El método que permite encender los LED en diferentes colores es el siguiente:\n",
    "\n",
    "<a id=\"playled\" style=\"text-decoration:none;\">\n",
    "<h3 style=\"color: #d60e8c;\">setLedColorTo(led,color)</h2>\n",
    "</a>\n",
    "\n",
    "**Función:** Enciende o apaga el LED que recibe como parámetro.\n",
    "\n",
    "**Parámetros:**\n",
    "\n",
    "- led (LED): Indica el led o leds sobre el que se aplicará la acción. Este parámetro es de tipo\n",
    "enumerado LED.\n",
    "- color (Color): Color que se aplicará al led seleccionado. Este parámetro es de tipo\n",
    "enumerado Color.\n",
    "\n",
    "**Enumerado LED**\n",
    "\n",
    "- *BackR*: Trasero derecho medio.\n",
    "- *FrontR*: Frontal derecho.\n",
    "- *FrontRR*: Frontal derecho extremo.\n",
    "- *FrontC*: Frontal central. \n",
    "- *FrontL*: Frontal izquierdo medio. \n",
    "- *FrontLL*: Frontal izquierdo extremo.\n",
    "- *BackL*: Trasero izquierdo.\n",
    "- *All*: Todos.\n",
    "\n",
    "**Enumerado Color**\n",
    "\n",
    "- OFF: Apagado.\n",
    "- WHITE: Blanco.\n",
    "- RED: Rojo. \n",
    "- BLUE: Azul.\n",
    "- CYAN: Cyan.\n",
    "- MAGENTA: Magenta.\n",
    "- YELLOW: Amarillo.\n",
    "- GREEN: Verde.\n",
    "- ORANGE: Naranja."
   ]
  },
  {
   "cell_type": "markdown",
   "id": "dae717a2",
   "metadata": {},
   "source": [
    "Para utilizar los leds, debemos importar otras dos librerías:"
   ]
  },
  {
   "cell_type": "code",
   "execution_count": null,
   "id": "4d86c893",
   "metadata": {},
   "outputs": [],
   "source": [
    "from robobopy.utils.LED import LED\n",
    "from robobopy.utils.Color import Color"
   ]
  },
  {
   "cell_type": "markdown",
   "id": "34ce1e1e",
   "metadata": {},
   "source": [
    "Partiendo desde el programa del apartado anterior, se van a encender los 5 LEDs delanteros,cada uno con un color distinto:"
   ]
  },
  {
   "cell_type": "code",
   "execution_count": null,
   "id": "2a6c1c99",
   "metadata": {},
   "outputs": [],
   "source": [
    "rob.setLedColorTo(LED.FrontC, Color.BLUE)\n",
    "rob.setLedColorTo(LED.FrontL, Color.WHITE)\n",
    "rob.setLedColorTo(LED.FrontLL, Color.RED)\n",
    "rob.setLedColorTo(LED.FrontR, Color.CYAN)\n",
    "rob.setLedColorTo(LED.FrontRR, Color.MAGENTA)"
   ]
  },
  {
   "cell_type": "markdown",
   "id": "2ac637f7",
   "metadata": {},
   "source": [
    "A continuación, se encenderán los LEDs traseros:"
   ]
  },
  {
   "cell_type": "code",
   "execution_count": null,
   "id": "681975af",
   "metadata": {},
   "outputs": [],
   "source": [
    "rob.setLedColorTo(LED.BackL, Color.YELLOW)\n",
    "rob.setLedColorTo(LED.BackR, Color.GREEN)"
   ]
  },
  {
   "cell_type": "markdown",
   "id": "6602d938",
   "metadata": {},
   "source": [
    "Y por último, se van a apagar todos:"
   ]
  },
  {
   "cell_type": "code",
   "execution_count": null,
   "id": "8535b840",
   "metadata": {},
   "outputs": [],
   "source": [
    "rob.setLedColorTo(LED.All, Color.OFF)"
   ]
  },
  {
   "cell_type": "markdown",
   "id": "71485007",
   "metadata": {},
   "source": [
    "\n",
    "<a id=\"emotions\" style=\"text-decoration:none;\">\n",
    "<h1 style=\"color: #d60e8c; border-bottom: 2px solid #d60e8c;padding-bottom: 5px;\">Emociones</h1>\n",
    "</a>\n",
    "\n",
    "Robobo puede mostrar un conjunto de expresiones predeterminadas utilizando para ello la pantalla del Smartphone. También se pueden ver en RoboboSim, si pinchas en el botón superior derecho que tienes en cualquier mundo, como se señala en esta imagen. La expresión de Robobo cambia en la parte inferior izquierda de la pantalla.\n",
    "\n",
    "<img src=\"img/cara_Sim.png\" width=\"500\">\n",
    "\n",
    "<a id=\"playemo\" style=\"text-decoration:none;\">\n",
    "<h3 style=\"color: #d60e8c;\">setEmotionTo(emotion)</h2>\n",
    "</a>\n",
    "\n",
    "\n",
    "\n",
    "**Función:** Cambia la expresión de la cara de Robobo con el objetivo de indicar una emoción determinada.\n",
    "\n",
    "**Parámetros:**\n",
    "- *emotion (Emotions)*: Emoción que se muestra en la cara (ver Enumerado Emotions).\n",
    "\n",
    "**Enumerado Emotions**\n",
    "\n",
    "Hay un total de 9 emociones:\n",
    "\n",
    "- HAPPY: Feliz.\n",
    "- LAUGHING: Riendo.\n",
    "- SURPRISED: Sorprendido.\n",
    "- SAD: Triste.\n",
    "- ANGRY: Enfadado.\n",
    "- NORMAL: Normal.\n",
    "- SLEEPING: Durmiendo.\n",
    "- TIRED: Cansado.\n",
    "- AFRAID: Asustado.\n",
    "\n",
    "<img src=\"img/ROBOBO CARAS.png\" width=\"750\">\n"
   ]
  },
  {
   "cell_type": "markdown",
   "id": "a4fa2a6c",
   "metadata": {},
   "source": [
    "Prueba ahora este programa que hace Robobo hable, emita sonidos y muestre expresiones de una forma natural y realista:"
   ]
  },
  {
   "cell_type": "code",
   "execution_count": null,
   "id": "7fdc755e",
   "metadata": {},
   "outputs": [],
   "source": [
    "from robobopy.utils.Emotions import Emotions \n",
    "\n",
    "rob.connect()\n",
    "\n",
    "rob.sayText('Hola, soy Robobo')\n",
    "rob.playSound(Sounds.LAUGH)\n",
    "rob.wait(1)\n",
    "rob.sayText('Mira, puedo estar triste')\n",
    "rob.setEmotionTo(Emotions.SAD) \n",
    "rob.wait(1)\n",
    "rob.sayText('Y soprendido')\n",
    "rob.setEmotionTo(Emotions.SURPRISED) \n",
    "\n",
    "rob.disconnect()"
   ]
  },
  {
   "cell_type": "markdown",
   "id": "fcb5fdff",
   "metadata": {},
   "source": [
    "<a id=\"EJ\" style=\"text-decoration:none;\">\n",
    "<h1 style=\"color: #d60e8c; border-bottom: 2px solid #d60e8c;padding-bottom: 5px;\">Ejercicios</h1>\n",
    "</a>"
   ]
  },
  {
   "cell_type": "markdown",
   "id": "a4b3a6db",
   "metadata": {},
   "source": [
    "**EJERCICIO 1**\n",
    "\n",
    "En un mundo cualquiera, crea un algoritmo que haga que cada segundo encienda uno de los **5 leds delanteros**, y que una vez los encienda todos, los **apague**."
   ]
  },
  {
   "cell_type": "code",
   "execution_count": null,
   "id": "5b9658c9",
   "metadata": {},
   "outputs": [],
   "source": [
    "#INSERTAR CÓDIGO AQUÍ"
   ]
  },
  {
   "cell_type": "markdown",
   "id": "baeb0463",
   "metadata": {},
   "source": [
    "**EJERCICIO 2**\n",
    "\n",
    "En el mundo **FOUR WALLS** ,escribe un programa que haga que Robobo:\n",
    "\n",
    "- Gire hacia la izquierda o hacia la derecha en función de lo que le pida al usuario durante 5 segundos.\n",
    "- Si la respuesta no tiene que ver con ninguno de los giros, Robob dirá \"No entiendo lo que me acabas de decir\" y el programa finalizará.\n",
    "- El robot tiene que decir \"GIRO A LA IZQUIERDA\" o \"GIRO A LA DERECHA\", y después encienda el led BACK-L y FRONT-LL o el BACK-R y FRONT-RR dependiendo del giro.\n",
    "- Una vez deje de girar, debe apagar los leds correspondientes."
   ]
  },
  {
   "cell_type": "code",
   "execution_count": null,
   "id": "e6f84723",
   "metadata": {},
   "outputs": [],
   "source": [
    "#INSERTAR CÓDIGO AQUÍ"
   ]
  },
  {
   "cell_type": "markdown",
   "id": "9008d544",
   "metadata": {},
   "source": [
    "**EJERCICIO 3**\n",
    "\n",
    "En el mundo **TEST PLANE**, hay que ejecutar un programa en el que Robobo:\n",
    "\n",
    "- Emita dos notas en tono ascendente (por ejemplo, primero 56 y luego 57) de **un cuarto de segundo** cada una al poco de conectarse.\n",
    "- Durante 5 segundos, tiene que avanzar a una velocidad de 80. En ese momento, usad el método SetEmotionTo() para que ponga *cara* de **sorpresa** y emita un *sonido* de **agrado**. \n",
    "\n",
    "- Una vez termine de avanzar, el robot dará vuelta sobre sí mismo a una velocidad de 50 durante 3 segundos.\n",
    "\n",
    "- Al poco de terminar, Robobo tiene que poner una cara de **cansancio** y decir \"ME MAREO\".\n",
    "\n",
    "- Antes de desconectarse, tiene que emitir dos notas en tono descendente (por ejemplo, primero 55 y luego 54) de **un cuarto segundo** cada una."
   ]
  },
  {
   "cell_type": "code",
   "execution_count": null,
   "id": "af2f20e5",
   "metadata": {},
   "outputs": [],
   "source": [
    "#INSERTAR CÓDIGO AQUÍ"
   ]
  }
 ],
 "metadata": {
  "kernelspec": {
   "display_name": "Python 3",
   "language": "python",
   "name": "python3"
  },
  "language_info": {
   "codemirror_mode": {
    "name": "ipython",
    "version": 3
   },
   "file_extension": ".py",
   "mimetype": "text/x-python",
   "name": "python",
   "nbconvert_exporter": "python",
   "pygments_lexer": "ipython3",
   "version": "3.12.6"
  }
 },
 "nbformat": 4,
 "nbformat_minor": 5
}
