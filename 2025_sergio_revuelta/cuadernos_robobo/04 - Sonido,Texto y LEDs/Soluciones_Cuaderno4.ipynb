{
 "cells": [
  {
   "cell_type": "markdown",
   "id": "9f74f2f5",
   "metadata": {},
   "source": [
    "EJERCICIO 1"
   ]
  },
  {
   "cell_type": "code",
   "execution_count": null,
   "id": "49f435f6",
   "metadata": {},
   "outputs": [],
   "source": [
    "from robobopy.Robobo import Robobo\n",
    "from robobopy.utils.Color import Color\n",
    "from robobopy.utils.LED import LED\n",
    "\n",
    "rob = Robobo(\"localhost\")\n",
    "rob.connect()\n",
    "\n",
    "\n",
    "rob.setLedColorTo(LED.All,Color.OFF)\n",
    "\n",
    "rob.setLedColorTo(LED.FrontL,Color.GREEN)\n",
    "rob.wait(1)\n",
    "rob.setLedColorTo(LED.FrontLL,Color.GREEN)\n",
    "rob.wait(1)\n",
    "rob.setLedColorTo(LED.FrontC,Color.GREEN)\n",
    "rob.wait(1)\n",
    "rob.setLedColorTo(LED.FrontRR,Color.GREEN)\n",
    "rob.wait(1)\n",
    "rob.setLedColorTo(LED.FrontR,Color.GREEN)\n",
    "rob.wait(1)\n",
    "rob.setLedColorTo(LED.All,Color.OFF)\n",
    "\n",
    "rob.disconnect()"
   ]
  },
  {
   "cell_type": "markdown",
   "id": "00b6fcf4",
   "metadata": {},
   "source": [
    "EJERCICIO 2"
   ]
  },
  {
   "cell_type": "code",
   "execution_count": null,
   "id": "6a220887",
   "metadata": {},
   "outputs": [],
   "source": [
    "from robobopy.Robobo import Robobo\n",
    "from robobopy.utils.Color import Color\n",
    "from robobopy.utils.LED import LED\n",
    "\n",
    "rob = Robobo(\"localhost\")\n",
    "rob.connect()\n",
    "\n",
    "\n",
    "giro=input(\"¿Quieres que el robot gire a la izquierda (I) o a la derecha (D)?\")\n",
    "\n",
    "\n",
    "if giro==\"I\":\n",
    "    rob.sayText(\"Giro a la izquierda\")\n",
    "    rob.setLedColorTo(LED.FrontRR,Color.GREEN)\n",
    "    rob.moveWheelsByTime(10,-10,5)\n",
    "    rob.setLedColorTo(LED.FrontRR,Color.OFF)\n",
    "elif giro==\"D\":\n",
    "    rob.sayText(\"Giro a la derecha\")\n",
    "    rob.setLedColorTo(LED.FrontLL,Color.GREEN)\n",
    "    rob.moveWheelsByTime(-10,10,5)\n",
    "    rob.setLedColorTo(LED.FrontLL,Color.OFF)\n",
    "else:\n",
    "    rob.sayText(\"No entiendo lo que me acabas de decir\")\n",
    "    \n",
    "rob.disconnect()"
   ]
  },
  {
   "cell_type": "markdown",
   "id": "4f18031f",
   "metadata": {},
   "source": [
    "EJERCICIO 3"
   ]
  },
  {
   "cell_type": "code",
   "execution_count": null,
   "id": "784cb97e",
   "metadata": {},
   "outputs": [],
   "source": [
    "from robobopy.Robobo import Robobo\n",
    "from robobopy.utils.Emotions import Emotions \n",
    "from robobopy.utils.Sounds import Sounds\n",
    "\n",
    "\n",
    "rob = Robobo(\"localhost\")\n",
    "rob.connect()\n",
    "\n",
    "#Notas en tono ascendente\n",
    "rob.playNote(48,0.25)\n",
    "rob.playNote(57,0.25)\n",
    "\n",
    "#Avanzar a gran velocidad\n",
    "rob.setEmotionTo(Emotions.SURPRISED)\n",
    "rob.moveWheelsByTime(80,80,5)\n",
    "rob.playSound(Sounds.LIKES)\n",
    "\n",
    "#Girar a gran velocidad\n",
    "rob.setEmotionTo(Emotions.NORMAL)\n",
    "rob.moveWheelsByTime(-50,50,3)\n",
    "\n",
    "#Expresión cansada\n",
    "rob.setEmotionTo(Emotions.TIRED)\n",
    "rob.sayText(\"Me mareo\")\n",
    "\n",
    "\n",
    "#Tono descendente\n",
    "rob.playNote(57,0.25)\n",
    "rob.playNote(48,0.25)\n",
    "\n",
    "rob.disconnect()"
   ]
  }
 ],
 "metadata": {
  "kernelspec": {
   "display_name": "Python 3",
   "language": "python",
   "name": "python3"
  },
  "language_info": {
   "codemirror_mode": {
    "name": "ipython",
    "version": 3
   },
   "file_extension": ".py",
   "mimetype": "text/x-python",
   "name": "python",
   "nbconvert_exporter": "python",
   "pygments_lexer": "ipython3",
   "version": "3.12.6"
  }
 },
 "nbformat": 4,
 "nbformat_minor": 5
}
