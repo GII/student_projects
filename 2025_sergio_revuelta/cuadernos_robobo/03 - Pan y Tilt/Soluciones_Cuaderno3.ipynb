{
 "cells": [
  {
   "cell_type": "markdown",
   "id": "ca83c70e",
   "metadata": {},
   "source": [
    "1 (bloqueante)"
   ]
  },
  {
   "cell_type": "code",
   "execution_count": null,
   "id": "9c04ea1d",
   "metadata": {},
   "outputs": [],
   "source": [
    "from robobopy.Robobo import Robobo\n",
    "rob = Robobo(\"localhost\")\n",
    "rob.connect()\n",
    "\n",
    "\n",
    "rob.movePanTo(50,10)\n",
    "rob.moveTiltTo(70,4)\n",
    "\n",
    "rob.disconnect()"
   ]
  },
  {
   "cell_type": "markdown",
   "id": "70eff691",
   "metadata": {},
   "source": [
    "1 (No bloqueante)"
   ]
  },
  {
   "cell_type": "code",
   "execution_count": null,
   "id": "010f12ab",
   "metadata": {},
   "outputs": [],
   "source": [
    "from robobopy.Robobo import Robobo\n",
    "rob = Robobo(\"localhost\")\n",
    "rob.connect()\n",
    "\n",
    "\n",
    "rob.movePanTo(50,10,False)\n",
    "rob.moveTiltTo(70,4,False)\n",
    "\n",
    "rob.disconnect()"
   ]
  },
  {
   "cell_type": "markdown",
   "id": "6d90b6f5",
   "metadata": {},
   "source": [
    "EJERCICIO 2"
   ]
  },
  {
   "cell_type": "code",
   "execution_count": null,
   "id": "d290639b",
   "metadata": {},
   "outputs": [],
   "source": [
    "from robobopy.Robobo import Robobo\n",
    "rob = Robobo(\"localhost\")\n",
    "rob.connect()\n",
    "\n",
    "\n",
    "while True:\n",
    "    rob.moveWheelsByTime(15,15,5)\n",
    "    rob.movePanTo(90,20)\n",
    "    rob.wait(1)\n",
    "    rob.movePanTo(-90,20)\n",
    "    rob.wait(1)\n",
    "    rob.movePanTo(0,20)\n",
    "    rob.wait(1)"
   ]
  },
  {
   "cell_type": "markdown",
   "id": "2fe14172",
   "metadata": {},
   "source": [
    "EJERCICIO 3"
   ]
  },
  {
   "cell_type": "code",
   "execution_count": null,
   "id": "27557447",
   "metadata": {},
   "outputs": [],
   "source": [
    "from robobopy.Robobo import Robobo\n",
    "rob = Robobo(\"localhost\")\n",
    "rob.connect()\n",
    "\n",
    "\n",
    "respuesta=input(\"Quiere realizar el movimiento en modo bloqueante (S) o no bloqueante (N)?:\")\n",
    "\n",
    "if respuesta==\"S\":\n",
    "    modo=True\n",
    "elif respuesta==\"N\":\n",
    "    modo=False\n",
    "else:\n",
    "    print(\"Respuesta no válida. Se termina el programa.\")\n",
    "\n",
    "if respuesta==\"S\" or respuesta==\"N\":\n",
    "    rob.moveTiltTo(0,15,modo)\n",
    "    rob.movePanTo(-160,20)\n",
    "    rob.moveTiltTo(105,15,modo)\n",
    "    rob.movePanTo(160,20)\n",
    "\n",
    "\n",
    "rob.disconnect()"
   ]
  },
  {
   "cell_type": "markdown",
   "id": "d624da0a",
   "metadata": {},
   "source": [
    "EJERCICIO 4"
   ]
  },
  {
   "cell_type": "code",
   "execution_count": null,
   "id": "025d0291",
   "metadata": {},
   "outputs": [],
   "source": [
    "from robobopy.Robobo import Robobo\n",
    "rob = Robobo(\"localhost\")\n",
    "rob.connect()\n",
    "\n",
    "velocidad=int(input(\"Velocidad(-100,100): \"))\n",
    "tiempo=float(input(\"Tiempo (1-5): \"))\n",
    "\n",
    "sensibilidad=(105-5)/(-100-100)\n",
    "inclinacion_tilt=int(velocidad*sensibilidad)\n",
    "\n",
    "\n",
    "rob.moveTiltTo(inclinacion_tilt,velocidad,False)\n",
    "rob.moveWheelsByTime(velocidad,velocidad,tiempo)\n",
    "\n",
    "rob.disconnect()"
   ]
  }
 ],
 "metadata": {
  "language_info": {
   "name": "python"
  }
 },
 "nbformat": 4,
 "nbformat_minor": 5
}
