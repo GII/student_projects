{
 "cells": [
  {
   "cell_type": "markdown",
   "id": "13ff8ae1",
   "metadata": {},
   "source": [
    "<table width=\"100%\">\n",
    "<tr>\n",
    "    <td align=\"left\" width=\"50%\" style=\"border: 0px; padding-left: 20px;\">\n",
    "        <img src=\"img/udc.png\" width=\"300\">\n",
    "    </td>\n",
    "    <td align=\"right\" width=\"50%\" style=\"border: 0px; padding-right: 50px;\">\n",
    "        <img src=\"img/logo_mint.svg\" width=\"250\">\n",
    "    </td>    \n",
    "</tr>\n",
    "</table>"
   ]
  },
  {
   "cell_type": "markdown",
   "id": "955c3c9c",
   "metadata": {},
   "source": [
    "<center>\n",
    "<h1 style=\"color: #d60e8c;\">Robobo: Motores PAN y TILT</h1> \n",
    "</center>"
   ]
  },
  {
   "cell_type": "markdown",
   "id": "a5f84d2a",
   "metadata": {},
   "source": [
    "<h2>Contenidos</h2>\n",
    "\n",
    "<div class=\"alert alert-block alert-info\" \n",
    "     style=\"margin-top: 20px; padding-top:10px; border: 1px solid #d60e8c; border-radius: 20px; background:transparent;\">\n",
    "    <ul>\n",
    "        <li><a href=\"#intro\">Introducción</a></li>\n",
    "        <li><a href=\"#pan\">Pan</a></li>\n",
    "        <ul>\n",
    "            <li><a href=\"#movepan\">movePanTo(degrees, speed, wait=True)</a></li>\n",
    "            <li><a href=\"#readpan\">readPanPosition()</a></li>\n",
    "        </ul>\n",
    "        <li><a href=\"#tilt\">Tilt</a></li>\n",
    "        <ul>\n",
    "            <li><a href=\"#movetilt\">moveTiltTo(degrees, speed, wait=True)</a></li>\n",
    "            <li><a href=\"#readtilt\">readTiltPosition()</a></li>\n",
    "        </ul>\n",
    "        <li><a href=\"#block\">Modo Bloqueante y No Bloqueante</a></li>  \n",
    "        <li><a href=\"#ej\">Ejercicios</a></li>  \n",
    "    </ul>\n",
    "</div>"
   ]
  },
  {
   "cell_type": "markdown",
   "id": "f070a34b",
   "metadata": {},
   "source": [
    "<a id=\"intro\" style=\"text-decoration:none;\">\n",
    "<h1 style=\"color: #d60e8c; border-bottom: 2px solid #d60e8c;padding-bottom: 5px;\">Introducción</h1>\n",
    "</a>\n",
    "\n",
    "El accesorio donde se coloca el smarthphone dispone de dos motores:\n",
    "- **Motor Pan**: Gira el smartphone en un eje vertical.\n",
    "- **Motor Tilt**: Gira el smartphone en un eje horizontal.\n",
    "\n",
    "Con estos dos motores se consigue que la \"cabeza\" del robot pueda moverse hacia abajo, arriba, derecha o izquierda de forma independiente a las ruedas, lo cual es muy interesante para que el robot muestre un comportamiento autónomo más realista. Recuerda que el smartphone tiene la cámara del robot, por lo que podrías hacer que avance hacia adelante mientras busca algo por los lados, por ejemplo."
   ]
  },
  {
   "cell_type": "markdown",
   "id": "18475401",
   "metadata": {},
   "source": [
    "<img src=\"img/ejes_pan_tilt.png\" width=\"300\">"
   ]
  },
  {
   "cell_type": "markdown",
   "id": "6c792efe",
   "metadata": {},
   "source": [
    "<a id=\"pan\" style=\"text-decoration:none;\">\n",
    "<h1 style=\"color: #d60e8c; border-bottom: 2px solid #d60e8c;padding-bottom: 5px;\">Motor Pan</h1>\n",
    "</a>\n",
    "\n",
    "Este motor hace que el smartphone gire a derecha e izquierda, y tenemos dos métodos de Robobo asociados."
   ]
  },
  {
   "cell_type": "markdown",
   "id": "93008657",
   "metadata": {},
   "source": [
    "<a id=\"movepan\" style=\"text-decoration:none;\">\n",
    "<h2 style=\"color: #d60e8c;\">movePanTo(degrees, speed, wait=True)</h2>\n",
    "</a>\n",
    "\n",
    "**FUNCIÓN**: Mueve el motor PAN hasta la posición deseada.\n",
    "\n",
    "**Parámetros:**\n",
    "\n",
    "- *degrees (int)*: Posición en grados del motor PAN. El rango de valores permitidos está entre **-160** y **160**, como se puede ver en la imagen siguiente.\n",
    "- *speed (int)*: Velocidad de giro del motor PAN. El rango de valores permitidos está entre 0 y 100. Cuanto mayor es la velocidad, menos tiempo tardará en alcanzar la posición objetivo.\n",
    "- *wait (boolean)*: Indica si este método se ejecuta en **modo bloqueante o no** (True: modo\n",
    "bloqueante, False: modo no bloqueante).\n",
    "\n",
    "<img src=\"img/pan.PNG\" width=\"250\">"
   ]
  },
  {
   "cell_type": "markdown",
   "id": "df353656",
   "metadata": {},
   "source": [
    "Antes de probar este método, debemos tener cargado el simulador RoboboSim, abrir el mundo **FOUR WALLS** y ejecutar las 3 instrucciones básicas de conexión:"
   ]
  },
  {
   "cell_type": "code",
   "execution_count": null,
   "id": "355519b2",
   "metadata": {},
   "outputs": [],
   "source": [
    "from robobopy.Robobo import Robobo\n",
    "rob = Robobo(\"localhost\")\n",
    "rob.connect()"
   ]
  },
  {
   "cell_type": "markdown",
   "id": "25f70443",
   "metadata": {},
   "source": [
    "A continuación, si ejecutas esta línea de código, el motor **PAN** se moverá hasta los **120º** con una velocidad de **5**:"
   ]
  },
  {
   "cell_type": "code",
   "execution_count": null,
   "id": "601d40c9",
   "metadata": {},
   "outputs": [],
   "source": [
    "rob.movePanTo(120,5)"
   ]
  },
  {
   "cell_type": "markdown",
   "id": "2499ea72",
   "metadata": {},
   "source": [
    "Fíjate si se ha movido hacia la derecha o hacia la izquierda. Ahora ejecuta la siguiente línea de código, que hará que se mueva hasta **-30º** con una velocidad de **10**."
   ]
  },
  {
   "cell_type": "code",
   "execution_count": null,
   "id": "98a5e5c5",
   "metadata": {},
   "outputs": [],
   "source": [
    "rob.movePanTo(-30,10)"
   ]
  },
  {
   "cell_type": "markdown",
   "id": "c1e58cf8",
   "metadata": {},
   "source": [
    "Si se desea devolver el PAN a la posición inicial, debes hacer que se mueva hasta 0º:"
   ]
  },
  {
   "cell_type": "code",
   "execution_count": null,
   "id": "42fd656e",
   "metadata": {},
   "outputs": [],
   "source": [
    "rob.movePanTo(0,20)"
   ]
  },
  {
   "cell_type": "markdown",
   "id": "bb5a24b1",
   "metadata": {},
   "source": [
    "<a id=\"readpan\" style=\"text-decoration:none;\">\n",
    "<h2 style=\"color: #d60e8c;\">readPanPosition()</h2>\n",
    "</a>\n",
    "\n",
    "**Función**: Lee la posición actual de motor PAN.\n",
    "\n",
    "**Devuelve**:\n",
    "- La posición en grados (int): los valores devueltos están en el rango de -160 a 160."
   ]
  },
  {
   "cell_type": "markdown",
   "id": "8a0fdc4f",
   "metadata": {},
   "source": [
    "Tras el último paso realizado en, podemos leer ahora la posición del motor PAN:"
   ]
  },
  {
   "cell_type": "code",
   "execution_count": null,
   "id": "4d2ec888",
   "metadata": {},
   "outputs": [],
   "source": [
    "Posicion_Pan=rob.readPanPosition()\n",
    "print(f\"La posición actual del Pan es de {Posicion_Pan} grados.\")"
   ]
  },
  {
   "cell_type": "markdown",
   "id": "69f5e6d2",
   "metadata": {},
   "source": [
    "<a id=\"tilt\" style=\"text-decoration:none;\">\n",
    "<h1 style=\"color: #d60e8c; border-bottom: 2px solid #d60e8c;padding-bottom: 5px;\">Motor Tilt</h1>\n",
    "</a>\n",
    "\n",
    "Este motor hace que el smartphone gire hacia arriba o hacia abajo y, de nuevo, tiene dos métodos asociados.\n",
    "\n"
   ]
  },
  {
   "cell_type": "markdown",
   "id": "90d742b2",
   "metadata": {},
   "source": [
    "<a id=\"movetilt\" style=\"text-decoration:none;\">\n",
    "<h2 style=\"color: #d60e8c;\">moveTiltTo(degrees, speed, wait=True)</h2>\n",
    "</a>\n",
    "\n",
    "**Función**: Mueve el motor TILT hasta la posición deseada.\n",
    "\n",
    "**Parámetros:**\n",
    "\n",
    "- *degrees (int)*: Posición en grados del motor TILT. El rango de valores permitidos está entre 5 y 105, siendo 75 el valor central, como se observa en la figura inferior.\n",
    "- *speed (int)*: Velocidad de giro del motor TILT. El rango de valores permitidos está entre 0 y 100. Cuanto mayor es la velocidad, menos tiempo tardará en alcanzarla posición objetivo.\n",
    "- *wait (boolean)*: Indica si este método se ejecuta en modo bloqueante o no (True: modo bloqueante, False: modo no bloqueante).\n",
    "\n",
    "<img src=\"img/tilt.PNG\" width=\"250\">"
   ]
  },
  {
   "cell_type": "markdown",
   "id": "d2816402",
   "metadata": {},
   "source": [
    "Por ejemplo, la siguiente instrucción mueve el motor TILT hasta **90º** con velocidad **5**."
   ]
  },
  {
   "cell_type": "code",
   "execution_count": null,
   "id": "8e0dc968",
   "metadata": {},
   "outputs": [],
   "source": [
    "rob.moveTiltTo(90,5)"
   ]
  },
  {
   "cell_type": "markdown",
   "id": "d8e45a58",
   "metadata": {},
   "source": [
    "Esta otra lo mueve hasta **20º** con velocidad **10**."
   ]
  },
  {
   "cell_type": "code",
   "execution_count": null,
   "id": "65cbf796",
   "metadata": {},
   "outputs": [],
   "source": [
    "rob.moveTiltTo(20,10)"
   ]
  },
  {
   "cell_type": "markdown",
   "id": "ec12d1ff",
   "metadata": {},
   "source": [
    "El ángulo por defecto del TILT es de **75º**, por lo que lo que puede ser interesante devolverlo a esta posición inicial:"
   ]
  },
  {
   "cell_type": "code",
   "execution_count": null,
   "id": "24776dd9",
   "metadata": {},
   "outputs": [],
   "source": [
    "rob.moveTiltTo(75,20)"
   ]
  },
  {
   "cell_type": "markdown",
   "id": "1d12e141",
   "metadata": {},
   "source": [
    "<a id=\"readtilt\" style=\"text-decoration:none;\">\n",
    "<h2 style=\"color: #d60e8c;\">readTiltPosition()</h2>\n",
    "</a>\n",
    "\n",
    "**Función**: Lee la posición actual de motor TILT.\n",
    "\n",
    "**Devuelve**:\n",
    "- La posición del TILT en grados (int): los valores están en rango de 5 a 105."
   ]
  },
  {
   "cell_type": "markdown",
   "id": "51a882bc",
   "metadata": {},
   "source": [
    "Ejecutando este comando a partir del último movimiento anterior obtenemos el ángulo base:"
   ]
  },
  {
   "cell_type": "code",
   "execution_count": null,
   "id": "1be7d360",
   "metadata": {},
   "outputs": [],
   "source": [
    "Tilt_valor=rob.readTiltPosition()\n",
    "print(f\"La posición actual del Tilt es de {Tilt_valor} grados.\")"
   ]
  },
  {
   "cell_type": "markdown",
   "id": "617ecf0b",
   "metadata": {},
   "source": [
    "<a id=\"block\" style=\"text-decoration:none;\">\n",
    "<h1 style=\"color: #d60e8c; border-bottom: 2px solid #d60e8c;padding-bottom: 5px;\">Modo Bloqueante y No Bloqueante</h1>\n",
    "</a>\n",
    "\n",
    "En el cuaderno anterior se explicaron los modos de funcionamiento bloqueante y no bloqueante. Como los métodos de este cuadernos también los tienen, vamos a ver más ejemplos de su utilidad."
   ]
  },
  {
   "cell_type": "markdown",
   "id": "979b23cc",
   "metadata": {},
   "source": [
    "Primero, ejecutad estos comandos para mover el Pan y el Tilt en modo bloqueante:"
   ]
  },
  {
   "cell_type": "code",
   "execution_count": null,
   "id": "adf6c813",
   "metadata": {},
   "outputs": [],
   "source": [
    "rob.moveTiltTo(100,20)\n",
    "rob.movePanTo(140,15)"
   ]
  },
  {
   "cell_type": "markdown",
   "id": "fbf12ed2",
   "metadata": {},
   "source": [
    "Como habrás podido ver, primero se ha girado el Tilt y después el Pan. El modo bloqueante se encarga de no empezar el movimiento del Pan hasta que termine el del Tilt.\n",
    "\n",
    "Veamos qué pasa cuando se hace en modo no bloqueante:"
   ]
  },
  {
   "cell_type": "code",
   "execution_count": null,
   "id": "c76adc7a",
   "metadata": {},
   "outputs": [],
   "source": [
    "rob.moveTiltTo(20,20,False)\n",
    "rob.movePanTo(-140,15)"
   ]
  },
  {
   "cell_type": "markdown",
   "id": "7fc82f3e",
   "metadata": {},
   "source": [
    "Como véis, ahora se mueve el smartphone hacia la izquierda a la vez que se baja, porque el comando del Tilt tiene el tercer parámetro a \"False\". No es necesario que el movimiento del Pan sea no bloqueante este ejemplo, ya que no hay nada después."
   ]
  },
  {
   "cell_type": "markdown",
   "id": "61725e34",
   "metadata": {},
   "source": [
    "<a id=\"ej\" style=\"text-decoration:none;\">\n",
    "<h1 style=\"color: #d60e8c; border-bottom: 2px solid #d60e8c;padding-bottom: 5px;\">Ejercicios</h1>\n",
    "</a>"
   ]
  },
  {
   "cell_type": "markdown",
   "id": "3e28a0c1",
   "metadata": {},
   "source": [
    "**EJERCICIO 1:**\n",
    "En un mapa cualquiera de RoboboSim, haz que el robot gire el Pan 50º hacia la izquierda a una velocidad de 10 y el Tilt se incline 70º hacia delante a una velocidad de 4.\n",
    "\n",
    "Realiza este ejercicio primero en **modo bloqueante** y después en **modo no bloqueante**."
   ]
  },
  {
   "cell_type": "code",
   "execution_count": null,
   "id": "7ad15762",
   "metadata": {},
   "outputs": [],
   "source": [
    "#MODO BLOQUEANTE"
   ]
  },
  {
   "cell_type": "code",
   "execution_count": null,
   "id": "cb946f64",
   "metadata": {},
   "outputs": [],
   "source": [
    "#MODO NO BLOQUEANTE"
   ]
  },
  {
   "cell_type": "markdown",
   "id": "206becc4",
   "metadata": {},
   "source": [
    "**EJERCICIO 2**\n",
    "\n",
    "Haz un programa en el que Robobo avance 5 segundos a una velocidad de 25 en línea recta, después se pare y mire primero hacia la derecha después hacia la izquierda. A continuación vuelve a mirar de frente y arranca de nuevo en línes recta durante 15 segundos a velocidad 20.\n",
    "\n",
    " El mundo a cargar será **TEST PLANE**"
   ]
  },
  {
   "cell_type": "code",
   "execution_count": null,
   "id": "26803003",
   "metadata": {},
   "outputs": [],
   "source": [
    "#INSERTAR CÓDIGO AQUÍ"
   ]
  },
  {
   "cell_type": "markdown",
   "id": "c509a496",
   "metadata": {},
   "source": [
    "**EJERCICIO 3**\n",
    "\n",
    "Realiza un programa que realice estas acciones:\n",
    "\n",
    "1. Mover el TILT hacia los extremos (0 y 100) a una velocidad de 15\n",
    "2. Movel el PAN hacia los extremos (-180 y 180) a una velocidad de 20\n",
    "\n",
    "Antes de ejecutar la secuencia, se tiene que pedir al usuario que si quiere hacerlo en modo bloqueante (S) o en modo no bloqueante (N).\n",
    "\n",
    "- Si se hace en modo no bloqueante se tienen que ejecutar el tilt y el pan de forma simultánea en el que los dos avancen hacia un extremos , y después que ambos avancen hacia el otro extremo a la vez.\n",
    "- Si se hace en modo bloqueante primero se hace primero el movimiento del TILT y hacia un extremo y después el movimiento del PAN hacia un extremo. Repetir la secuencia para los otros extremos.\n",
    "Para realizar este ejercicio se puede usar **cualquier** mapa"
   ]
  },
  {
   "cell_type": "code",
   "execution_count": null,
   "id": "0827435b",
   "metadata": {},
   "outputs": [],
   "source": [
    "#INSERTAR CÓDIGO AQUÍ"
   ]
  },
  {
   "cell_type": "markdown",
   "id": "8c7668d0",
   "metadata": {},
   "source": [
    "**EJERCICIO 4**\n",
    "\n",
    "En el mapa **TEST PLANE**, implementa un programa en Python que pida al usuario por teclado un número entero entre -100 y 100 que indicará la velocidad de las ruedas, y un valor real entre 1 y 5 que indicará el tiempo de dicho movimiento.\n",
    "\n",
    "A continuación, Robobo se moverá con dichos valores a la vez que inclina el TILT hacia delante si la velocidad es positiva y hacia atrás si es negativa. Se puede usar cualquier valor para este movimiento, por ejemplo:\n",
    "- Hacia delante: ángulo 5 y velocidad 50\n",
    "- Hacia atrás: ángulo 105 y velocidad 30\n",
    "\n",
    "**IMPORTANTE:** el movimiento del TILT debe ocurrir a la vez que el robot se mueve (modo no bloqueante)."
   ]
  },
  {
   "cell_type": "code",
   "execution_count": null,
   "id": "12bdf4c6",
   "metadata": {},
   "outputs": [],
   "source": [
    "#INSERTAR CÓDIGO AQUÍ"
   ]
  }
 ],
 "metadata": {
  "kernelspec": {
   "display_name": "Python 3",
   "language": "python",
   "name": "python3"
  },
  "language_info": {
   "codemirror_mode": {
    "name": "ipython",
    "version": 3
   },
   "file_extension": ".py",
   "mimetype": "text/x-python",
   "name": "python",
   "nbconvert_exporter": "python",
   "pygments_lexer": "ipython3",
   "version": "3.12.6"
  }
 },
 "nbformat": 4,
 "nbformat_minor": 5
}
