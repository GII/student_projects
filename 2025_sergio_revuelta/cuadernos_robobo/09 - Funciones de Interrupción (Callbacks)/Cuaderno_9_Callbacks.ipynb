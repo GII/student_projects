{
 "cells": [
  {
   "cell_type": "markdown",
   "id": "2a11baaa",
   "metadata": {},
   "source": [
    "<table width=\"100%\">\n",
    "<tr>\n",
    "    <td align=\"left\" width=\"50%\" style=\"border: 0px; padding-left: 20px;\">\n",
    "        <img src=\"img/udc.png\" width=\"300\">\n",
    "    </td>\n",
    "    <td align=\"right\" width=\"50%\" style=\"border: 0px; padding-right: 50px;\">\n",
    "        <img src=\"img/logo_mint.svg\" width=\"250\">\n",
    "    </td>    \n",
    "</tr>\n",
    "</table>"
   ]
  },
  {
   "cell_type": "markdown",
   "id": "15977da7",
   "metadata": {},
   "source": [
    "<center>\n",
    "<h1 style=\"color: #d60e8c;\">Robobo: Callbacks</h1> \n",
    "</center>"
   ]
  },
  {
   "cell_type": "markdown",
   "id": "f12e7cfe",
   "metadata": {},
   "source": [
    "<h2>Contenidos</h2>\n",
    "\n",
    "<div class=\"alert alert-block alert-info\" \n",
    "     style=\"margin-top: 20px; padding-top:10px; border: 1px solid #d60e8c; border-radius: 20px; background:transparent;\">\n",
    "    <ul>\n",
    "        <li><a href=\"#intro\">Introducción</a></li>\n",
    "        <li><a href=\"#tc\">Pantalla táctil: Callbacks</a></li>\n",
    "        <ul>\n",
    "            <li><a href=\"#wafid\">WhenAFlingIsDetected(callback)</a></li>\n",
    "            <li><a href=\"#watid\">WhenATapIsDetected(callback)</a></li>\n",
    "        </ul>\n",
    "        <li><a href=\"#bc\">Blob: Callbacks</a></li>\n",
    "        <ul>\n",
    "            <li><a href=\"#wanbid\">whenANewColorBlobIsDetected(callback)</a></li>\n",
    "        </ul>\n",
    "        <li><a href=\"#qrc\">QR: Callbacks</a></li>\n",
    "        <ul>\n",
    "            <li><a href=\"#code\">WhenAQRCodeIsDetected(callback)</a></li>\n",
    "            <li><a href=\"#newcode\">WhenANewQRCodeIsDetected(callback)</a></li>\n",
    "            <li><a href=\"#lostcode\">WhenAQRCodeIsLost(callback)</a></li>\n",
    "        </ul>\n",
    "        <li><a href=\"#ej\">Ejercicios</a></li>\n",
    "    </ul>\n",
    "</div>"
   ]
  },
  {
   "cell_type": "markdown",
   "id": "b7baebe6",
   "metadata": {},
   "source": [
    "<a id=\"intro\" style=\"text-decoration:none;\">\n",
    "<h1 style=\"color: #d60e8c; border-bottom: 2px solid #d60e8c;padding-bottom: 5px;\">Introducción</h1>\n",
    "</a>\n",
    "\n",
    "Las funciones normales que hemos visto hasta ahora, forman parte de un programa secuencial, es decir, con una lógica que se cumple paso a paso. Un **callback**, o también conocido como una *función de interrupción*, es un tipo de función que se puede ejecutar en cualquier momento. De manera simple, podemos decir que son funciones que están chequeando continuamente si se dan unas condiciones para arrancar, y podemos tener varias a la vez. \n",
    "\n",
    "Es importante mencionar que estas funciones no deben contener demasiado código, ya que, como se pueden activar en cualquier momento, pueden afectar a la ejecución del código principal."
   ]
  },
  {
   "cell_type": "markdown",
   "id": "937f9ec0",
   "metadata": {},
   "source": [
    "La librería Robobo contiene 6 métodos que emplean callbacks. Dos de ellos hacen referencia al sensor **fling** y al sensor **tap** de la pantalla táctil, uno utiliza la detección de blobs de color, y los otros 3 actúan sobre los **códigos QR**."
   ]
  },
  {
   "cell_type": "markdown",
   "id": "bfca71ab",
   "metadata": {},
   "source": [
    "\n",
    "<a id=\"tc\" style=\"text-decoration:none;\">\n",
    "<h1 style=\"color: #d60e8c; border-bottom: 2px solid #d60e8c;padding-bottom: 5px;\">Pantalla táctil: Callbacks</h1>\n",
    "</a>"
   ]
  },
  {
   "cell_type": "markdown",
   "id": "3531a5bf",
   "metadata": {},
   "source": [
    "<a id=\"wafid\" style=\"text-decoration:none;\">\n",
    "<h3 style=\"color: #d60e8c;\">WhenAFlingIsDetected(callback)</h2>\n",
    "</a>\n",
    "\n",
    "**Función:** Establece la función callback que se llama cuando se detecta un nuevo fling.\n",
    "- callback (fun): La función callback a ser llamada."
   ]
  },
  {
   "cell_type": "markdown",
   "id": "739d2536",
   "metadata": {},
   "source": [
    "Puedes ejecutar el código de abajo en un mundo **cualquiera**. El objetivo de este código es que el Robobo diga su **nivel de batería** cuando el usuario hace un **fling** en la pantalla del **smarthphone**:"
   ]
  },
  {
   "cell_type": "code",
   "execution_count": null,
   "id": "4b202fcf",
   "metadata": {},
   "outputs": [],
   "source": [
    "from robobopy.Robobo import Robobo\n",
    "\n",
    "#Función que se ejecuta cuando el callback se activa\n",
    "def say_battery_level():\n",
    "    rob.sayText('La base tiene una bateria de' + str(rob.readBatteryLevel('base')))\n",
    "\n",
    "rob = Robobo('localhost')\n",
    "rob.connect()\n",
    "\n",
    "rob.whenAFlingIsDetected(say_battery_level)\n",
    "\n",
    "tiempo=0\n",
    "# el programa se mantiene en ejecución continua hasta que pase 1 minuto\n",
    "while tiempo<600:\n",
    "    rob.wait(0.1)\n",
    "    tiempo+=1\n",
    "\n",
    "print(\"TIMEOUT\")\n",
    "rob.disconnect()"
   ]
  },
  {
   "cell_type": "markdown",
   "id": "0e818fdf",
   "metadata": {},
   "source": [
    "Al meter esta función de callback (*whenAFlingIsDetected*) en el programa, mientras este no se detenga estará comprobando, de manera continuada, si el usuario hace un fling cualquiera. En ese caso, lanzará la función  **say_battery_level** que tiene como argumento y que está definida más arriba."
   ]
  },
  {
   "cell_type": "markdown",
   "id": "99fdbd3a",
   "metadata": {},
   "source": [
    "\n",
    "<a id=\"watid\" style=\"text-decoration:none;\">\n",
    "<h3 style=\"color: #d60e8c;\">WhenATapIsDetected(callback)</h2>\n",
    "</a>\n",
    "\n",
    "\n",
    "**Función**: Establece la función callback que se llama cuando se detecta un nuevo tap.\n",
    "\n",
    "**Parámetros:**\n",
    "- callback (fun): La función callback a ser llamada."
   ]
  },
  {
   "cell_type": "markdown",
   "id": "ba6073a7",
   "metadata": {},
   "source": [
    "Puedes ejecutar el código de abajo en los mundos **SLOPE** o **PLAIN**. El objetivo de este programa es que el Robobo avance recto de forma constante hasta que alguien toque la pantalla con un tap, de esa manera, se detendrá."
   ]
  },
  {
   "cell_type": "code",
   "execution_count": null,
   "id": "b6f3865a",
   "metadata": {},
   "outputs": [],
   "source": [
    "from robobopy.Robobo import Robobo\n",
    "\n",
    "#Función que se ejecuta cuando el callback se activa\n",
    "def fun():\n",
    "    rob.stopMotors()\n",
    "    \n",
    "rob = Robobo('localhost')\n",
    "rob.connect()\n",
    "\n",
    "rob.moveWheels(30,30)\n",
    "rob.whenATapIsDetected(fun)\n",
    "timeout=0\n",
    "# el programa se mantiene en ejecución continua durante medio minuto\n",
    "while timeout<300:\n",
    "    rob.wait(0.1)\n",
    "    timeout+=1\n",
    "\n",
    "print(\"TIMEOUT\")\n",
    "rob.disconnect()"
   ]
  },
  {
   "cell_type": "markdown",
   "id": "e21632e9",
   "metadata": {},
   "source": [
    "De nuevo, al meter la función de callback (*whenATapIsDetected*) en el programa, mientras este no se detenga estará comprobando, de manera continuada, si el usuario hace un tap cualquiera. En ese caso, lanzará la función  **fun** que tiene como argumento y que está definida más arriba."
   ]
  },
  {
   "cell_type": "markdown",
   "id": "097a099c",
   "metadata": {},
   "source": [
    "\n",
    "<a id=\"bc\" style=\"text-decoration:none;\">\n",
    "<h1 style=\"color: #d60e8c; border-bottom: 2px solid #d60e8c;padding-bottom: 5px;\">Color Blob: Callbacks</h1>\n",
    "</a>"
   ]
  },
  {
   "cell_type": "markdown",
   "id": "f8a733ab",
   "metadata": {},
   "source": [
    "<a id=\"wanbid\" style=\"text-decoration:none;\">\n",
    "<h3 style=\"color: #d60e8c;\">whenANewColorBlobIsDetected(callback)</h2>\n",
    "</a>\n",
    "\n",
    "**Función**:Establece la función callback que se llama cuando se detecta un nuevo blob.\n",
    "\n",
    "**Parámetros:**\n",
    "- callback (fun): La función callback que será llamada."
   ]
  },
  {
   "cell_type": "markdown",
   "id": "5e7c538c",
   "metadata": {},
   "source": [
    "Para probar este método, cargad el mapa **FOUR CYLINDRES** y ejecutad el siguiente código:\n",
    "\n",
    "- Robobo subirá su TILT para detectar mejor los colores, y luego irá girando sobre su eje tratando de detectar los cilindros de colores.\n",
    "- Cada vez que detecta uno, dice el color que ve.\n",
    "- En este ejemplo está desactivado el color CUSTOM, por lo que no dirá nada sobre ese blob de color (en este caso, el cilindro amarillo)."
   ]
  },
  {
   "cell_type": "code",
   "execution_count": null,
   "id": "c9d7e058",
   "metadata": {},
   "outputs": [],
   "source": [
    "from robobopy.Robobo import Robobo\n",
    "from robobopy.utils.Color import *\n",
    "\n",
    "#Función que se ejecuta cuando el callback se activa\n",
    "def color_detected():\n",
    "    print(rob.readColorBlob(Color.BLUE).size)\n",
    "    if rob.readColorBlob(Color.GREEN).size != 0:\n",
    "        rob.sayText('Estoy viendo verde')\n",
    "    else:\n",
    "        if rob.readColorBlob(Color.RED).size != 0:\n",
    "            rob.sayText('Estoy viendo rojo')\n",
    "        else:\n",
    "            rob.sayText('Estoy viendo azul')\n",
    "\n",
    "#Configurando parámetros iniciales\n",
    "rob = Robobo(\"localhost\")\n",
    "rob.connect()\n",
    "rob.setActiveBlobs(True, True, True, False)\n",
    "\n",
    "#Declaramos la función de interrupción\n",
    "rob.whenANewColorBlobIsDetected(color_detected)\n",
    "#Se mueve el Tilt\n",
    "rob.moveTiltTo(90,5,True)\n",
    "# el programa se mantiene en ejecución continua durante aproximadamente 1 minuto \n",
    "timeout=0\n",
    "while timeout<300:\n",
    "    rob.moveWheels(3,-3)\n",
    "    rob.wait(0.2)\n",
    "    timeout+=1\n",
    "\n",
    "print(\"TIMEOUT\")\n",
    "rob.disconnect()"
   ]
  },
  {
   "cell_type": "markdown",
   "id": "1c7e18a4",
   "metadata": {},
   "source": [
    "\n",
    "<a id=\"qrc\" style=\"text-decoration:none;\">\n",
    "<h1 style=\"color: #d60e8c; border-bottom: 2px solid #d60e8c;padding-bottom: 5px;\">QRs: Callbacks</h1>\n",
    "</a>"
   ]
  },
  {
   "cell_type": "markdown",
   "id": "05e917b5",
   "metadata": {},
   "source": [
    "\n",
    "<a id=\"code\" style=\"text-decoration:none;\">\n",
    "<h3 style=\"color: #d60e8c;\">WhenAQRCodeIsDetected(callback)</h2>\n",
    "</a>\n",
    "\n",
    "\n",
    "\n",
    "\n",
    "**Función**: Establece la función callback que se llama cuando se detecta un QR.\n",
    "- callback (fun): La función callback a ser llamada."
   ]
  },
  {
   "cell_type": "markdown",
   "id": "ab296113",
   "metadata": {},
   "source": [
    "El ejemplo de abajo se cargará en el mundo **RECYCLING SIMPLE** y con la opción \"Habilitar mundos aleatorios\" activada:\n",
    "\n",
    "- El robot se acercará con tal de detectar el QR que tiene en frente\n",
    "- En el momento en el que el robot detecte un QR, se activará el callback.\n",
    "- El callback detendrá los motores y leerá el QR. Solo hay 3 identificadores de QR en este mapa: ORGANIC, PLASTIC Y PAPER. El robot dirá Código, seguido del nombre del identificador y luego dirá \"detectado. Por ejemplo: *Código ORGANIC detectado*\n",
    "\n",
    "- El callback se activará constantemente mientras siga viendo un QR.\n",
    "\n",
    "- Pasado el medio minuto, el programa se parará."
   ]
  },
  {
   "cell_type": "code",
   "execution_count": null,
   "id": "cff00c0c",
   "metadata": {},
   "outputs": [],
   "source": [
    "from robobopy.Robobo import Robobo\n",
    "from robobopy.utils.Wheels import Wheels\n",
    "#Función que se ejecuta cuando se activa el callback\n",
    "def fun():\n",
    "    rob.stopMotors()\n",
    "    rob.sayText('Codigo')\n",
    "    rob.sayText(rob.readQR().id)\n",
    "    rob.sayText('detectado')\n",
    "rob = Robobo('localhost')\n",
    "rob.connect()\n",
    "rob.moveWheels(5,5)\n",
    "\n",
    "#Se declara la función de interrupción\n",
    "rob.whenAQRCodeIsDetected(fun)\n",
    "# El programa se mantiene en ejecución durante medio minuto\n",
    "timeout=0\n",
    "while timeout<30:\n",
    "    rob.wait(1)\n",
    "    timeout+=1\n",
    "\n",
    "print(\"TIMEOUT\")\n",
    "rob.disconnect()"
   ]
  },
  {
   "cell_type": "markdown",
   "id": "4b5a3f30",
   "metadata": {},
   "source": [
    "\n",
    "<a id=\"newcode\" style=\"text-decoration:none;\">\n",
    "<h3 style=\"color: #d60e8c;\">WhenANewQRCodeIsDetected(callback)</h2>\n",
    "</a>\n",
    "\n",
    "\n",
    "\n",
    "**Función**: Establece la función callback que se llama cuando se detecta un nuevo QR. Un QR se considera nuevo si es distinto del detectado la última vez."
   ]
  },
  {
   "cell_type": "markdown",
   "id": "2dddf684",
   "metadata": {},
   "source": [
    "En el mismo mundo que en el apartado anterior:\n",
    "\n",
    "- El robot avanzará a una velocidad de 10 durante 3 segundo para tener más cerca el QR.\n",
    "- El robot dirá \"Ya he visto el primer QR. Voy a ver el de la derecha\". Como se pudo ver en el ejemplo anterior, Robobo detectó el QR de enfrente nada más ejecutarse el programa, por lo que aquí partimos de que, al poco de conectarse en este nuevo ejemplo, ya ha visto el primer QR leído.\n",
    "- Para demostrar que el siguiente QR será uno nuevo, Robobo girará a la derecha a una velocidad de 3 durante 3 segundos. Si empieza a hablar antes de detenerse, querrá decir que ha visto el nuevo QR.\n",
    "- En el callback, Robobo dirá \"Un nuevo QR detectado\" y después el identificador del mismo.\n",
    "- Una vez hayan pasado 5 segundos desde que detuvo las ruedas, finalizará el programa."
   ]
  },
  {
   "cell_type": "code",
   "execution_count": null,
   "id": "6af138e2",
   "metadata": {},
   "outputs": [],
   "source": [
    "from robobopy.Robobo import Robobo\n",
    "from robobopy.utils.Wheels import Wheels\n",
    "\n",
    "#Función que se usará como callback\n",
    "def fun():\n",
    "    rob.stopMotors()\n",
    "    rob.sayText('Un nuevo QR detectado')\n",
    "    rob.sayText(rob.readQR().id)\n",
    "    rob.wait(1)\n",
    "\n",
    "#Conexión y preparativos\n",
    "rob = Robobo('localhost')\n",
    "rob.connect()\n",
    "rob.startQrTracking()\n",
    "rob.moveWheelsByTime(10,10,3)\n",
    "\n",
    "#Se declara la función de interrupción\n",
    "rob.whenANewQRCodeIsDetected(fun)\n",
    "rob.wait(2)\n",
    "rob.sayText(\"Ya he visto el primer QR. Voy a ver el de la derecha\")\n",
    "rob.moveWheelsByTime(-3,3,3)\n",
    "rob.wait(5)\n",
    "\n",
    "rob.disconnect()"
   ]
  },
  {
   "cell_type": "markdown",
   "id": "5eaa363c",
   "metadata": {},
   "source": [
    "\n",
    "<a id=\"lostcode\" style=\"text-decoration:none;\">\n",
    "<h3 style=\"color: #d60e8c;\">WhenAQRCodeIsLost(callback)</h2>\n",
    "\n",
    "</a>\n",
    "\n",
    "**Función**: Establece la función callback que se llama cuando se pierde un QR.\n",
    "- callback (fun): La función callback a ser llamada."
   ]
  },
  {
   "cell_type": "markdown",
   "id": "504ed085",
   "metadata": {},
   "source": [
    "Siguiendo en el mismo mundo. Se cargará este código:\n",
    "\n",
    "- Se acercará de la misma manera que se acercó al QR en el ejemplo anterior.\n",
    "- Después, Robobo girará su tilt a un ángulo de 5 con una velocidad de 25 con tal de perder de vista el QR que tiene enfrente. Así no detectará los otros dos."
   ]
  },
  {
   "cell_type": "code",
   "execution_count": null,
   "id": "75d252ef",
   "metadata": {},
   "outputs": [],
   "source": [
    "from robobopy.Robobo import Robobo\n",
    "from robobopy.utils.Wheels import Wheels\n",
    "\n",
    "#Función que se usará como callback\n",
    "def fun():\n",
    "    rob.sayText('Se ha perdido el codigo QR')\n",
    "\n",
    "#Conexión y preparativos\n",
    "rob = Robobo('localhost')\n",
    "rob.connect()\n",
    "rob.startQrTracking()\n",
    "rob.moveWheelsByTime(10,10,3)\n",
    "\n",
    "#Se declara la función de interrupción\n",
    "rob.whenAQRCodeIsLost(fun)\n",
    "\n",
    "#Se mueve el Tilt. Durante su ejecución, se puede activar la función de interrupción\n",
    "rob.moveTiltTo(35,25)\n",
    "\n",
    "\n",
    "rob.disconnect()"
   ]
  },
  {
   "cell_type": "markdown",
   "id": "051a6aa2",
   "metadata": {},
   "source": [
    "<a id=\"ej\" style=\"text-decoration:none;\">\n",
    "<h1 style=\"color: #d60e8c; border-bottom: 2px solid #d60e8c;padding-bottom: 5px;\">Ejercicios</h1>\n",
    "</a>\n",
    "\n",
    "**EJERCICIO 1**\n",
    "\n",
    "En un mundo cualquiera, realiza un programa en el que Robobo avance dependiendo de la zona que toques de la pantalla táctil y usando la función de interrupción WhenATapIsDetected(callback):\n",
    "- Si tocas la zona *eye*, el robot se moverá a una velocidad de 20 de forma constante.\n",
    "- Si tocas la zona *right*, el robot girará hacia la izquierda a una velocidad de 5.\n",
    "- Si tocas la zona *left*, el robot girará hacia la derecha a una velocidad de 5.\n",
    "- Si tocas la zona *chin*, el robot avanzará el doble de rápido, es decir, a 40.\n",
    "- Si tocas la zona *forehead*, el robot avanzará hacia atrás a una velocidad de 20.\n",
    "- Si tocas la zona *mouth*, el robot se detendrá.\n",
    "\n",
    "El programa funcionará durante 60 segundos. Cuando termine se tienen que parar los motores.\n",
    "\n"
   ]
  },
  {
   "cell_type": "code",
   "execution_count": null,
   "id": "8b4c9847",
   "metadata": {},
   "outputs": [],
   "source": [
    "#INSERTAR CÓDIGO AQUÍ"
   ]
  },
  {
   "cell_type": "markdown",
   "id": "7b19ee21",
   "metadata": {},
   "source": [
    "**EJERCICIO 2**\n",
    "\n",
    "En el mundo **FOUR CYLINDERS** con la opción \"habilitar mundos aleatorios\" **activada**, realizar el siguiente programa:\n",
    "\n",
    "- Robobo empezará girando sobre su eje a una velocidad de 5.\n",
    "- Usando la función de interrupción de los blobs, la velocidad de Robobo cambiará dependiendo del color:\n",
    "    - Si es verde, se moverá a 7\n",
    "    - Si es amarillo, se moverá a 3\n",
    "    - Si es azul, se moverá a una velocidad de 2 durante 2 segundos y luego girará constantemente a una velocidad de 10.\n",
    "    - Si es rojo se detendrá durante 1 segundos y después se moverá a una velocidad de 5.\n",
    "- El programa terminará cuando hayan pasado 40 intervalos de medio segundo. El progrma durará más en función del tiempo que tarda el callback."
   ]
  },
  {
   "cell_type": "code",
   "execution_count": null,
   "id": "b3097350",
   "metadata": {},
   "outputs": [],
   "source": [
    "#INSERTAR CÓDIGO AQUÍ"
   ]
  },
  {
   "cell_type": "markdown",
   "id": "6e075922",
   "metadata": {},
   "source": [
    "**EJERCICIO 3**\n",
    "\n",
    "\n",
    "Abrir el mapa **TEST PLANE** y crear el siguiente código:\n",
    "\n",
    "Mediante la función de interrupción del Fling, cread un programa en el que Robobo se mueva dependiendo del fling:\n",
    "\n",
    "- Si el ángulo del fling es inferior a 30 o superor a 330, gira ligeramente hacia la izquierda mientras avanza a una velocidad de 15 (La rueda derecha debe de girar a una velocidad mayor).\n",
    "- Si el ángulo del fling es superior a 150 e inferior a 210, gira ligeramente hacia la derecha mientras avanza a una velocidad de 15 (La rueda izquierda debe de girar a una velocidad mayor).\n",
    "- Si el ángulo está entre 80 y 100, avanza recto a una velocidad de 20\n",
    "- Si el ángulo está entre 260 y 200, avanza hacia atrás a una velocidad de 5 durante 2 segundos y luego se detiene.\n",
    "- Si el ángulo del fling no corresponde a ninguno de los dos casos anteriores, no afectará su comportamiento actual\n",
    "- El programa funcionará durante 30 segundos. Cuando termine se tienen que parar los motores. Es posible que tarde más debido a las llamadas del callback."
   ]
  },
  {
   "cell_type": "code",
   "execution_count": null,
   "id": "3650f4c6",
   "metadata": {},
   "outputs": [],
   "source": [
    "#INSERTAR CÓDIGO AQUÍ"
   ]
  }
 ],
 "metadata": {
  "kernelspec": {
   "display_name": "Python 3",
   "language": "python",
   "name": "python3"
  },
  "language_info": {
   "codemirror_mode": {
    "name": "ipython",
    "version": 3
   },
   "file_extension": ".py",
   "mimetype": "text/x-python",
   "name": "python",
   "nbconvert_exporter": "python",
   "pygments_lexer": "ipython3",
   "version": "3.12.6"
  }
 },
 "nbformat": 4,
 "nbformat_minor": 5
}
