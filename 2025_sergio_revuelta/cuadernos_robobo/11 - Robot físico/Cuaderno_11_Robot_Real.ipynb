{
 "cells": [
  {
   "cell_type": "markdown",
   "id": "ec078a58",
   "metadata": {},
   "source": [
    "<table width=\"100%\">\n",
    "<tr>\n",
    "    <td align=\"left\" width=\"50%\" style=\"border: 0px; padding-left: 20px;\">\n",
    "        <img src=\"img/udc.png\" width=\"300\">\n",
    "    </td>\n",
    "    <td align=\"right\" width=\"50%\" style=\"border: 0px; padding-right: 50px;\">\n",
    "        <img src=\"img/logo_mint.svg\" width=\"250\">\n",
    "    </td>    \n",
    "</tr>\n",
    "</table>"
   ]
  },
  {
   "cell_type": "markdown",
   "id": "f58db109",
   "metadata": {},
   "source": [
    "<center>\n",
    "<h1 style=\"color: #d60e8c;\">Robobo: Robot Físico</h1> \n",
    "</center>"
   ]
  },
  {
   "cell_type": "markdown",
   "id": "796d45c9",
   "metadata": {},
   "source": [
    "<h2>Contenidos</h2>\n",
    "\n",
    "<div class=\"alert alert-block alert-info\" \n",
    "     style=\"margin-top: 20px; padding-top:10px; border: 1px solid #d60e8c; border-radius: 20px; background:transparent;\">\n",
    "    <ul>\n",
    "        <li><a href=\"#intro\">Introducción</a></li>\n",
    "        <ul>\n",
    "            <li><a href=\"#battery\">readBatteryLevel(device)</a></li>\n",
    "            <li><a href=\"#clap\">readClapCounter()</a></li>\n",
    "            <li><a href=\"#clapreset\">resetClapCounter()</a></li>\n",
    "            <li><a href=\"#clapwhen\">whenClapDetected(callback)</a></li> \n",
    "        </ul>\n",
    "        <li><a href=\"#ej\">Ejercicios</a></li>\n",
    "    </ul>\n",
    "</div>"
   ]
  },
  {
   "cell_type": "markdown",
   "id": "0e4aef96",
   "metadata": {},
   "source": [
    "<a id=\"intro\" style=\"text-decoration:none;\">\n",
    "<h1 style=\"color: #d60e8c; border-bottom: 2px solid #d60e8c;padding-bottom: 5px;\">Introducción</h1>\n",
    "</a>\n",
    "\n",
    "Este cuaderno está dedicado exclusivamente al Robobo **real**, para conocer aquellos métodos que no se pueden ejecutar en el simulador. Por tanto, para probarlos, es necesario disponer de un robot real, un smartphone y una red wi-fi en la que se puedan conectar el smartphone y el ordenador. El proceso de configuración y conexión del robot real se explica en el cuaderno 1."
   ]
  },
  {
   "cell_type": "markdown",
   "id": "4a4373b7",
   "metadata": {},
   "source": [
    "Recordad que en los programas nos debemos conectar a la IP del robot que cada uno tenga asignada en la app de Robobo en el smatphone. Por tanto, al ejecutar este código, **cambiad la IP por la vuestra**:"
   ]
  },
  {
   "cell_type": "code",
   "execution_count": null,
   "id": "092cc3e6",
   "metadata": {},
   "outputs": [],
   "source": [
    "#Escribir IP aquí\n",
    "IP_ROBOBO=\"192.168.1.140\""
   ]
  },
  {
   "cell_type": "markdown",
   "id": "5f3e5c47",
   "metadata": {},
   "source": [
    "<a id=\"battery\" style=\"text-decoration:none;\">\n",
    "<h3 style=\"color: #d60e8c;\">readBatteryLevel(device)</h2>\n",
    "</a>\n",
    "\n",
    "\n",
    "**Función:** Lee el nivel de batería de la base o del smartphone.\n",
    "\n",
    "**Parámetros:**\n",
    "- device (string): Dispositivo del que se desea leer la batería. Puede ser ‘base’ para la base o\n",
    "'phone' para el smartphone.\n",
    "\n",
    "**Devuelve:**\n",
    "- El nivel de batería (int). Los valores están entre 0 (vacía) y 100 (llena)."
   ]
  },
  {
   "cell_type": "markdown",
   "id": "8ad39a00",
   "metadata": {},
   "source": [
    "Para probar este método, con el robot real preparado, ejecutad el ejemplo de abajo en el cual Robobo dirá primero el nivel de batería de la base, y después el del teléfono"
   ]
  },
  {
   "cell_type": "code",
   "execution_count": null,
   "id": "577a06e7",
   "metadata": {},
   "outputs": [],
   "source": [
    "from robobopy.Robobo import Robobo\n",
    "rob = Robobo(IP_ROBOBO)\n",
    "rob.connect()\n",
    "\n",
    "#Retraso para darle margen y poder leer la batería sin problema\n",
    "rob.wait(1)\n",
    "#Robobo dice el nivel de batería de la base y el del teléfono\n",
    "rob.sayText(\"El nivel de batería de la base es \" + str(rob.readBatteryLevel('base')))\n",
    "rob.sayText(\"El nivel de batería del teléfono es \" + str(rob.readBatteryLevel('phone')))"
   ]
  },
  {
   "cell_type": "markdown",
   "id": "b84ef22e",
   "metadata": {},
   "source": [
    "Este método es de gran utilidad en robótica autónoma, ya que los robots pueden operar por largos periodos de tiempo, y debemos asegurar que su batería no se termina abruptamente. Por ejemplo, se podría utilizar este método para leer el nivel de batería de la base y el smartphone periódicamente, y al bajar de un valor de seguridad, se avisaría al usuario por voz para que recargue el robot."
   ]
  },
  {
   "cell_type": "markdown",
   "id": "27e2a23a",
   "metadata": {},
   "source": [
    "<a id=\"#clap\" style=\"text-decoration:none;\">\n",
    "<h3 style=\"color: #d60e8c;\">readClapCounter()</h2>\n",
    "</a>\n",
    "\n",
    "**Función**: Lee el número de palmadas registrado desde el último reinicio.\n",
    "\n",
    "**Devuelve:**\n",
    "- El número de palmadas (int)."
   ]
  },
  {
   "cell_type": "markdown",
   "id": "e3d31e67",
   "metadata": {},
   "source": [
    "<a id=\"#clapreset\" style=\"text-decoration:none;\">\n",
    "<h3 style=\"color: #d60e8c;\">resetClapCounter()</h2>\n",
    "</a>\n",
    "\n",
    "\n",
    "**Función:** Reinicia el contador de palmadas."
   ]
  },
  {
   "cell_type": "markdown",
   "id": "e165444c",
   "metadata": {},
   "source": [
    "En el ejemplo de abajo se hará una demostración de los dos métodos sobre la detección de palmadas:\n",
    "\n",
    "- Cada 2 segundos el programa comprueba cuantas palmadas se hicieron en ese intervalo.\n",
    "- Si se hicieron como mínimo 2 palmadas, Robobo pondrá cara de sorprendido y emitirá un sonido de risa. De lo contrario, pondrá una expresión normal.\n",
    "- En ambos casos se reiniciará el contador.\n",
    "- El programa dura 1 minuto aproximadamente"
   ]
  },
  {
   "cell_type": "code",
   "execution_count": null,
   "id": "edd411ce",
   "metadata": {},
   "outputs": [],
   "source": [
    "from robobopy.Robobo import Robobo\n",
    "from robobopy.utils.Sounds import Sounds\n",
    "from robobopy.utils.Emotions import Emotions\n",
    "\n",
    "#Conexión con el Robobo real\n",
    "rob = Robobo(IP_ROBOBO)\n",
    "rob.connect()\n",
    "\n",
    "#Variable del tiempo de ejecución\n",
    "timeout=0\n",
    "while timeout<30:\n",
    "    #Durante estos dos segundos el estudiante debe dar las palmadas que pueda\n",
    "    rob.wait(2)\n",
    "    print(f\"{rob.readClapCounter()} palmadas en 2 segundos\")\n",
    "    #Si dió más de 1 palmada, Robobo reaccionará\n",
    "    if rob.readClapCounter() > 1:\n",
    "        rob.playSound(Sounds.LAUGH)\n",
    "        rob.setEmotionTo(Emotions.SURPRISED)\n",
    "        rob.wait(0.25)\n",
    "    else:\n",
    "    #En caso de que no sean suficientes, volverá a su estado normal\n",
    "        rob.setEmotionTo(Emotions.NORMAL)\n",
    "    #Se reinicia el contador\n",
    "    rob.resetClapCounter()\n",
    "    timeout+=1\n",
    "\n",
    "#Se desconecta y termina el programa\n",
    "rob.disconnect()"
   ]
  },
  {
   "cell_type": "markdown",
   "id": "ddf23055",
   "metadata": {},
   "source": [
    "\n",
    "<a id=\"#clapwhen\" style=\"text-decoration:none;\">\n",
    "<h3 style=\"color: #d60e8c;\">whenClapDetected(callback)</h2>\n",
    "</a>\n",
    "\n",
    "**Función**: Establece la función callback que se llama cuando se detecta una nueva palmada.\n",
    "\n",
    "**Parámetros:**\n",
    "- callback (fun): La función callback que será llamada."
   ]
  },
  {
   "cell_type": "markdown",
   "id": "0347520e",
   "metadata": {},
   "source": [
    "Ejecutad el siguiente programa:\n",
    "\n",
    "- Robobo estará moviendose a una velocidad de 10 constantemente.\n",
    "- Si en cualquier momento alguien hace una palmada, Robobo se detendrá y dirá \"Me has mandado parar\". No volverá a moverse hasta que termine el programa.\n",
    "- Cuando hayan pasado aproximadamente 25 segundos, se detendrán los motores si aún no oyó una palmada, y pondrá una cara de **dormido**. En ese momento habrá finalizado el programa."
   ]
  },
  {
   "cell_type": "code",
   "execution_count": null,
   "id": "a55e2654",
   "metadata": {},
   "outputs": [],
   "source": [
    "from robobopy.Robobo import Robobo\n",
    "from robobopy.utils.Emotions import Emotions\n",
    "\n",
    "#Función que se usará como callback. Detiene los motores completamente\n",
    "def clap():\n",
    "    rob.stopMotors()\n",
    "    rob.sayText('Me has mandado parar')\n",
    "rob = Robobo(IP_ROBOBO)\n",
    "rob.connect()\n",
    "\n",
    "#Robobo se mueve de forma constante\n",
    "rob.moveWheels(10,10)\n",
    "\n",
    "#Declaración de la función de interupción\n",
    "rob.whenClapIsDetected(clap)\n",
    "\n",
    "# El programa se mantiene en ejecución continua durante 25 segundos\n",
    "tiempo=0\n",
    "while tiempo<250:\n",
    "    rob.wait(0.1)\n",
    "    tiempo+=1\n",
    "\n",
    "#Detiene los motores si no se hizo antes\n",
    "rob.stopMotors()\n",
    "rob.setEmotionTo(Emotions.SLEEPING)\n",
    "\n",
    "#Desconexión del robot y finalización del programa\n",
    "rob.disconnect()"
   ]
  },
  {
   "cell_type": "markdown",
   "id": "51c99afb",
   "metadata": {},
   "source": [
    "<a id=\"ej\" style=\"text-decoration:none;\">\n",
    "<h1 style=\"color: #d60e8c; border-bottom: 2px solid #d60e8c;padding-bottom: 5px;\">Ejercicios</h1>\n",
    "</a>"
   ]
  },
  {
   "cell_type": "markdown",
   "id": "d6fdee42",
   "metadata": {},
   "source": [
    "**EJERCICIO 1**\n",
    "\n",
    "Realizar un programa en el que Robobo:\n",
    "\n",
    "- Gire sobre su eje a una velocidad constante.\n",
    "-  El valor de la velocidad dependerá de la batería de la base. La ecuación será: ***Velocidad de giro= 3 + Batería de Robobo/5***\n",
    "- La expresión de Robobo debe cambiar en función de la batería del smarthphone. Si la batería es mayor que el 20%, su expresión debe ser normal. Si está entre el 10 y 20%, pondrá una expresión de cansado. Si es inferior al 10%, pondrá una expresión de dormido y los motores no se moverán\n",
    "- El programa durará 1 minuto. Luego tendrá que detener los motores y finalizar el programa.\n"
   ]
  },
  {
   "cell_type": "code",
   "execution_count": null,
   "id": "a1ccfffd",
   "metadata": {},
   "outputs": [],
   "source": [
    "#INSERTAR CÓDIGO AQUÍ"
   ]
  },
  {
   "cell_type": "markdown",
   "id": "baa6beb7",
   "metadata": {},
   "source": [
    "**EJERCICIO 2**\n",
    "\n",
    "Realiza un programa en el que Robobo:\n",
    "- Esté quieto y con cara de **dormido**.\n",
    "- Si oye mínimo 3 palmadas, pondrá una cara **feliz** y avanzará a una velocidad constante de **10**\n",
    "- Si vuelve a oir mínimo 3 palmadas, pondrá una cara de **dormido** y se detendrá\n",
    "- El programa durará 1 minuto. Una vez acabe, si está \"despiero\", parará los motores y dirá \"ESTOY CANSADO\", y pondrá cara de dormido"
   ]
  },
  {
   "cell_type": "code",
   "execution_count": null,
   "id": "5c1ecbf3",
   "metadata": {},
   "outputs": [],
   "source": [
    "#INSERTAR CÓDIGO AQUÍ"
   ]
  },
  {
   "cell_type": "markdown",
   "id": "d6bcd0bc",
   "metadata": {},
   "source": [
    "**EJERCICIO 3**\n",
    "\n",
    "Mediante objetos de colores, ya sean bloques o pelotas, realiza un programa en el que Robobo:\n",
    "\n",
    "- Avance de forma constante a una velocidad de 10.\n",
    "- Cuando vea un objeto de un color en concreto en los extremos derecho o izquierdo de la cámara, gire hacia un lado o hacia otro a una velocidad de 15. No girará sobre su eje, solo cambiará la velocidad de una rueda.\n",
    "- Usar la función de interrupción de los blobs.\n",
    "- El tamaño del objeto debe ser mínimo de 20 pixeles.\n",
    "- El tiempo de ejecución del programa será de máximo 120 segundos."
   ]
  },
  {
   "cell_type": "code",
   "execution_count": null,
   "id": "4d4ebaac",
   "metadata": {},
   "outputs": [],
   "source": [
    "#INSERTAR CÓDIGO AQUÍ"
   ]
  },
  {
   "cell_type": "markdown",
   "id": "05558132",
   "metadata": {},
   "source": [
    "**EJERCICIO 4**\n",
    "\n",
    "Este ejercicio se hará en una habitación con una iluminación baja:\n",
    "\n",
    "- Robobo girará hacia la derecha sobre su eje buscando un foco de luz. Para ello, estará leyendo la luminosidad del ambiente constantemente. Si detecta que el foco de luz es mayor que 20 lux se parará y se acercará al oco.\n",
    "- Robobo avanzará recto hacia la luz hasta que la luminosidad leída sea de 40.\n",
    "- Si el foco de luz desaparece, Robobo deberá buscar la luz de nuevo.\n",
    "- El programa durará 1 minuto. Cuando termine, se detendrá.\n",
    "\n",
    "*Los valores de las condiciones se pueden modificar dependiendo del entorno en el que se haga el ejercicio. Simplemente son orientativos*"
   ]
  },
  {
   "cell_type": "code",
   "execution_count": null,
   "id": "7ee5fa36",
   "metadata": {},
   "outputs": [],
   "source": [
    "#INSERTAR CÓDIGO AQUÍ"
   ]
  },
  {
   "cell_type": "markdown",
   "id": "9ba49411",
   "metadata": {},
   "source": [
    "**EJERCICIO 5**\n",
    "\n",
    "Colocar el Robobo encima de una mesa y ejecutad un código en el que:\n",
    "\n",
    "- Robobo vaya a una velocidad de 10 constantemente.\n",
    "- Si Robobo está cerca de caerse y los sensores delanteros que **miran hacia abajo** dejan de detectar valores, Robobo girará sobre su eje hasta que ambos sensores vuelvan a recibir valores.\n",
    "- En cualquier momento se podrá detener el Robobo si oye una palmada (Usar la función de interrupción de las palmadas). Y si \n",
    "vuelve a oir otra palmada, volverá a  moverse\n",
    "- El programa durará aproximadamente 30 segundos. Cuando acabe, se pararán los motores y Robobo dirá \"Se acabó el trabajo de hoy\", y pondrá cara de **dormido**. En ese momento finalizará el programa."
   ]
  },
  {
   "cell_type": "code",
   "execution_count": null,
   "id": "67440046",
   "metadata": {},
   "outputs": [],
   "source": [
    "#INSERTAR CÓDIGO AQUÍ"
   ]
  }
 ],
 "metadata": {
  "kernelspec": {
   "display_name": "Python 3",
   "language": "python",
   "name": "python3"
  },
  "language_info": {
   "codemirror_mode": {
    "name": "ipython",
    "version": 3
   },
   "file_extension": ".py",
   "mimetype": "text/x-python",
   "name": "python",
   "nbconvert_exporter": "python",
   "pygments_lexer": "ipython3",
   "version": "3.12.6"
  }
 },
 "nbformat": 4,
 "nbformat_minor": 5
}
