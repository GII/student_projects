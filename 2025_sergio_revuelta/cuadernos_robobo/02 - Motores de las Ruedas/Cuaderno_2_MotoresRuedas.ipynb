{
 "cells": [
  {
   "cell_type": "markdown",
   "id": "61dc9f0a",
   "metadata": {},
   "source": [
    "<table width=\"100%\">\n",
    "<tr>\n",
    "    <td align=\"left\" width=\"50%\" style=\"border: 0px; padding-left: 20px;\">\n",
    "        <img src=\"img/udc.png\" width=\"300\">\n",
    "    </td>\n",
    "    <td align=\"right\" width=\"50%\" style=\"border: 0px; padding-right: 50px;\">\n",
    "        <img src=\"img/logo_mint.svg\" width=\"250\">\n",
    "    </td>    \n",
    "</tr>\n",
    "</table>"
   ]
  },
  {
   "cell_type": "markdown",
   "id": "77d8faa3",
   "metadata": {},
   "source": [
    "<center>\n",
    "<h1 style=\"color: #d60e8c;\">Robobo: Motores de las Ruedas</h1> \n",
    "</center>"
   ]
  },
  {
   "cell_type": "markdown",
   "id": "480ad27d",
   "metadata": {},
   "source": [
    "<h2>Contenidos</h2>\n",
    "\n",
    "<div class=\"alert alert-block alert-info\" \n",
    "     style=\"margin-top: 20px; padding-top:10px; border: 1px solid #d60e8c; border-radius: 20px; background:transparent;\">\n",
    "    <ul>\n",
    "        <li><a href=\"#intro\">Introducción</a></li>\n",
    "        <li><a href=\"#method\">Métodos asociados a los motores de las ruedas</a></li>   \n",
    "        <ul>\n",
    "            <li><a href=\"#mwt\">moveWheelsByTime(rSpeed, lSpeed, duration, wait=True)</a></li> \n",
    "            <li><a href=\"#mwd\">moveWheelsByDegrees (wheel, degrees, speed)</a></li>  \n",
    "            <li><a href=\"#mw\">moveWheels(rSpeed, lSpeed)</a></li> \n",
    "            <li><a href=\"#stop\">stopMotors()</a></li>  \n",
    "            <li><a href=\"#w\">wait(time)</a></li>  \n",
    "            <li><a href=\"#readwp\">readWheelPosition(wheel)</a></li>  \n",
    "            <li><a href=\"#resetwe\">resetWheelEncoders()</a></li>  \n",
    "        </ul>\n",
    "        <li><a href=\"#ej\">Ejercicios</a></li>\n",
    "    </ul>\n",
    "</div>"
   ]
  },
  {
   "cell_type": "markdown",
   "id": "534b4918",
   "metadata": {},
   "source": [
    "<a id=\"intro\" style=\"text-decoration:none;\">\n",
    "<h1 style=\"color: #d60e8c; border-bottom: 2px solid #d60e8c;padding-bottom: 5px;\">Introducción</h1>\n",
    "</a>\n",
    "\n",
    "Robobo dispone de un motor independiente para cada una de las dos ruedas con las que gira y se desplaza, situados como se muestra en esta figura:"
   ]
  },
  {
   "cell_type": "markdown",
   "id": "4d52e27b",
   "metadata": {},
   "source": [
    "<img src=\"img/ruedas.png\" width=\"300\">"
   ]
  },
  {
   "cell_type": "markdown",
   "id": "c0607c6b",
   "metadata": {},
   "source": [
    "<a id=\"method\" style=\"text-decoration:none;\">\n",
    "<h1 style=\"color: #d60e8c; border-bottom: 2px solid #d60e8c;padding-bottom: 5px;\">Métodos asociados a los motores de las ruedas</h1>\n",
    "</a>"
   ]
  },
  {
   "cell_type": "markdown",
   "id": "3e91385c",
   "metadata": {},
   "source": [
    "Robobopy dispone de 4 métodos para controlar el movimiento de las ruedas:\n",
    "\n",
    "1. Mover las ruedas durante un periodo de tiempo (**moveWheelsByTime**)\n",
    "2. Mover las ruedas una cantidad de grados de giro **(moveWheelsByDegrees**)\n",
    "3. Mover la ruedas de forma constante (**moveWheels**)\n",
    "4. Parar las ruedas (**stopMotors**)\n",
    "\n",
    "También dispone de 2 métodos asociados a los sensores que dan la posición de las ruedas (encoders):\n",
    "\n",
    "1. Medir la posición de la rueda (**readWheelPosition**)\n",
    "2. Reiniciar la posición de la rueda **(resetWheelEncoders**)\n",
    "\n",
    "A continuación vamos a explicar qué hace cada uno de estos métodos, los parámetros de que soporta y pondremos también un programa de ejemplo que podrás probar. Pero antes debes conocer las abreviaturas que usan, y una propiedad fundamental de algunos métodos de Robobo:\n",
    "\n",
    "<h3 style=\"color: #d60e8c;\">Abreviaturas para nombrar las ruedas</h3>\n",
    "\n",
    "A la hora de hacer referencia a una rueda en concreto o a ambas en los programas, se emplean estas abreviaturas:\n",
    "\n",
    "<ul>\n",
    "    <li><strong>R</strong>: Rueda derecha.</li>\n",
    "    <li><strong>L</strong>: Rueda izquierda.</li>\n",
    "    <li><strong>Both</strong>: Ambas ruedas.</li>\n",
    "</ul>\n",
    "\n",
    "<h3 style=\"color: #d60e8c;\">Modo bloqueante y no bloqueante</h3>\n",
    "\n",
    "Lo métodos de Robobo permiten, en la mayoría de los casos, dos modos de ejecución, bloqueante y no bloqueante:\n",
    "- Una instrucción es **bloqueante** cuando evita que se ejecute la siguiente hasta que haya finalizado completamente.\n",
    "- Una instrucción es **no bloqueante** cuando permite que se ejecute otra al mismo tiempo.\n",
    "\n",
    "Estos dos modos de ejecución quedarán más claros en los ejemplos que irás viendo a lo largo de los cuadernos, pero es importante que te suenen desde ahora."
   ]
  },
  {
   "cell_type": "markdown",
   "id": "3053089d",
   "metadata": {},
   "source": [
    "<a id=\"mwt\" style=\"text-decoration:none;\">\n",
    "<h2 style=\"color: #d60e8c;\">moveWheelsByTime(rSpeed, lSpeed, duration, wait=True)</h2>\n",
    "</a>\n",
    "\n",
    "**Función:** Mueve las ruedas de Robobo durante el tiempo especificado, cada una a la velocidad especificada.\n",
    "\n",
    "**Parámetros:**\n",
    "\n",
    "- *rSpeed (int)*: Factor de velocidad para la rueda derecha. El rango de valores permitidos está entre -100 y 100. El valor absoluto de 100 representa la máxima velocidad que la rueda puede alcanzar, mientras que 0 representa que la rueda no se mueve. Los valores positivos mueven la rueda hacia delante y los valores negativos hacia atrás.\n",
    "- *lSpeed (int)*: Factor de velocidad para la rueda izquierda. El rango de valores permitidos está entre -100 y 100. El valor absoluto de 100 representa la máxima velocidad que la rueda puede alcanzar, mientras que 0 representa que la rueda no se mueve. Los valores positivos mueven la rueda hacia delante y los valores negativos hacia atrás.\n",
    "- *duration (float)*: Duración del movimiento en segundos. Se permiten valores positivos.\n",
    "- *wait (boolean)*: Indica si este método se ejecuta en modo bloqueante o no (True: modo bloqueante, False: modo no bloqueante). Si no se especifica nada, será **bloqueante por defecto**.\n",
    "\n",
    "Las siguientes imágenes representan el efecto que se logra al aplicar valores positivos y/o negativos a cada rueda con respecto al movimiento total del robot:\n",
    "\n"
   ]
  },
  {
   "cell_type": "markdown",
   "id": "967a8c8b",
   "metadata": {},
   "source": [
    "<table style=\"border: none; width: 100%;\">\n",
    "    <tr>\n",
    "        <td style=\"border: none; text-align: center;\">\n",
    "            <img src=\"img/ruedas_delante.png\" width=\"300\"/>\n",
    "        </td>\n",
    "        <td style=\"border: none; text-align: center;\">\n",
    "            <img src=\"img/ruedas_atras.png\" width=\"300\"/>\n",
    "        </td>\n",
    "    </tr>\n",
    "</table>\n",
    "\n",
    "<table style=\"border: none; width: 100%;\">\n",
    "    <tr>\n",
    "        <td style=\"border: none; text-align: center;\">\n",
    "            <img src=\"img/ruedas_giro_derecha.png\" width=\"300\"/>\n",
    "        </td>\n",
    "        <td style=\"border: none; text-align: center;\">\n",
    "            <img src=\"img/ruedas_giro_izq.png\" width=\"300\"/>\n",
    "        </td>\n",
    "    </tr>\n",
    "</table>"
   ]
  },
  {
   "cell_type": "markdown",
   "id": "2b400d14",
   "metadata": {},
   "source": [
    "Para probar este primer método, debes tener abierto RoboboSim y un mundo cargado, por ejemplo, \"Four Walls\". Cuando lo hayas hecho, ejecuta el siguiente bloque de código, que importa las librerías necesarias (fíjate que para poder mover las ruedas en tus programas, debes importar un módulo específico de la librería robobopy, denominado **Wheels**), crea el objeto \"rob\" de la clase Robobo y se conecta al simulador:"
   ]
  },
  {
   "cell_type": "code",
   "execution_count": null,
   "id": "b662f9f2",
   "metadata": {},
   "outputs": [],
   "source": [
    "#Importamos las librerías, creamos el objeto de la clase Robobo y nos conectamos al simulador\n",
    "from robobopy.Robobo import Robobo\n",
    "from robobopy.utils.Wheels import Wheels\n",
    "rob = Robobo(\"localhost\")\n",
    "rob.connect()"
   ]
  },
  {
   "cell_type": "markdown",
   "id": "b4f7ef68",
   "metadata": {},
   "source": [
    "Una vez preparado todo, ya podemos mover al robot. Ejecuta ahora esta instrucción y observa lo que ocurre en RoboboSim:"
   ]
  },
  {
   "cell_type": "code",
   "execution_count": null,
   "id": "893b4097",
   "metadata": {},
   "outputs": [],
   "source": [
    "rob.moveWheelsByTime(50, 50, 2)"
   ]
  },
  {
   "cell_type": "markdown",
   "id": "380b1da4",
   "metadata": {},
   "source": [
    "El robot se ha movido hacia delante durante 2 segundos, ¿verdad?. Prueba ahora la siguiente:"
   ]
  },
  {
   "cell_type": "code",
   "execution_count": null,
   "id": "0c5c420f",
   "metadata": {},
   "outputs": [],
   "source": [
    "rob.moveWheelsByTime(-50, -50, 2)"
   ]
  },
  {
   "cell_type": "markdown",
   "id": "46a0a71e",
   "metadata": {},
   "source": [
    "Como ves, ahora se ha movido hacia atrás. Finalmente, puedes probar otras combinaciones de velocidad en las ruedas y tiempo, para que veas lo que ocurre, por ejemplo:"
   ]
  },
  {
   "cell_type": "code",
   "execution_count": null,
   "id": "acd60ef6",
   "metadata": {},
   "outputs": [],
   "source": [
    "rob.moveWheelsByTime(60,40,3)"
   ]
  },
  {
   "cell_type": "markdown",
   "id": "d7fc9604",
   "metadata": {},
   "source": [
    "En todas estas instrucciones no hemos especificado nada en el cuarto parámetro, por lo que se asume wait=True, y **la ejecución es bloqueante**, lo que quiere decir que el robot no puede hacer nada más hasta que termine el movimiento."
   ]
  },
  {
   "cell_type": "markdown",
   "id": "bfd0344a",
   "metadata": {},
   "source": [
    "<a id=\"mwd\" style=\"text-decoration:none;\">\n",
    "<h2 style=\"color: #d60e8c;\">moveWheelsByDegrees (wheel, degrees, speed)</h2>\n",
    "</a>\n",
    "\n",
    "Mueve las ruedas de Robobo en función de los grados de giro especificados. Permite establecer la\n",
    "velocidad y los grados de giro de la rueda derecha, la rueda izquierda o ambas.\n",
    "\n",
    "**Parámetros**:\n",
    "\n",
    "- *wheel (Wheels)*: Rueda o ruedas a mover.\n",
    "- *degrees (int)*: Ángulo de giro **de la rueda** medido en grados. Toma valores positivos. Hay que tener en cuenta que una vuelta completa de la rueda son 360 grados.\n",
    "- *speed (int)*: Factor de velocidad de giro que se aplica al motor de la rueda seleccionada. El\n",
    "rango de valores permitidos para la velocidad está entre -100 y 100. El valor absoluto de\n",
    "100 representa la máxima velocidad que la rueda puede alcanzar, mientras que 0 representa\n",
    "que la rueda no se mueve. Los valores positivos mueven la rueda hacia delante y los valores\n",
    "negativos hacia atrás."
   ]
  },
  {
   "cell_type": "markdown",
   "id": "a41f55a9",
   "metadata": {},
   "source": [
    "En el mismo mundo \"Four Walls\", reinicia la posición de Robobo, y ejecuta la siguiente instrucción que mueve ambas ruedas **360 grados** a una velocidad de **30**:"
   ]
  },
  {
   "cell_type": "code",
   "execution_count": 2,
   "id": "f158d263",
   "metadata": {},
   "outputs": [],
   "source": [
    "rob.moveWheelsByDegrees(Wheels.BOTH, 360, 30)"
   ]
  },
  {
   "cell_type": "markdown",
   "id": "d076aeb9",
   "metadata": {},
   "source": [
    "Si es necesario, ejecuta de nuevo la instrucción anterior y observa que realmente las ruedas dan una única vuelta. A continuación prueba de nuevo el método con esta combinación de valores que girará **180 grados** solo la rueda **izquierda** a una velocidad de **-30**:"
   ]
  },
  {
   "cell_type": "code",
   "execution_count": 15,
   "id": "8bc468a6",
   "metadata": {},
   "outputs": [],
   "source": [
    "rob.moveWheelsByDegrees(Wheels.L, 180, -30)"
   ]
  },
  {
   "cell_type": "markdown",
   "id": "d43538b1",
   "metadata": {},
   "source": [
    "Y por último, prueba esta combinación que girará **180º** la rueda **derecha** a una velocidad de **50**:"
   ]
  },
  {
   "cell_type": "code",
   "execution_count": 4,
   "id": "5c286b6f",
   "metadata": {},
   "outputs": [],
   "source": [
    "rob.moveWheelsByDegrees(Wheels.R, 180, 50)"
   ]
  },
  {
   "cell_type": "markdown",
   "id": "ac24f135",
   "metadata": {},
   "source": [
    "El método moveWheelsByDegrees se ejecuta siempre en **modo bloqueante**, por lo que el robot nunca podrá hacer otra cosa a la vez."
   ]
  },
  {
   "cell_type": "markdown",
   "id": "f9883aaf",
   "metadata": {},
   "source": [
    "<a id=\"mw\" style=\"text-decoration:none;\">\n",
    "<h2 style=\"color: #d60e8c;\">moveWheels (rSpeed, lSpeed)</h2>\n",
    "</a>\n",
    "\n",
    "**Función:** Mueve las ruedas de Robobo. Este método permite establecer la velocidad de cada rueda. El\n",
    "movimiento se realizará de forma indefinida hasta que sea detenido con el método stopMotors o con otra instrucción de las anteriores que envíe un nuevo comando de movimiento.\n",
    "\n",
    "**Parámetros:**\n",
    "- *rSpeed (int)*: Factor de velocidad de giro del motor de la rueda derecha. El rango de valores\n",
    "permitidos está entre -100 y 100. El valor absoluto de 100 representa la máxima velocidad\n",
    "que la rueda puede alcanzar, mientras que 0 representa que la rueda no se mueve. Los\n",
    "valores positivos mueven la rueda hacia delante y los valores negativos hacia atrás.\n",
    "- *lSpeed (int)*: Factor de velocidad de giro del motor de la rueda izquierda. El rango de valores\n",
    "permitidos está entre -100 y 100. El valor absoluto de 100 representa la máxima velocidad\n",
    "que la rueda puede alcanzar, mientras que 0 representa que la rueda no se mueve. Los\n",
    "valores positivos mueven la rueda hacia delante y los valores negativos hacia atrás.\n"
   ]
  },
  {
   "cell_type": "markdown",
   "id": "9906bcd8",
   "metadata": {},
   "source": [
    "El método moveWheels se ejecuta siempre en modo **no bloqueante**, por lo que este movimiento arranca y el robot ejecutaría de manera inmediata la siguiente instrucción hasta que se vuelva a enviar un comando a las ruedas. Si esto no se hace, el movimiento sería infinito. Por este motivo, para mostrar un ejemplo de este método que se ejecute en un tiempo controlado, debemos explicar dos métodos previamente, *stopMotors* y *wait*:"
   ]
  },
  {
   "cell_type": "markdown",
   "id": "a9b221d1",
   "metadata": {},
   "source": [
    "<a id=\"stop\" style=\"text-decoration:none;\">\n",
    "<h2 style=\"color: #d60e8c;\">stopMotors()</h2>\n",
    "</a>\n",
    "\n",
    "**Función**: Detiene el movimiento de ambas ruedas."
   ]
  },
  {
   "cell_type": "markdown",
   "id": "1479e03c",
   "metadata": {},
   "source": [
    "<a id=\"w\" style=\"text-decoration:none;\">\n",
    "<h2 style=\"color: #d60e8c;\">wait(time)</h2>\n",
    "</a>\n",
    "\n",
    "\n",
    "Este método no es exclusivo de los motores de las ruedas, pero nos hará falta para probar el método moveWheels adecuadamente, por lo que aprenderemos a usarlo aquí.\n",
    "\n",
    "**Función**: Es un retardo para la ejecución del código. El tiempo **time** está en **segundos**"
   ]
  },
  {
   "cell_type": "markdown",
   "id": "756f6d8f",
   "metadata": {},
   "source": [
    "Usando el mismo mundo \"Four Walls\", reinicia la posición de Robobo y prueba las siguientes instrucciones, que hacen que **ambas** ruedas avancen a una velocidad de **15**, la ejecución del programa se pause durante 2 segundos, y después se paren los motores:"
   ]
  },
  {
   "cell_type": "code",
   "execution_count": null,
   "id": "efe7b75f",
   "metadata": {},
   "outputs": [],
   "source": [
    "rob.moveWheels(15,15)\n",
    "rob.wait(2)\n",
    "rob.stopMotors()"
   ]
  },
  {
   "cell_type": "markdown",
   "id": "56053b3b",
   "metadata": {},
   "source": [
    "Como ves, estas 3 instrucciones tienen el mismo efecto que el método **moveWheelsByTime**, pero ya iremos viendo que **moveWheels** nos permite programar el movimiento del robot de una forma más autónoma, dependiendo de lo que ocurre en el entorno (sensores) y no solo del tiempo, por lo que es un método muy importante."
   ]
  },
  {
   "cell_type": "markdown",
   "id": "41d79215",
   "metadata": {},
   "source": [
    "<a id=\"readwp\" style=\"text-decoration:none;\">\n",
    "<h2 style=\"color: #d60e8c;\">readWheelPosition(wheel)</h2>\n",
    "</a>\n",
    "\n",
    "\n",
    "\n",
    "**Función**: Lee la posición actual de la rueda especificada (en grados)\n",
    "\n",
    "**Parámetros**:\n",
    "- *wheel (Wheels)*: La rueda de la que se lee la posición. Se puede escoger entre Wheels.L (rueda izquierda) o Wheels.R (rueda derecha).\n",
    "\n",
    "**Devuelve**:\n",
    "- La posición de la rueda en grados (int)."
   ]
  },
  {
   "cell_type": "markdown",
   "id": "e34904e8",
   "metadata": {},
   "source": [
    "Podemos probar este método ejecuntando estas 3 instrucciones, en las que se crean 2 variables, se almacena en ellas el valor devuelto por el sensor, y se imprimen por pantalla:"
   ]
  },
  {
   "cell_type": "code",
   "execution_count": null,
   "id": "8600a047",
   "metadata": {},
   "outputs": [],
   "source": [
    "Grados_L=rob.readWheelPosition(Wheels.L)\n",
    "Grados_R=rob.readWheelPosition(Wheels.R)\n",
    "print(f\"Los grados de las ruedas L y R son {Grados_L} y {Grados_R}\")"
   ]
  },
  {
   "cell_type": "markdown",
   "id": "c7850267",
   "metadata": {},
   "source": [
    "<a id=\"resetwe\" style=\"text-decoration:none;\">\n",
    "<h2 style=\"color: #d60e8c;\">resetWheelEncoders()</h2>\n",
    "</a>\n",
    "\n",
    "\n",
    "\n",
    "**Función**: Reinicia los sensores que miden la posición de la rueda (en grados). Estos sensores se suelen denominar codificadores de eje o \"encoders\"."
   ]
  },
  {
   "cell_type": "markdown",
   "id": "791499bf",
   "metadata": {},
   "source": [
    "A continuación, podemos observar el efecto que tiene reiniciar el encoder de las ruedas:"
   ]
  },
  {
   "cell_type": "code",
   "execution_count": null,
   "id": "9d1b04cc",
   "metadata": {},
   "outputs": [],
   "source": [
    "rob.resetWheelEncoders()\n",
    "print(\"Enconders reiniciados\")\n",
    "Grados_L=rob.readWheelPosition(Wheels.L)\n",
    "Grados_R=rob.readWheelPosition(Wheels.R)\n",
    "print(f\"Los grados de las ruedas L y R tras el reinicio son {Grados_L} y {Grados_R}\")"
   ]
  },
  {
   "cell_type": "markdown",
   "id": "8d397689",
   "metadata": {},
   "source": [
    "Y por último, una vez finalizada la ejecución paso a paso en este cuaderno, se recomienda desconectar el robot:"
   ]
  },
  {
   "cell_type": "code",
   "execution_count": null,
   "id": "b4e801ec",
   "metadata": {},
   "outputs": [],
   "source": [
    "rob.disconnect()"
   ]
  },
  {
   "cell_type": "markdown",
   "id": "96b7f43d",
   "metadata": {},
   "source": [
    "<a id=\"ej\" style=\"text-decoration:none;\">\n",
    "<h1 style=\"color: #d60e8c; border-bottom: 2px solid #d60e8c;padding-bottom: 5px;\">Ejercicios</h1>\n",
    "</a>"
   ]
  },
  {
   "cell_type": "markdown",
   "id": "8503b606",
   "metadata": {},
   "source": [
    "**EJERCICIO 1-a**\n",
    "\n",
    "<p>Cargar el mundo <strong>AVOID FALLING</strong> del programa RoboboSim y escribir un código que haga que el robot llegue a la línea de meta (la sección amarilla) sin chocar con los obstáculos utilizando cualquiera de las funciones para mover las ruedas que hemos visto antes.</p>\n",
    "\n",
    "Hay muchas combinaciones de movimientos que resuelven esta tarea, pero te recomendamos hacerlo con el menor número de movimientos posibles.\n",
    "\n",
    "<div style=\"margin-bottom: 50px;\">\n",
    "    <div style=\"float:center;\">\n",
    "        <br/>\n",
    "        <img src=\"img/Motores_Ej1.PNG\" width=\"500\"/>\n",
    "    </div>\n",
    "</div>\n",
    "<p>(*)Antes de abrir el mundo, hay que desmarcar la opción \"Comportamiento aleatorio de Mundos\" en Opciones.</p>"
   ]
  },
  {
   "cell_type": "code",
   "execution_count": null,
   "id": "5c8c9079",
   "metadata": {},
   "outputs": [],
   "source": [
    "#INSERTAR CÓDIGO AQUÍ"
   ]
  },
  {
   "cell_type": "markdown",
   "id": "0775ebef",
   "metadata": {},
   "source": [
    "**EJERCICIO 1-b**\n",
    "\n",
    "Ahora realiza el mismo ejercicio pero en el mapa **SIMPLE MAZE**, de forma que Robobo se acerque al cilindro rojo con el menor número de movimientos posibles.\n",
    "\n",
    "<div style=\"margin-bottom: 50px;\">\n",
    "    <div style=\"float:center;\">\n",
    "        <br/>\n",
    "        <img src=\"img/simple_maze.PNG\" width=\"500\"/>\n",
    "    </div>\n",
    "</div>"
   ]
  },
  {
   "cell_type": "code",
   "execution_count": null,
   "id": "53a4f5aa",
   "metadata": {},
   "outputs": [],
   "source": [
    "#INSERTAR CÓDIGO AQUÍ"
   ]
  },
  {
   "cell_type": "markdown",
   "id": "1a5fca25",
   "metadata": {},
   "source": [
    "**EJERCICIO 2**\n",
    "\n",
    "En el mundo **FOUR WALLS**, utiliza únicamente las funciones *moveWheels()* y *wait()* para que el robot se mueva como si estuviera trazando un número en formato BCD (segmentos en rojo). Selecciona el número que prefieras y haz el programa teniendo en cuenta que debes hacer movimientos rectos y giros de 90º.\n",
    "\n",
    "<div style=\"margin-bottom: 50px;\">\n",
    "    <div style=\"float:center;\">\n",
    "        <br/>\n",
    "        <img src=\"img/bcd.PNG\" width=\"500\"/>\n",
    "    </div>\n",
    "</div>"
   ]
  },
  {
   "cell_type": "code",
   "execution_count": null,
   "id": "8499801c",
   "metadata": {},
   "outputs": [],
   "source": [
    "#INSERTAR CÓDIGO AQUÍ"
   ]
  },
  {
   "cell_type": "markdown",
   "id": "1361ebf1",
   "metadata": {},
   "source": [
    "**EJERCICIO 3**\n",
    "\n",
    "Carga el mundo **FOUR WALLS**, y mediante el método *moveWheelsByDegrees()*, recrea el siguiente recorrido. Trata de que los giros sean sigan trayectorias curvas, no hagas giros de 90º. Trata de utilizar el menor número de movimientos posible.\n",
    "\n",
    "<div style=\"margin-bottom: 40px;\">\n",
    "    <div style=\"float:center;\">\n",
    "        <br/>\n",
    "        <img src=\"img/carrera.avif\" width=\"500\"/>\n",
    "    </div>\n",
    "</div>"
   ]
  },
  {
   "cell_type": "code",
   "execution_count": null,
   "id": "d5eb512b",
   "metadata": {},
   "outputs": [],
   "source": [
    "#INSERTAR CÓDIGO AQUÍ"
   ]
  },
  {
   "cell_type": "markdown",
   "id": "903ed4a8",
   "metadata": {},
   "source": [
    "**EJERCICIO 4**\n",
    "\n",
    "Carga el mundo **FOUR WALLS** y , mediante los comandos *moveWheelsByTime* o *moveWheelsByDegres*, realiza un recorrido que haga que el robot se mueva \"dibujando\" un polígono de los siguientes:\n",
    "\n",
    "<div style=\"margin-bottom: 40px;\">\n",
    "    <div style=\"float:center;\">\n",
    "        <br/>\n",
    "        <img src=\"img/poligono.jpg\" width=\"500\"/>\n",
    "    </div>\n",
    "</div>"
   ]
  },
  {
   "cell_type": "code",
   "execution_count": null,
   "id": "775998e3",
   "metadata": {},
   "outputs": [],
   "source": [
    "#INSERTAR CÓDIGO AQUÍ"
   ]
  }
 ],
 "metadata": {
  "kernelspec": {
   "display_name": "Python 3",
   "language": "python",
   "name": "python3"
  },
  "language_info": {
   "codemirror_mode": {
    "name": "ipython",
    "version": 3
   },
   "file_extension": ".py",
   "mimetype": "text/x-python",
   "name": "python",
   "nbconvert_exporter": "python",
   "pygments_lexer": "ipython3",
   "version": "3.10.2"
  }
 },
 "nbformat": 4,
 "nbformat_minor": 5
}
