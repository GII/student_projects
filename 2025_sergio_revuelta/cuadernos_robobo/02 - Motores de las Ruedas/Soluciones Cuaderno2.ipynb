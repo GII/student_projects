{
 "cells": [
  {
   "cell_type": "markdown",
   "id": "eb4f1e12",
   "metadata": {},
   "source": [
    "EJ 1"
   ]
  },
  {
   "cell_type": "code",
   "execution_count": null,
   "id": "3ef9e5ac",
   "metadata": {},
   "outputs": [],
   "source": [
    "from robobopy.Robobo import Robobo\n",
    "from robobopy.utils.Wheels import Wheels\n",
    "rob = Robobo(\"localhost\")\n",
    "rob.connect()\n",
    "\n",
    "\n",
    "rob.moveWheelsByTime(7,10,2)\n",
    "rob.moveWheelsByTime(100,100,10)"
   ]
  },
  {
   "cell_type": "markdown",
   "id": "312cb182",
   "metadata": {},
   "source": [
    "EJ 1 B"
   ]
  },
  {
   "cell_type": "code",
   "execution_count": null,
   "id": "8b02d725",
   "metadata": {},
   "outputs": [],
   "source": [
    "from robobopy.Robobo import Robobo\n",
    "from robobopy.utils.Wheels import Wheels\n",
    "rob = Robobo(\"localhost\")\n",
    "rob.connect()\n",
    "\n",
    "\n",
    "rob.moveWheelsByTime(45,45,3.5)\n",
    "rob.moveWheelsByTime(25,-25,0.8)\n",
    "rob.moveWheelsByTime(75,75,5)\n",
    "rob.moveWheelsByTime(25,-25,0.75)\n",
    "rob.moveWheelsByTime(45,45,8)"
   ]
  },
  {
   "cell_type": "markdown",
   "id": "233c4495",
   "metadata": {},
   "source": [
    "EJ2"
   ]
  },
  {
   "cell_type": "code",
   "execution_count": null,
   "id": "893c5842",
   "metadata": {},
   "outputs": [],
   "source": [
    "from robobopy.Robobo import Robobo\n",
    "from robobopy.utils.Wheels import Wheels\n",
    "\n",
    "rob = Robobo(\"localhost\")\n",
    "rob.connect()\n",
    "\n",
    "\n",
    "#rob.moveWheelsByTime(25,25,2) #Moverse una casilla\n",
    "#rob.moveWheelsByTime(-9,9,2) #Girar hacia la derecha\n",
    "#rob.moveWheelsByTime(9,-9,2) #Girar hacia la izquierda\n",
    "\n",
    "#Solución para el número 9\n",
    "rob.moveWheelsByTime(25,25,2)\n",
    "rob.moveWheelsByTime(9,-9,2)\n",
    "rob.moveWheelsByTime(25,25,2)\n",
    "rob.moveWheelsByTime(25,25,2)\n",
    "rob.moveWheelsByTime(9,-9,2)\n",
    "rob.moveWheelsByTime(25,25,2)\n",
    "rob.moveWheelsByTime(9,-9,2)\n",
    "rob.moveWheelsByTime(25,25,2)\n",
    "rob.moveWheelsByTime(9,-9,2)\n",
    "rob.moveWheelsByTime(25,25,2)"
   ]
  },
  {
   "cell_type": "markdown",
   "id": "9fdad532",
   "metadata": {},
   "source": [
    "Ej 3"
   ]
  },
  {
   "cell_type": "code",
   "execution_count": null,
   "id": "a8626524",
   "metadata": {},
   "outputs": [],
   "source": [
    "from robobopy.Robobo import Robobo\n",
    "from robobopy.utils.Wheels import Wheels\n",
    "rob = Robobo(\"localhost\")\n",
    "rob.connect()\n",
    "\n",
    "\n",
    "rob.moveWheelsByDegrees(Wheels.BOTH, 720, 30)\n",
    "rob.moveWheelsByDegrees(Wheels.L, 720, 30)\n",
    "rob.moveWheelsByDegrees(Wheels.BOTH, 720, 30)\n",
    "rob.moveWheelsByDegrees(Wheels.R, 720, 30)\n",
    "rob.moveWheelsByDegrees(Wheels.BOTH, 720, 30)"
   ]
  },
  {
   "cell_type": "markdown",
   "id": "67623531",
   "metadata": {},
   "source": [
    "Ej 4"
   ]
  },
  {
   "cell_type": "code",
   "execution_count": null,
   "id": "82209a5f",
   "metadata": {},
   "outputs": [],
   "source": [
    "from robobopy.Robobo import Robobo\n",
    "from robobopy.utils.Wheels import Wheels\n",
    "rob = Robobo(\"localhost\")\n",
    "rob.connect()\n",
    "\n",
    "#Pentágono\n",
    "rob.resetWheelEncoders()\n",
    "\n",
    "rob.moveWheelsByDegrees(Wheels.BOTH, 450, 15)\n",
    "\n",
    "rob.moveWheelsByDegrees(Wheels.L, 270, 30)\n",
    "rob.resetWheelEncoders()\n",
    "\n",
    "\n",
    "rob.moveWheelsByDegrees(Wheels.BOTH, 450, 15)\n",
    "rob.moveWheelsByDegrees(Wheels.L, 270, 30)\n",
    "rob.resetWheelEncoders()\n",
    "\n",
    "rob.moveWheelsByDegrees(Wheels.BOTH, 450, 15)\n",
    "rob.moveWheelsByDegrees(Wheels.L, 270, 30)\n",
    "rob.resetWheelEncoders()\n",
    "\n",
    "rob.moveWheelsByDegrees(Wheels.BOTH, 450, 15)\n",
    "rob.moveWheelsByDegrees(Wheels.L, 270, 30)\n",
    "rob.resetWheelEncoders()\n",
    "\n",
    "rob.moveWheelsByDegrees(Wheels.BOTH, 450, 15)\n",
    "rob.moveWheelsByDegrees(Wheels.L, 270, 30)"
   ]
  }
 ],
 "metadata": {
  "kernelspec": {
   "display_name": "Python 3",
   "language": "python",
   "name": "python3"
  },
  "language_info": {
   "codemirror_mode": {
    "name": "ipython",
    "version": 3
   },
   "file_extension": ".py",
   "mimetype": "text/x-python",
   "name": "python",
   "nbconvert_exporter": "python",
   "pygments_lexer": "ipython3",
   "version": "3.12.6"
  }
 },
 "nbformat": 4,
 "nbformat_minor": 5
}
