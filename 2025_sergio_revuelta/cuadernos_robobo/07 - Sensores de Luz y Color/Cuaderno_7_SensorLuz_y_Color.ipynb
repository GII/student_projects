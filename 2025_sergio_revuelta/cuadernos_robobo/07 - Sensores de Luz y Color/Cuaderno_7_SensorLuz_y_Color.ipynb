{
 "cells": [
  {
   "cell_type": "markdown",
   "id": "c3142573",
   "metadata": {},
   "source": [
    "<table width=\"100%\">\n",
    "<tr>\n",
    "    <td align=\"left\" width=\"50%\" style=\"border: 0px; padding-left: 20px;\">\n",
    "        <img src=\"img/udc.png\" width=\"300\">\n",
    "    </td>\n",
    "    <td align=\"right\" width=\"50%\" style=\"border: 0px; padding-right: 50px;\">\n",
    "        <img src=\"img/logo_mint.svg\" width=\"250\">\n",
    "    </td>    \n",
    "</tr>\n",
    "</table>"
   ]
  },
  {
   "cell_type": "markdown",
   "id": "25587205",
   "metadata": {},
   "source": [
    "<center>\n",
    "<h1 style=\"color: #d60e8c;\">Robobo: Sensor de brillo y Sensor de color</h1> \n",
    "</center>"
   ]
  },
  {
   "cell_type": "markdown",
   "id": "e916bee9",
   "metadata": {},
   "source": [
    "<h2>Contenidos</h2>\n",
    "\n",
    "<div class=\"alert alert-block alert-info\" \n",
    "     style=\"margin-top: 20px; padding-top:10px; border: 1px solid #d60e8c; border-radius: 20px; background:transparent;\">\n",
    "    <ul>\n",
    "        <li><a href=\"#intro\">Introducción</a></li>\n",
    "        <li><a href=\"#bright\">readBrightnessSensor()</a></li>\n",
    "        <li><a href=\"#blobs\">Detección de blobs</a></li>\n",
    "        <li><a href=\"#claseblob\">Clase Blob</a></li>\n",
    "        <li><a href=\"#enumblob\">Enumerado BlobColor</a></li>\n",
    "        <ul>\n",
    "            <li><a href=\"#readblob\">readColorBlob(color)</a></li>\n",
    "            <li><a href=\"#setblob\">setActiveBlobs(red,green,blue,custom)</a></li>\n",
    "            <li><a href=\"#readallblob\">readAllColorBlobs()</a></li>\n",
    "            <li><a href=\"#resetblob\">resetColorBlobs()</a></li>\n",
    "        </ul>\n",
    "        <li><a href=\"#ej\">Ejercicios</a></li>\n",
    "    </ul>\n",
    "</div>"
   ]
  },
  {
   "cell_type": "markdown",
   "id": "533882df",
   "metadata": {},
   "source": [
    "<a id=\"intro\" style=\"text-decoration:none;\">\n",
    "<h1 style=\"color: #d60e8c; border-bottom: 2px solid #d60e8c;padding-bottom: 5px;\">Introducción</h1>\n",
    "</a>"
   ]
  },
  {
   "cell_type": "markdown",
   "id": "c5a0f2a4",
   "metadata": {},
   "source": [
    "Con este cuaderno comenzamos a ver los métodos de Robobo asociados a la cámara, que proporcionan al robot la capacidad de \"ver\" su entorno. Estos métodos son básicos en la robótica autónoma, y forman parte de un campo que se llama **visión artificial**, muy importante en la actualidad. El cuaderno actual se centra en dos detecciones sencillas, el nivel de luz ambiente o brillo, y el color de los objetos en el rango de visión."
   ]
  },
  {
   "cell_type": "markdown",
   "id": "1ba1ef4a",
   "metadata": {},
   "source": [
    "<a id=\"brillo\" style=\"text-decoration:none;\">\n",
    "<h1 style=\"color: #d60e8c; border-bottom: 2px solid #d60e8c;padding-bottom: 5px;\">Sensor de brillo</h1>\n",
    "</a>"
   ]
  },
  {
   "cell_type": "markdown",
   "id": "e83307dd",
   "metadata": {},
   "source": [
    "Robobo permite leer este nivel gracias al sensor de luz del smartphone, que normalmente está situado en la cámara trasera. \n",
    "\n",
    "*Advertencia*: este sensor puede no estar disponible en todos los smartphone, pero sí se puede usar en RoboboSim."
   ]
  },
  {
   "cell_type": "markdown",
   "id": "6b8277f3",
   "metadata": {},
   "source": [
    "\n",
    "\n",
    "<a id=\"bright\" style=\"text-decoration:none;\">\n",
    "<h3 style=\"color: #d60e8c;\">readBrightnessSensor()</h2>\n",
    "</a>\n",
    "\n",
    "**Función:** Lee el nivel de luz ambiental del entorno (brillo).\n",
    "\n",
    "**Devuelve:**\n",
    "- El nivel de brillo en lux (int). Valores positivos."
   ]
  },
  {
   "cell_type": "markdown",
   "id": "46e6bfca",
   "metadata": {},
   "source": [
    "Para probar este método, se recomienda abrir el mundo **AVOID FALLING** ya que hay una fuente de luz simulada:\n",
    "\n",
    "En el siguiente programa, Robobo se mueve a velocidad 10 y realiza sucesivas medidas del nivel de brillo haciendo uso del método *readBrightnessSensor* mientras avanza. Cuando hayan pasado 20 segundos, se cierra el programa"
   ]
  },
  {
   "cell_type": "code",
   "execution_count": null,
   "id": "a5ea9ffd",
   "metadata": {},
   "outputs": [],
   "source": [
    "from robobopy.Robobo import Robobo\n",
    "rob = Robobo(\"localhost\")\n",
    "rob.connect()\n",
    "rob.moveWheels(10,10)\n",
    "tiempo=0\n",
    "#Durante 20 instancias de \"tiempo\", se ejecutará en bucle la lectura del brillo\n",
    "while tiempo<20:\n",
    "    rob.wait(1)\n",
    "    print(f'\\nEl valor de brillo actual es de: {rob.readBrightnessSensor()} lux')\n",
    "    tiempo=+1"
   ]
  },
  {
   "cell_type": "markdown",
   "id": "687897ee",
   "metadata": {},
   "source": [
    "A medida que el robot va avanzando, revisa cómo aumentan los valores de la luminosidad ambiente."
   ]
  },
  {
   "cell_type": "markdown",
   "id": "84339b7d",
   "metadata": {},
   "source": [
    "<a id=\"color\" style=\"text-decoration:none;\">\n",
    "<h1 style=\"color: #d60e8c; border-bottom: 2px solid #d60e8c;padding-bottom: 5px;\">Sensor de color</h1>\n",
    "</a>"
   ]
  },
  {
   "cell_type": "markdown",
   "id": "98f98fb6",
   "metadata": {},
   "source": [
    "Robobo permite detectar **blobs** de distintos colores utilizando la cámara frontal del smartphone. Un blob es un área de la imagen con el mismo color uniforme, y su detección implica un procesado interno de la imagen obtenida.\n",
    "\n",
    "El robot podría detectar varios objetos de un color en un momento dado, pero los métodos siguientes solo devuelven medidas del objeto con un área mayor.\n",
    "\n",
    "A continuación, se explican los métodos disponibles:"
   ]
  },
  {
   "cell_type": "markdown",
   "id": "9e4d4a27",
   "metadata": {},
   "source": [
    "\n",
    "<a id=\"readblob\" style=\"text-decoration:none;\">\n",
    "<h3 style=\"color: #d60e8c;\">readColorBlob(color)</h2>\n",
    "</a>\n",
    "\n",
    "**Función:** Lee el último blob del color indicado detectado.\n",
    "\n",
    "**Parámetros:**\n",
    "- *color (BlobColor)*: el color del blob. Ver Enumerado BlobColor abajo.\n",
    "\n",
    "**Devuelve:**\n",
    "- El blob (Blob). Ver Clase Blob abajo."
   ]
  },
  {
   "cell_type": "markdown",
   "id": "c4f6bf72",
   "metadata": {},
   "source": [
    "\n",
    "\n",
    "<a id=\"enumblob\" style=\"text-decoration:none;\">\n",
    "<h3 style=\"color: #d60e8c;\">Enumerado BlobColor</h2>\n",
    "</a>\n",
    "\n",
    "\n",
    "\n",
    "Representa la lista de colores que Robobo puede detectar.\n",
    "\n",
    "- **RED**: Rojo.\n",
    "- **BLUE**: Azul.\n",
    "- **GREEN**: Verde.\n",
    "- **CUSTOM**: Personalizado.\n"
   ]
  },
  {
   "cell_type": "markdown",
   "id": "f0615a84",
   "metadata": {},
   "source": [
    "<a id=\"claseblob\" style=\"text-decoration:none;\">\n",
    "<h3 style=\"color: #d60e8c;\">Clase Blob</h2>\n",
    "</a>\n",
    "\n",
    "\n",
    "\n",
    "Representa un blob detectado por Robobo. Los ejes de referencia que se utilizan son los siguientes:\n",
    "\n",
    "**Atributos:**\n",
    "\n",
    "- *color (string)*: El color del blob detectado.\n",
    "- *posx (int)*: Representa la localización de la pelota en el X respecto al robot. Los valores están\n",
    "en el rango de 0 a 100.\n",
    "- *posy (int)*: Representa la posición de la pelota en el Y respecto al robot, es decir, lo cerca o\n",
    "lejos que se encuentra del mismo. Los valores están en el rango de 0 a 100. Ver imagen\n",
    "anterior.\n",
    "- *size (int)*: El área del blob medida en pixels, de forma que, cuanto mayor es el valor, más cerca\n",
    "se encuentra el robot del blob detectado.\n",
    "- *frame_timestamp (long)*: La hora a la que el frame se comenzó a procesar.\n",
    "- *status_timestamp (long)*: La hora a la que se envió el estado."
   ]
  },
  {
   "cell_type": "markdown",
   "id": "3d98cad2",
   "metadata": {},
   "source": [
    "La imagen de abajo muestra cómo se leen los valores:\n",
    "\n",
    "- La orientación XY es la misma que la de las coordenadas para el TAP"
   ]
  },
  {
   "cell_type": "markdown",
   "id": "59fb6c25",
   "metadata": {},
   "source": [
    "<img src=\"img/blobs.PNG\" width=\"500\">"
   ]
  },
  {
   "cell_type": "markdown",
   "id": "11a43a82",
   "metadata": {},
   "source": [
    "El siguiente programa hace que Robobo diga si ve un color un objeto de color verde y dónde lo ve, de\n",
    "forma natural para el usuario, es decir, hablando.\n",
    "Si el robot no ve el objeto, dice que no lo ve, y si lo ve, comprueba la posición en la que encuentra\n",
    "respecto al robot y lo dice. Para comprobar si ve o no el objeto, usa el atributo “size”, y para comprobar\n",
    "la posición usar la coordenada x del objeto verde detectado en la imagen.\n",
    "El pequeño movimiento que se realiza antes de comprobar si el robot detecta el objeto se debe a que,\n",
    "los sensores solo devuelven valores cuando se produce un cambio."
   ]
  },
  {
   "cell_type": "markdown",
   "id": "cf8f3d55",
   "metadata": {},
   "source": [
    "Cargad este código en **FOUR CYLINDRES**, ya que tiene cuatro cilindros de colores con los que poder hacer mejores demostraciones en la simulación."
   ]
  },
  {
   "cell_type": "code",
   "execution_count": null,
   "id": "fc80c717",
   "metadata": {},
   "outputs": [],
   "source": [
    "from robobopy.Robobo import Robobo\n",
    "from robobopy.utils.BlobColor import BlobColor\n",
    "rob = Robobo(\"localhost\")\n",
    "rob.connect()\n",
    "iteraciones=0\n",
    "\n",
    "#Bucle que se repite en 20 ciclos\n",
    "while iteraciones<20:\n",
    "    rob.moveWheelsByTime(-2,2,1)\n",
    "    iteraciones+=1\n",
    "    #Dependiendo de la posición a la que se encuentre, dirá una cosa distinta.\n",
    "    if rob.readColorBlob(BlobColor.GREEN).size > 0:\n",
    "        if 0 <= rob.readColorBlob(BlobColor.GREEN).posx < 45:\n",
    "            rob.sayText('Verde a la izquierda')\n",
    "        elif 45 <= rob.readColorBlob(BlobColor.GREEN).posx <= 55:\n",
    "            rob.sayText('Verde en el medio')\n",
    "        elif 55 < rob.readColorBlob(BlobColor.GREEN).posx < 100:\n",
    "            rob.sayText('Verde a la derecha')\n",
    "        else:\n",
    "            rob.sayText('No veo verde')\n",
    "\n",
    "rob.disconnect()"
   ]
  },
  {
   "cell_type": "markdown",
   "id": "24723122",
   "metadata": {},
   "source": [
    "<a id=\"readallblob\" style=\"text-decoration:none;\">\n",
    "<h3 style=\"color: #d60e8c;\">readAllColorBlobs()</h2>\n",
    "</a>\n",
    "\n",
    "**Función:** Lee los datos de todos los blobs de colores.\n",
    "\n",
    "**Devuelve:**\n",
    "- Diccionario con la información individual de cada blob (dict). Las claves (key) del diccionario son de tipo BlobColor (ver Clase Blob) y contienen los posibles colores detectados. Los valores (values) del diccionario son de tipo Blob (ver Clase Blob) y contienen la información de cada blob."
   ]
  },
  {
   "cell_type": "markdown",
   "id": "9bd3b4bd",
   "metadata": {},
   "source": [
    "Para ver una demostración de este método, tenemos la siguiente:\n",
    "\n",
    "En el mapa **FOUR CYLINDRES** el robot girará con tal de ver el cilindro amarillo. El amarillo se considera el color CUSTOM.\n",
    "\n",
    "Cuando se detenga, se imprimirá por pantalla los valores de: El color, La posición en x, la posición en y, y el tamaño.\n",
    "\n",
    "Se mostrarán los 4 blobs.\n",
    "\n",
    "Como está orientado hacia el cilindro amarillo, los valores no serán nulos."
   ]
  },
  {
   "cell_type": "code",
   "execution_count": null,
   "id": "3f5db45a",
   "metadata": {},
   "outputs": [],
   "source": [
    "from robobopy.Robobo import Robobo\n",
    "from robobopy.utils.Wheels import Wheels\n",
    "from robobopy.utils.BlobColor import BlobColor\n",
    "rob = Robobo(\"localhost\")\n",
    "rob.connect()\n",
    "\n",
    "#Posicionando el Robobo para que visualice el cilindro amarillo\n",
    "rob.moveWheelsByTime(-4,4,2)\n",
    "blobs = rob.readAllColorBlobs()\n",
    "\n",
    "#En el siguiente bucle se mostrará por pantalla los valores de los 4 colores\n",
    "for key in blobs:\n",
    "    rob.sayText(key)\n",
    "    blob = blobs[key]\n",
    "    print(blob.color)\n",
    "    print(blob.posx)\n",
    "    print(blob.posy)\n",
    "    print(blob.size)\n",
    "    rob.wait(0.75)\n"
   ]
  },
  {
   "cell_type": "markdown",
   "id": "9680ef00",
   "metadata": {},
   "source": [
    "\n",
    "<a id=\"setblob\" style=\"text-decoration:none;\">\n",
    "<h3 style=\"color: #d60e8c;\">setActiveBlobs(red,green,blue,custom)</h2>\n",
    "</a>\n",
    "\n",
    "**Función**: Habilita o deshabilita el seguimiento individual de cada color. Por defecto, el seguimiento del color\n",
    "verde está habilitado y los demás deshabilitados.\n",
    "- *red (bool)*: Si es “True”, habilita el seguimiento del color **rojo**.\n",
    "- *green (bool)*: Si es “True”, habilita el seguimiento del color **verde**.\n",
    "- *blue (bool)*: Si es “True”, habilita el seguimiento del color **azul**.\n",
    "- *custom (bool)*: Si es “True”, habilita el seguimiento del color **personalizable**.\n",
    "\n",
    "***Advertencia***: El seguimiento de color es una tarea computacionalmente intensiva; habilitar todos\n",
    "los colores a la vez puede afectar al rendimiento.\n",
    "El uso del color custom en el robot real requiere la calibración de la cámara, tal y como se explica\n",
    "aquí:\n",
    "\n",
    "https://github.com/mintforpeople/robobo-programming/wiki/camera-calibration-tutorial_es"
   ]
  },
  {
   "cell_type": "markdown",
   "id": "48f61d32",
   "metadata": {},
   "source": [
    "Este ejemplo es el mismo que el del apartado anterior, con una pequeña diferencia:\n",
    "\n",
    "- Se va a deshabilitar el seguimiento del color custom.\n",
    "\n",
    "\n",
    "Ejecutarlo y comparar los resultados con los del apartado anterior."
   ]
  },
  {
   "cell_type": "code",
   "execution_count": null,
   "id": "1768b067",
   "metadata": {},
   "outputs": [],
   "source": [
    "from robobopy.Robobo import Robobo\n",
    "from robobopy.utils.Wheels import Wheels\n",
    "from robobopy.utils.BlobColor import BlobColor\n",
    "rob = Robobo(\"localhost\")\n",
    "rob.connect()\n",
    "\n",
    "#Usandolo de esta manera deshabilitará el color \"CUSTOM\"\n",
    "rob.setActiveBlobs(True, True, True, False)\n",
    "\n",
    "#Posicionando el Robobo para que visualice el cilindro amarillo\n",
    "rob.moveWheelsByTime(-4,4,2)\n",
    "blobs = rob.readAllColorBlobs()\n",
    "\n",
    "#En el siguiente bucle se mostrará por pantalla los valores de los 4 colores\n",
    "#Esta vez no dará ningún valor del amarillo\n",
    "for key in blobs:\n",
    "    rob.sayText(key)\n",
    "    blob = blobs[key]\n",
    "    print(blob.color)\n",
    "    print(blob.posx)\n",
    "    print(blob.posy)\n",
    "    print(blob.size)\n",
    "    rob.wait(0.75)"
   ]
  },
  {
   "cell_type": "markdown",
   "id": "01e11b64",
   "metadata": {},
   "source": [
    "¿Habéis visto que esta vez los valores de custom son **nulos**? Eso es porque el seguimiento del blob custom **ha sido deshabilitado**"
   ]
  },
  {
   "cell_type": "markdown",
   "id": "e041373d",
   "metadata": {},
   "source": [
    "<a id=\"ej\" style=\"text-decoration:none;\">\n",
    "<h1 style=\"color: #d60e8c; border-bottom: 2px solid #d60e8c;padding-bottom: 5px;\">Ejercicios</h1>\n",
    "</a>"
   ]
  },
  {
   "cell_type": "markdown",
   "id": "77e782f6",
   "metadata": {},
   "source": [
    "**EJERCICIO 1**:\n",
    "\n",
    "Cargad el mapa **BALL TRACK** con la opción \"habilitar mundos aleatorios\" **activada**:\n",
    "\n",
    "En este mapa, Robobo dispondrá de una pinza con la que podrá agarrar objetos. El objetivo es el siguiente:\n",
    "\n",
    "Robobo debe de detectar una pelota **verde** que está encima de un cilindro. Para ello:\n",
    "- Robobo pondrá su TILT a 90º.\n",
    "- En el mapa en el que está y en su posición verá siempre el cilindro con la pelota verde. Tiene que leer el blob verde y comprobar su posición en **el eje x**:\n",
    "    - Si es menor que 50 deberá girar a la izquierda hasta que se aproxime a un umbral.\n",
    "    - Si es mayor que 50 girará a la derecha.\n",
    "    - Si es igual a 50 no hará ningún giro extra.\n",
    "- Después deberá avanzar recto a una velocidad constante de **10** hasta que el sensor Front.C detecte valores superiores a 200. Luego se detendrá y dirá \"YA TENGO LA PELOTA\", y se terminará el programa.\n",
    "\n",
    "*Para este ejercicio solo el verde debe de estar habilitado.*"
   ]
  },
  {
   "cell_type": "code",
   "execution_count": null,
   "id": "ab28c8ab",
   "metadata": {},
   "outputs": [],
   "source": [
    "#INSERTAR CÓDIGO AQUÍ"
   ]
  },
  {
   "cell_type": "markdown",
   "id": "120343bd",
   "metadata": {},
   "source": [
    "**EJERCICIO 2**\n",
    "\n",
    "Abrir el mundo **CYLINDER** con la opción \"habilitar mundos aleatorios\" **activada** y realizar el siguiente programa:\n",
    "\n",
    "- El tilt se deberá girar a los 100º con tal de tener una mejor visualización del cilindro y solo el blob **rojo** debe de estar habilitado.\n",
    "- Robobo deberá girar su propio eje a una velocidad de **5** hasta que encuentre el cilindro **rojo**. La posición en x debe de estar entre 45 y 55.\n",
    "- Una vez centrada, el robot irá hacia delante cuya velocidad dependerá de los siguientes factores.\n",
    "- Si el \"blob.size\" es menor que 50, irá a 15.\n",
    "    - Si está entre 50 y 150, irá a 12.\n",
    "    - Si está entre 150 y 400, irá a 9.\n",
    "    - Si es mayor que 400, irá a 5.\n",
    "    - Si es mayor que 1000 o el sensor Front.C detecta valores superiores a 300, se detendrá y dirá \"YA TENGO LA PELOTA\"."
   ]
  },
  {
   "cell_type": "code",
   "execution_count": null,
   "id": "aaaeed2b",
   "metadata": {},
   "outputs": [],
   "source": [
    "#INSERTAR CÓDIGO AQUÍ"
   ]
  }
 ],
 "metadata": {
  "kernelspec": {
   "display_name": "Python 3",
   "language": "python",
   "name": "python3"
  },
  "language_info": {
   "codemirror_mode": {
    "name": "ipython",
    "version": 3
   },
   "file_extension": ".py",
   "mimetype": "text/x-python",
   "name": "python",
   "nbconvert_exporter": "python",
   "pygments_lexer": "ipython3",
   "version": "3.12.6"
  }
 },
 "nbformat": 4,
 "nbformat_minor": 5
}
