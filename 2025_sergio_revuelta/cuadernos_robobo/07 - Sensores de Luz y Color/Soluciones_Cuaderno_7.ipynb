{
 "cells": [
  {
   "cell_type": "markdown",
   "id": "b42a11dd",
   "metadata": {},
   "source": [
    "Ejercicio 1"
   ]
  },
  {
   "cell_type": "code",
   "execution_count": null,
   "id": "3beae770",
   "metadata": {},
   "outputs": [],
   "source": [
    "from robobopy.Robobo import Robobo\n",
    "from robobopy.utils.BlobColor import BlobColor\n",
    "from robobopy.utils.Wheels import Wheels\n",
    "from robobopy.utils.IR import IR\n",
    "rob = Robobo(\"localhost\")\n",
    "rob.connect()\n",
    "\n",
    "#Configuramos el parámetro de Blobs activos\n",
    "rob.moveTiltTo(90,5)\n",
    "rob.setActiveBlobs(False,True,False,False)\n",
    "\n",
    "#Primera lectura antes de empezar a buscar\n",
    "blob_verde=rob.readColorBlob(BlobColor.GREEN)\n",
    "\n",
    "if blob_verde.posx<50:\n",
    "    rob.moveWheels(-2,2)\n",
    "elif blob_verde.posx>50:\n",
    "    rob.moveWheels(2,-2)\n",
    "\n",
    "#Bucle que sirve para esperar a que el robot se centre si no está posicionado\n",
    "while blob_verde.posx<47 or blob_verde.posx>53:\n",
    "    blob_verde=rob.readColorBlob(BlobColor.GREEN)\n",
    "    rob.wait(0.1)\n",
    "\n",
    "\n",
    "#Avanza hasta que tenga el objeto\n",
    "rob.moveWheels(10,10)\n",
    "while rob.readIRSensor(IR.FrontC)<200:\n",
    "    rob.wait(0.15)\n",
    "rob.stopMotors()\n",
    "rob.sayText(\"YA TENGO LA PELOTA\")\n",
    "\n",
    "rob.disconnect()"
   ]
  },
  {
   "cell_type": "markdown",
   "id": "140498bc",
   "metadata": {},
   "source": [
    "Ejercicio 2"
   ]
  },
  {
   "cell_type": "code",
   "execution_count": null,
   "id": "c864f9e5",
   "metadata": {},
   "outputs": [],
   "source": [
    "from robobopy.Robobo import Robobo\n",
    "from robobopy.utils.BlobColor import BlobColor\n",
    "from robobopy.utils.Wheels import Wheels\n",
    "from robobopy.utils.IR import IR\n",
    "rob = Robobo(\"localhost\")\n",
    "rob.connect()\n",
    "\n",
    "#Configuramos los parámetros iniciales\n",
    "rob.moveTiltTo(100,5)\n",
    "rob.setActiveBlobs(True,False,False,False)\n",
    "\n",
    "#Primera lectura antes de empezar a buscar\n",
    "blob_rojo=rob.readColorBlob(BlobColor.RED)\n",
    "\n",
    "#Girando sobre su propio eje hasta que encuentre el color rojo en el rango establecido\n",
    "while blob_rojo.posx<46 or blob_rojo.posx>54:\n",
    "    rob.moveWheels(-2,2)\n",
    "    blob_rojo=rob.readColorBlob(BlobColor.RED)\n",
    "    rob.wait(0.1)\n",
    "    print(f\"Size: {blob_rojo.size} // PosX: {blob_rojo.posx}\")\n",
    "rob.stopMotors()\n",
    "\n",
    "\n",
    "#Se mueve hacia delante hasta que el tamaño del bloque de color verde sea mínimo 1000 o el IR Front-C\n",
    "# tenga el cilindro de frente\n",
    "\n",
    "while blob_rojo.size<1000 and rob.readIRSensor(IR.FrontC)<100:\n",
    "    blob_rojo=rob.readColorBlob(BlobColor.RED)\n",
    "    print(f\"Size: {blob_rojo.size} // PosX: {blob_rojo.posx}\")\n",
    "    #A medida que se acerque al color rojo, menor será la velocidad a la que avanza\n",
    "    if blob_rojo.size<50:\n",
    "        cte=15\n",
    "    elif blob_rojo.size>=50 and blob_rojo.size<150:\n",
    "        cte=12\n",
    "    elif blob_rojo.size>=150 and blob_rojo.size<400:\n",
    "        cte=9\n",
    "    elif blob_rojo.size>=400:\n",
    "        cte=5\n",
    "\n",
    "    Rueda_D=cte\n",
    "    Rueda_I=cte\n",
    "    rob.moveWheels(Rueda_D,Rueda_I)\n",
    "    rob.wait(1)\n",
    "\n",
    "#Finaliza diciendo que ya tiene la pelota\n",
    "rob.stopMotors()\n",
    "rob.sayText(\"YA TENGO LA PELOTA\")\n",
    "rob.disconnect()"
   ]
  }
 ],
 "metadata": {
  "kernelspec": {
   "display_name": "Python 3",
   "language": "python",
   "name": "python3"
  },
  "language_info": {
   "codemirror_mode": {
    "name": "ipython",
    "version": 3
   },
   "file_extension": ".py",
   "mimetype": "text/x-python",
   "name": "python",
   "nbconvert_exporter": "python",
   "pygments_lexer": "ipython3",
   "version": "3.12.6"
  }
 },
 "nbformat": 4,
 "nbformat_minor": 5
}
