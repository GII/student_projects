{
 "cells": [
  {
   "cell_type": "markdown",
   "id": "8a7837eb",
   "metadata": {},
   "source": [
    "<table width=\"100%\">\n",
    "<tr>\n",
    "    <td align=\"left\" width=\"50%\" style=\"border: 0px; padding-left: 20px;\">\n",
    "        <img src=\"img/udc.png\" width=\"300\">\n",
    "    </td>\n",
    "    <td align=\"right\" width=\"50%\" style=\"border: 0px; padding-right: 50px;\">\n",
    "        <img src=\"img/logo_mint.svg\" width=\"250\">\n",
    "    </td>    \n",
    "</tr>\n",
    "</table>"
   ]
  },
  {
   "cell_type": "markdown",
   "id": "925a4451",
   "metadata": {},
   "source": [
    "<center>\n",
    "<h1 style=\"color: #d60e8c;\">Robobo: Códigos QR</h1> \n",
    "</center>"
   ]
  },
  {
   "cell_type": "markdown",
   "id": "e8b6116f",
   "metadata": {},
   "source": [
    "<h2>Contenidos</h2>\n",
    "\n",
    "<div class=\"alert alert-block alert-info\" \n",
    "     style=\"margin-top: 20px; padding-top:10px; border: 1px solid #d60e8c; border-radius: 20px; background:transparent;\">\n",
    "    <ul>\n",
    "        <li><a href=\"#intro\">Introducción</a></li>\n",
    "        <li><a href=\"#QR\">Clase QR</a></li>\n",
    "        <ul>\n",
    "            <li><a href=\"#start\">startQrTracking()</a></li>\n",
    "            <li><a href=\"#stop\">stopQrTracking()</a></li>\n",
    "            <li><a href=\"#read\">readQr()</a></li>\n",
    "        </ul>\n",
    "        <li><a href=\"#ej\">Ejercicios</a></li>\n",
    "    </ul>\n",
    "</div>"
   ]
  },
  {
   "cell_type": "markdown",
   "id": "bc233798",
   "metadata": {},
   "source": [
    "<a id=\"intro\" style=\"text-decoration:none;\">\n",
    "<h1 style=\"color: #d60e8c; border-bottom: 2px solid #d60e8c;padding-bottom: 5px;\">Introducción</h1>\n",
    "</a>"
   ]
  },
  {
   "cell_type": "markdown",
   "id": "6ee215a8",
   "metadata": {},
   "source": [
    "Robobo puede detectar y leer códigos QR mediante la cámara y un algoritmo de procesado que está incorporado en el smartphone. Los códigos QR son muy comunes hoy en día, y nos permiten almacenar información con una representación en forma de matriz de pequeños cuadrados de 2 colores (normalmente blanco y negro). Este formato lo podemos leer usando una cámara y una aplicación adecuada, y permite almacenar hasta 4296 caracteres. \n",
    "\n",
    "En robótica, utilizamos estos códigos para etiquetar elementos del entorno que el robot puede detectar, y que contienen información especial. Por ejemplo, podemos poner un QR en una puerta que nos diga qué habitacion es, o podemos marcar con un QR una zona por la que el robot no debe pasar. \n",
    "\n",
    "Robobo tiene un método principal para leer QRs, y otros dos asociados para arrancar y parar la lectura (que consume bastante batería)."
   ]
  },
  {
   "cell_type": "markdown",
   "id": "11a7524a",
   "metadata": {},
   "source": [
    "\n",
    "<a id=\"start\" style=\"text-decoration:none;\">\n",
    "<h3 style=\"color: #d60e8c;\">startQrTracking()</h2>\n",
    "</a>\n",
    "\n",
    "**Función**: Habilita la detección de códigos QR. \n",
    "\n",
    "La detención de códigos QR está habilitada por defecto, pero será necesario este método en caso de que la detengamos.\n",
    "\n",
    "Este cambio es persistente."
   ]
  },
  {
   "cell_type": "markdown",
   "id": "afefabe2",
   "metadata": {},
   "source": [
    "<a id=\"stop\" style=\"text-decoration:none;\">\n",
    "<h3 style=\"color: #d60e8c;\">stopQrTracking()</h2>\n",
    "</a>\n",
    "\n",
    "**Función:** Deshabilita la detección de códigos QR."
   ]
  },
  {
   "cell_type": "markdown",
   "id": "b7202e32",
   "metadata": {},
   "source": [
    "<a id=\"read\" style=\"text-decoration:none;\">\n",
    "<h3 style=\"color: #d60e8c;\">readQR()</h2>\n",
    "</a>\n",
    "\n",
    "\n",
    "\n",
    "**Función:** Lee el último código QR detectado.\n",
    "\n",
    "**Devuelve:**\n",
    "\n",
    "- El código QR (QRCode). Ver Clase QRCode para conocer los atributos que contiene:"
   ]
  },
  {
   "cell_type": "markdown",
   "id": "6eadd740",
   "metadata": {},
   "source": [
    "\n",
    "<a id=\"QR\" style=\"text-decoration:none;\">\n",
    "<h3 style=\"color: #d60e8c;\">Clase QRCode</h2>\n",
    "</a>\n",
    "\n",
    "**Función**: Representa un código QR detectado por Robobo, definido por tres puntos p1, p2 y p3 como se muestra en la imagen inferior.\n",
    "\n",
    "**Atributos:**\n",
    "\n",
    "- *x (float)*: La coordenada X del centro del QR, medida en píxeles desde el lado izquierdo de la\n",
    "pantalla. Los valores son siempre positivos.\n",
    "- *y (float)*: La coordenada Y del centro del QR, medida en píxeles desde el lado superior de la\n",
    "pantalla. Los valores son siempre positivos.\n",
    "- *distance (int)*: Valor cualitativo que aumenta cuando Robobo está cerca del código QR y\n",
    "disminuye cuando está lejos.\n",
    "- *p1 (dict)*: Diccionario con ‘x’ e ‘y’, coordenadas del primer punto de interés. Estas coordenadas\n",
    "se miden en píxeles desde los lados izquierdo y superior de la pantalla. Los valores son siempre\n",
    "positivos.\n",
    "- *p2 (dict)*: Diccionario con ‘x’ e ‘y’, coordenadas del segundo punto de interés. Estas\n",
    "coordenadas se miden en píxeles desde los lados izquierdo y superior de la pantalla. Los\n",
    "valores son siempre positivos.\n",
    "- *p3 (dict)*: Diccionario con ‘x’ e ‘y’, coordenadas del tercer punto de interés. Estas coordenadas\n",
    "se miden en píxeles desde los lados izquierdo y superior de la pantalla. Los valores son siempre\n",
    "positivos.\n",
    "- *id (int)*: Identificador del código QR.\n",
    "- *timestamp (int)*: Marca temporal del mensaje.\n",
    "\n",
    "La siguiente imagen muestra estos atributos en un código QR.\n",
    "\n",
    "<img src=\"img/qr.png\" width=\"350\">\n",
    "\n",
    "El identificador del QR se codificad en los píxeles de color negro que se encuentran dispersados en la región central del cuadrado. Al descifrarlos, se traducen en código binario, y de ese código se obtiene el mensaje. Puede contener enlaces a otras páginas, llaves de cifrado, o simplemente palabras."
   ]
  },
  {
   "cell_type": "markdown",
   "id": "7b5f27aa",
   "metadata": {},
   "source": [
    "Para probar estos métodos en RoboboSim, debemos usar aquellos mundos que incluyan QRs. Entre ellos están:\n",
    "\n",
    "- Maze\n",
    "- Simple Maze\n",
    "- Light Maze\n",
    "- Recycling\n",
    "- Recycling Simple\n",
    "- Pedestrian Road\n",
    "- Robobo Road\n",
    "- Parking\n",
    "- Parking Ocupied\n",
    "- QR City\n",
    "- Colors Navigation"
   ]
  },
  {
   "cell_type": "markdown",
   "id": "09a80f0c",
   "metadata": {},
   "source": [
    "En el siguiente ejemplo se va a utilizar el mundo **SIMPLE MAZE**, para hacer los siguientes pasos:\n",
    "1. Iniciar Robobo\n",
    "2. Activar la detección de QRs usando *startQrTracking()*\n",
    "3. Colocar el Tilt en un ángulo de 90º para detectar mejor los QRs de frente \n",
    "4. Girar sobre su eje, con el objetivo de buscar un QR alrededor\n",
    "4. En el momento en el que detecta un QR (la distancia de lectura obtenida del atributo de la Clase QR es mayor que 0), parar el movimiento\n",
    "5. Desactivar la detección de QRs con *stopQrTracking()*"
   ]
  },
  {
   "cell_type": "code",
   "execution_count": null,
   "id": "c0a2a472",
   "metadata": {},
   "outputs": [],
   "source": [
    "#Paso 1\n",
    "from robobopy.Robobo import Robobo\n",
    "rob = Robobo('localhost')\n",
    "rob.connect()\n",
    "#Paso 2\n",
    "rob.startQrTracking()\n",
    "#Paso 3\n",
    "rob.moveTiltTo(90,30)\n",
    "#Paso 4\n",
    "rob.moveWheels(5,-5)\n",
    "#Paso 5\n",
    "while not (rob.readQR().distance > 0):\n",
    "    rob.wait(0.1)\n",
    "rob.stopMotors()\n",
    "#Paso 6\n",
    "rob.stopQrTracking()\n",
    "rob.disconnect()"
   ]
  },
  {
   "cell_type": "markdown",
   "id": "63480db3",
   "metadata": {},
   "source": [
    "En este ejemplo puedes ver cómo utilizar el atributo *distance* de la Clase QR, el resto de atributos se utilizan de manera similar."
   ]
  },
  {
   "cell_type": "markdown",
   "id": "a737f741",
   "metadata": {},
   "source": [
    "Otro ejemplo que hace uso del texto contenido en el QR, podría ser el siguiente:\n",
    "\n",
    "En el mundo **RECYCLING SIMPLE**, el siguiente programa hace que Robobo ejecute los siguientes pasos:\n",
    "\n",
    "- El robot se mueve de frente\n",
    "- Gira su motor Pan hacia la izquierda del todo\n",
    "- Empieza a moverlo hacia la derecha\n",
    "- Cuando detecta un QR, lo lee y dice por voz su identificador. La distancia del QR debe de ser mayor que 0 y la posición X del punto P1 debe de estar entre 115 y 175\n",
    "- Repite los últimos dos pasos dos veces más"
   ]
  },
  {
   "cell_type": "code",
   "execution_count": null,
   "id": "789133d7",
   "metadata": {},
   "outputs": [],
   "source": [
    "from robobopy.Robobo import Robobo\n",
    "rob = Robobo('localhost')\n",
    "rob.connect()\n",
    "\n",
    "rob.startQrTracking()\n",
    "\n",
    "rob.moveWheelsByTime(35,35,3)\n",
    "rob.wait(0.2)\n",
    "rob.moveWheelsByTime(6,-6,2)\n",
    "\n",
    "#Este bucle se repite 3 veces\n",
    "for i in range(0,3):\n",
    "    rob.moveWheels(-3,3)\n",
    "    rob.wait(0.75)\n",
    "\n",
    "    coord_x=0\n",
    "\n",
    "    #Permanecerá en este bucle hasta que la distancia sea mayor que 0 y el P1 del QR esté entre 115 y 175 del eje X\n",
    "    while rob.readQR().distance <= 0 or coord_x>175 or coord_x<115:\n",
    "        rob.wait(0.1)\n",
    "\n",
    "        #Variable que guarda la coordenada X del P1 del QR\n",
    "        coord_x=int(rob.readQR().p1['x'])\n",
    "    \n",
    "    #Se detienen los motores\n",
    "    rob.stopMotors()\n",
    "\n",
    "    #Leerá y dirá el identificador del QR\n",
    "    rob.sayText('Codigo')\n",
    "    rob.wait(0.2)\n",
    "    rob.sayText(rob.readQR().id)\n",
    "    rob.wait(0.2)\n",
    "    rob.sayText('detectado')\n",
    "    rob.wait(0.2)\n",
    "\n",
    "#Finaliza el programa diciendo que ya ha leído tres códigos\n",
    "rob.sayText(\"Ya he leído tres códigos qr\")\n",
    "\n",
    "rob.stopQrTracking()\n",
    "rob.disconnect()"
   ]
  },
  {
   "cell_type": "markdown",
   "id": "2663b454",
   "metadata": {},
   "source": [
    "Hay otras funciones relacionadas con la lectura de códigos QR que veremos en el cuaderno dedicado a los callbacks."
   ]
  },
  {
   "cell_type": "markdown",
   "id": "d042cc35",
   "metadata": {},
   "source": [
    "<a id=\"ej\" style=\"text-decoration:none;\">\n",
    "<h1 style=\"color: #d60e8c; border-bottom: 2px solid #d60e8c;padding-bottom: 5px;\">Ejercicios</h1>\n",
    "</a>"
   ]
  },
  {
   "cell_type": "markdown",
   "id": "f6e31e1d",
   "metadata": {},
   "source": [
    "**EJERCICIO 1**\n",
    "\n",
    "Desactiva la opción de \"Comportamiento aleatorio en mundos\" en las opciones de RoboboSim, abre el mundo **RECYCLING SIMPLE**, y desarrolla un programa que haga lo siguiente:\n",
    "\n",
    "- Robobo se tiene que acercar al vaso de papel hasta que el valor del IR Front-C sea mayor de 650\n",
    "- Se detendrá y luego girará sobre su eje hacia la derecha a una velocidad de 2, ya que en esa posición debería de estar el depósito de papel.\n",
    "- Con el lector de QRs, deberá detectar el QR que tenga de id \"PAPER\".\n",
    "- Cuando lo detecte, se parará y dirá *\"Ahí está el depósito del papel\"*  avanzará hacia él hasta que el valor de la distancia del QR sea mayor o igual que 45\n",
    "- Al llegar, se parará y dará marcha atrás durante 3 segundos a una velocidad de 15.\n",
    "- Dirá *\"Ya he dejado el vaso en su sitio\"* y se terminará el programa\n",
    "\n",
    "\n",
    "Si Robobo ha dejado el vaso de papel tal y como está aquí, habéis resuelto el ejercicio:\n",
    "\n",
    "\n",
    "<img src=\"img/papel.png\" width=\"650\">"
   ]
  },
  {
   "cell_type": "code",
   "execution_count": null,
   "id": "37a0653b",
   "metadata": {},
   "outputs": [],
   "source": [
    "#INSERTAR CÓDIGO AQUÍ"
   ]
  },
  {
   "cell_type": "markdown",
   "id": "1ce240f0",
   "metadata": {},
   "source": [
    "**EJERCICIO 2**\n",
    "\n",
    "En el mundo **PARKING** debéis realizar un programa que haga que Robobo aparque en uno de los dos huecos:\n",
    "\n",
    "- El usuario tiene que decir cuál buscará Robobo: El \"1\" o el \"2\". Usa una entrada por teclado simple para ello.\n",
    "- Robobo moverá el PAN hacia un ángulo de 90º de forma que la cámara pueda detectar los QR.\n",
    "- Después Robobo avanzará recto a una velocidad constante de 6.\n",
    "- Si el QR que detecta es el indicado por el usuario, Robobo se detendrá y pondrá el PAN en su posición original.\n",
    "- Los movimientos para aparcar Robobo en paralelos se dejan a libre elección del alumno (Es posible realizar esto en solo 2-3 movimientos como máximo). Lo que sí se pide es que Robobo se coloque **detrás** del poste.\n",
    "- Cuando esté aparcado, Robobo deberá moverse hacia delante hasta que detecte el poste que contenía el QR con el sensor Front-C\n",
    "\n",
    "Así debe de quedar Robobo al aparcar si se le ha pedido que aparque en el 2:\n",
    "\n",
    "<img src=\"img/Parking.png\" width=\"650\">"
   ]
  },
  {
   "cell_type": "code",
   "execution_count": null,
   "id": "6ce97378",
   "metadata": {},
   "outputs": [],
   "source": [
    "#INSERTAR CÓDIGO AQUÍ"
   ]
  },
  {
   "cell_type": "markdown",
   "id": "31768ae9",
   "metadata": {},
   "source": [
    "**EJERCICIO 3**\n",
    "\n",
    "Abrir el mapa **PEDESTRIAN ROAD** con la opción mundos aleatorios activadas y crear el siguiente programa:\n",
    "\n",
    "El robot deberá leer los QRs de las señales y realizar las siguientes funciones:\n",
    "\n",
    "- Si lee los QRs de las señales de *velocidad* **(ids \"10\" y \"30\")**, el robot se moverá a la velocidad acorde a ellas.\n",
    "- Si lee el QR del *paso de peatones* **(id \"peatones\")**  se detendrá durante 5 segundos. Una vez finalizado se moverá a la velocidad a la que iba antes de pararse.\n",
    "- Si lee el QR de la señal de *STOP* **(id \"stop\" )**, se detendrá y terminará el programa\n"
   ]
  },
  {
   "cell_type": "code",
   "execution_count": null,
   "id": "45d02199",
   "metadata": {},
   "outputs": [],
   "source": [
    "#INSERTAR CÓDIGO AQUÍ"
   ]
  }
 ],
 "metadata": {
  "kernelspec": {
   "display_name": "Python 3",
   "language": "python",
   "name": "python3"
  },
  "language_info": {
   "codemirror_mode": {
    "name": "ipython",
    "version": 3
   },
   "file_extension": ".py",
   "mimetype": "text/x-python",
   "name": "python",
   "nbconvert_exporter": "python",
   "pygments_lexer": "ipython3",
   "version": "3.12.6"
  }
 },
 "nbformat": 4,
 "nbformat_minor": 5
}
