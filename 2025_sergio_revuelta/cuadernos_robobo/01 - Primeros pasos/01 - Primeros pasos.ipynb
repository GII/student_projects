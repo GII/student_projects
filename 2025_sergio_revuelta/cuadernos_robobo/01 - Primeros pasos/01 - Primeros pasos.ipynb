{
 "cells": [
  {
   "cell_type": "markdown",
   "id": "8e4e6166",
   "metadata": {},
   "source": [
    "<table width=\"100%\">\n",
    "<tr>\n",
    "    <td align=\"left\" width=\"50%\" style=\"border: 0px; padding-left: 20px;\">\n",
    "        <img src=\"img/udc.png\" width=\"300\">\n",
    "    </td>\n",
    "    <td align=\"right\" width=\"50%\" style=\"border: 0px; padding-right: 50px;\">\n",
    "        <img src=\"img/logo_mint.svg\" width=\"250\">\n",
    "    </td>    \n",
    "</tr>\n",
    "</table>"
   ]
  },
  {
   "cell_type": "markdown",
   "id": "e3b3894f",
   "metadata": {},
   "source": [
    "<center>\n",
    "<h1 style=\"color: #d60e8c;\">Robobo: primeros pasos</h1> \n",
    "</center>"
   ]
  },
  {
   "cell_type": "markdown",
   "id": "3f28bc46",
   "metadata": {},
   "source": [
    "<h2>Contenidos</h2>\n",
    "\n",
    "<div class=\"alert alert-block alert-info\" \n",
    "     style=\"margin-top: 20px; padding-top:10px; border: 1px solid #d60e8c; border-radius: 20px; background:transparent;\">\n",
    "    <ul>\n",
    "        <li><a href=\"#intro\">Introducción</a></li>\n",
    "        <li><a href=\"#connect\">Programación de Robobo en Python</a></li>\n",
    "        <li><a href=\"#example\">Ejemplo de prueba</a></li>\n",
    "        <li><a href=\"#monitor\">Monitorización</a></li>       \n",
    "    </ul>\n",
    "</div>"
   ]
  },
  {
   "cell_type": "markdown",
   "id": "997ac6d7",
   "metadata": {},
   "source": [
    "<a id=\"intro\" style=\"text-decoration:none;\">\n",
    "<h1 style=\"color: #d60e8c; border-bottom: 2px solid #d60e8c;padding-bottom: 5px;\">Introducción</h1>\n",
    "</a>\n",
    "\n",
    "Robobo es un robot educativo compuesto por una **base móvil** a la que que se acopla un **smartphone**. El objetivo principal de robot es la enseñanza de los fundamentos de la robótica autónoma, para lo cual debes aprender a programarlo. Robobo se puede programar en Scratch y Python, pero estos cuadernos se centran en el lenguaje de programación **Python**.\n",
    "\n",
    "<center>\n",
    "    <img src=\"img/robobo.png\" width=\"500\"/>\n",
    "</center>\n",
    "\n",
    "Aunque el objetivo principal es aprender a programar el robot real, existe una versión simulada de Robobo, que es muy útil para el desarrollo de los programas y cuando no tenemos acceso al robot físico. Las principales diferencias son las siguientes:\n"
   ]
  },
  {
   "cell_type": "markdown",
   "id": "9bb5e97e",
   "metadata": {},
   "source": [
    "<h2 style=\"color: #d60e8c;\">Robobo real</h2>\n",
    "\n",
    "La base constituye el \"cuerpo\" del robot, proporcionando movilidad y algunas capacidades de detección, mientras que el smartphone es el cerebro del Robobo, proporcionando capacidad de cálculo y de detección/actuación en el mundo real.\n",
    "\n",
    "Tanto la base como el smartphone disponen de diversos sensores y actuadores adecuados para el aprendizaje en robótica autónoma, que se pueden observar en la imagen siguiente:\n",
    "\n",
    "<center>\n",
    "    <img src=\"img/esquema_robobo.png\" width=\"400\"/>\n",
    "</center>\n",
    "\n",
    "Para más detalles sobre las características y propiedades de la base, revisa: https://education.theroboboproject.com/presentacion-de-robobo"
   ]
  },
  {
   "cell_type": "markdown",
   "id": "a0af4436",
   "metadata": {},
   "source": [
    "<h2 style=\"color: #d60e8c;\">Robobo simulado</h2>\n",
    "\n",
    "Robobo se puede programar también a través de un modelo de simulación realista, denominado **RoboboSim**.\n",
    "\n",
    "<center>\n",
    "    <img src=\"img/roboboSim.png\" width=\"500\"/>\n",
    "</center>\n",
    "\n",
    "RoboboSim es un simulador fiel al modelo de robot real, es decir, simula el comportamiento de este. La respuesta de los motores y actuadores se ha desarrollado tras analizar el funcionamiento de los reales, de tal forma que cualquier programa de control desarrollado en el simulador se pueda transferir al robot real sin grandes ajustes.\n",
    "\n",
    "Todos los programas que realizaremos en estos cuadernos, excepto en uno específico del robot real, se realizarán utilizando RoboboSim, por lo que es importante que revises la documentaión en https://test.theroboboproject.com/configuracion-inicial/robobosim/, donde se explica el uso básico del simulador y sus opciones principales."
   ]
  },
  {
   "cell_type": "markdown",
   "id": "a23e1008",
   "metadata": {},
   "source": [
    "<a id=\"connect\" style=\"text-decoration:none;\">\n",
    "<h1 style=\"color: #d60e8c; border-bottom: 2px solid #d60e8c;padding-bottom: 5px;\">Programación de Robobo en Python</h1>\n",
    "</a>\n",
    "\n",
    "Para programar Robobo en Python son necesarios los siguientes elementos:\n",
    "\n",
    "- En el caso de querer programar el **robot real**:\n",
    "    - Un **ordenador** con WIFI y un sistema operativo compatible con Python: Windows, Mac o Linux\n",
    "    - Una **red WIFI** con conexión a internet a la que se puedan conectar el ordenador y el smartphone. Esta red debe tener un nivel de seguridad que permita la comunicación entre dispositivos de la red.\n",
    "    - Un **smartphone con sistema operativo Android** 9.0 o superior y con un tamaño de pantalla mínimo de 4,7″ y máximo de 5,5″ (grosor máximo 95 mm).\n",
    "    - Una **base Robobo real cargada**\n",
    "- En el caso de querer programar el robot simulado:\n",
    "    - Un **ordenador con conexión a internet** (WIFI o cable) y un sistema operativo compatible con RoboSim y Python: Windows, Mac o Linux"
   ]
  },
  {
   "cell_type": "markdown",
   "id": "fe530f50",
   "metadata": {},
   "source": [
    "<h2 style=\"color: #d60e8c; border-bottom: 2px dotted #d60e8c; padding-bottom: 5px;\">Instalaciones previas </h2>\n",
    "\n",
    "Antes de comenzar a programar en Python, es necesario instalar los siguientes componentes:\n",
    "\n",
    "- **Para programar el robot real**,  debemos \n",
    "    1. Conectar el ordenador y el smartphone a la misma red WIFI.\n",
    "    2. Emparejar la base Robobo y el smartphone por Bluetooth\n",
    "    3. Descargar e instalar la App de Robobo en el smartphone. \n",
    "    4. Enlazar la base con la App de Robobo. Tienes más detalle sobre cómo hacer este proceso en https://test.theroboboproject.com/app-de-robobo/\n",
    "\n",
    "- **Para programar el robor simulado**: debemos descargar y arrancar el RoboboSim (no requiere instalación), tal y como se detalla en https://test.theroboboproject.com/configuracion-inicial/robobosim/\n",
    "\n",
    "- En ambos casos debemos instalar el **lenguaje Python** en el sistema operativo, y a continuación la librería **robobopy**, tal y como se detalla en https://test.theroboboproject.com/introduccion/implementacion-de-python-en-robobo/"
   ]
  },
  {
   "cell_type": "markdown",
   "id": "caf3366c",
   "metadata": {},
   "source": [
    "<h2 style=\"color: #d60e8c; border-bottom: 2px dotted #d60e8c; padding-bottom: 5px;\">Conexión</h2>\n",
    "\n",
    "Todos los programas que se desarrollen en Python para programar a Robobo tienen una primera parte inicial común. Son 3 instrucciones Python para importar la librería robobopy, establecer la IP del robot y realizar la conexión en sí misma:\n",
    "\n",
    "_1) from robobopy.Robobo import Robobo_\n",
    "\n",
    "_2) rob = Robobo(\"IP del robot\")_\n",
    "\n",
    "_3) rob.connect()_\n",
    "\n",
    "La primera instrucción será siempre la siguiente:"
   ]
  },
  {
   "cell_type": "code",
   "execution_count": null,
   "id": "76fce4e2",
   "metadata": {},
   "outputs": [],
   "source": [
    "from robobopy.Robobo import Robobo"
   ]
  },
  {
   "cell_type": "markdown",
   "id": "a1ad9bd0",
   "metadata": {},
   "source": [
    "Si al ejecutarla recibes un error, revisa la instalación de la librería robobopy.\n",
    "\n",
    "La segunda instrucción crea un objeto de la clase Robobo, y debemos indicar la dirección IP de robot en la red. El proceso para conocer la IP es diferente para el robot real y el simulado."
   ]
  },
  {
   "cell_type": "markdown",
   "id": "242c4ab8",
   "metadata": {},
   "source": [
    "<h3 style=\"color: #d60e8c;\">Robot real</h2>\n",
    "\n",
    "Para conocer la IP del robot real, debes ir al menú principal de la App Robobo en el smartphone, y la verás en la parte superior de la ventana. Por ejemplo:\n",
    "\n",
    "<img src=\"img/app_robobo_1.png\" width=\"200\" />\n",
    "\n",
    "En este caso la IP es \"192.168.0.130\", por lo que la instrucción a ejecutar sería:"
   ]
  },
  {
   "cell_type": "code",
   "execution_count": null,
   "id": "7da79f08",
   "metadata": {},
   "outputs": [],
   "source": [
    "rob = Robobo(\"192.168.0.130\")"
   ]
  },
  {
   "cell_type": "markdown",
   "id": "a95e62b5",
   "metadata": {},
   "source": [
    "**NOTA: esto es solo un ejemplo, en tu caso debes poner la IP de tu smartphone**"
   ]
  },
  {
   "cell_type": "markdown",
   "id": "0c61c8da",
   "metadata": {},
   "source": [
    "<h3 style=\"color: #d60e8c;\">RoboboSIM</h2>\n",
    "\n",
    "En el caso del simulador, lo habitual es tenerlo instalado en el mismo ordenador en el que se realizan los programas, con lo que la dirección será “localhost”."
   ]
  },
  {
   "cell_type": "code",
   "execution_count": null,
   "id": "6d66c97b",
   "metadata": {},
   "outputs": [],
   "source": [
    "rob = Robobo(\"localhost\")"
   ]
  },
  {
   "cell_type": "markdown",
   "id": "3e2c8bfd",
   "metadata": {},
   "source": [
    "La tercera instrucción es la que realizar la conexión en sí. Para que se pueda ejecutar sin error, el robot real debe estar enlazado con el smartphone como se muestra en la imagen de la izquierda (leds en azul), mientras que para el robot simulado debemos tener RoboboSim abierto y un mundo cargado, por ejemplo el que se muestra en la imagen de la derecha (Four Walls).\n",
    "\n",
    "<table style=\"border: none; width: 100%;\">\n",
    "    <tr>\n",
    "        <td style=\"border: none; text-align: center;\">\n",
    "            <img src=\"img/inicial_real.png\" width=\"500\"/>\n",
    "        </td>\n",
    "        <td style=\"border: none; text-align: center;\">\n",
    "            <img src=\"img/inicial_sim.png\" width=\"400\"/>\n",
    "        </td>\n",
    "    </tr>\n",
    "</table>\n",
    "\n",
    "Una vez preparados, simplemente ejecutamos:"
   ]
  },
  {
   "cell_type": "code",
   "execution_count": null,
   "id": "731d7e59",
   "metadata": {},
   "outputs": [],
   "source": [
    "rob.connect()"
   ]
  },
  {
   "cell_type": "markdown",
   "id": "659b407e",
   "metadata": {},
   "source": [
    "Si no hay ningún error al ejecutar, la conexión se habrá realizado con éxito (el robot real tendrá los leds en color verde). "
   ]
  },
  {
   "cell_type": "markdown",
   "id": "4ce9ecc8",
   "metadata": {},
   "source": [
    "<h2 style=\"color: #d60e8c; border-bottom: 2px dotted #d60e8c; padding-bottom: 5px;\">Desconexión</h2>\n",
    "\n",
    "Es recomendable desconectar el robot de la red al final de cada programa, simplemente añadiendo esta instrucción:"
   ]
  },
  {
   "cell_type": "code",
   "execution_count": null,
   "id": "969571f1",
   "metadata": {},
   "outputs": [],
   "source": [
    "rob.disconnect()"
   ]
  },
  {
   "cell_type": "markdown",
   "id": "dca62241",
   "metadata": {},
   "source": [
    "<a id=\"example\" style=\"text-decoration:none;\">\n",
    "<h1 style=\"color: #d60e8c; border-bottom: 2px solid #d60e8c;padding-bottom: 5px;\">Ejemplo de prueba</h1>\n",
    "</a>\n",
    "\n",
    "Aunque en los cuadernos ejecutaremos muchas instrucciones de manera individual o en grupos, la forma habitual de programar en Python es mediante archivos que incluyen toda la lógica y se ejecutan de forma independiente. \n",
    "\n",
    "Vamos a probar ahora uno de estos archivos. Para ello, arranca RoboboSim y carga el mundo \"Four Walls\" como se muestra en estas imágenes:\n",
    "\n",
    "<table style=\"border: none; width: 100%;\">\n",
    "    <tr>\n",
    "        <td style=\"border: none; text-align: center;\">\n",
    "            <img src=\"img/four_walls.png\" width=\"400\"/>\n",
    "        </td>\n",
    "        <td style=\"border: none; text-align: center;\">\n",
    "            <img src=\"img/inicial_sim.png\" width=\"400\"/>\n",
    "        </td>\n",
    "    </tr>\n",
    "</table>\n",
    "\n",
    "A continuación, creamos un archivo “prueba.py” en Visual Studio Code (u otro IDE similar) con el siguiente contenido:"
   ]
  },
  {
   "cell_type": "code",
   "execution_count": null,
   "id": "c8ef7d81",
   "metadata": {},
   "outputs": [],
   "source": [
    "# Importamos la librería\n",
    "from robobopy.Robobo import Robobo\n",
    "\n",
    "# Creamos una instancia de la clase Robobo con la dirección IP \"localhost\"\n",
    "rob = Robobo(\"localhost\")\n",
    "\n",
    "# Conectamos con el simulador\n",
    "rob.connect()\n",
    "\n",
    "# Robobo se mueve en línea recta durante 4 segundos\n",
    "rob.moveWheelsByTime(10, 10, 4)\n",
    "\n",
    "# Desconectamos Robobo\n",
    "rob.disconnect()"
   ]
  },
  {
   "cell_type": "markdown",
   "id": "575cd0fe",
   "metadata": {},
   "source": [
    "Ejecutamos ese programa de prueba, y si todo ha ido bien, el robot debería moverse en línea recta durante 4 segundos, terminando aproximadamente en la posición que se muestra en la imagen:\n",
    "\n",
    "<center>\n",
    "    <img src=\"img/script.png\" width=\"600\"/>\n",
    "</center>"
   ]
  },
  {
   "cell_type": "markdown",
   "id": "cdb2789e",
   "metadata": {},
   "source": [
    "<a id=\"monitor\" style=\"text-decoration:none;\">\n",
    "  <h1 style=\"color: #d60e8c; border-bottom: 2px solid #d60e8c;padding-bottom: 5px;\">Monitorización</h1>\n",
    "</a>\n",
    "\n",
    "Mientras se están creando programas con Robobo, puede ser necesario conocer el valor de los sensores de cara a establecer umbrales o valores de referencia. Por este motivo, Robobo incluye una ventana de monitorización web, que es altamente recomendable tener abierta. Para acceder a esta ventana, basta con ir a esta url: http://monitor.theroboboproject.com/\n",
    "\n",
    "En la página que se abre, debemos escribir, en la parte superior izquierda, la dirección IP del robot real o bien localhost si estamos usando RoboboSim, y pulsar el botón Connect.\n",
    "\n",
    "<center>\n",
    "    <img src=\"img/monitor_project.PNG\" width=\"500\"/>\n",
    "</center>\n",
    "\n",
    "La ventana de monitorización mostrará los valores de los diferentes sensors en tiempo real según van cambiando."
   ]
  },
  {
   "cell_type": "markdown",
   "id": "2365030f",
   "metadata": {},
   "source": [
    "<div style=\"text-align: right; border-top: 1px solid #d60e8c; padding-top: 5px;\">\n",
    "    <span style=\"margin-right:10px;\"><a href=\"http://education.theroboboproject.com/\">https://education.theroboboproject.com</a></span>\n",
    "</div>\n"
   ]
  }
 ],
 "metadata": {
  "kernelspec": {
   "display_name": "Python 3",
   "language": "python",
   "name": "python3"
  },
  "language_info": {
   "codemirror_mode": {
    "name": "ipython",
    "version": 3
   },
   "file_extension": ".py",
   "mimetype": "text/x-python",
   "name": "python",
   "nbconvert_exporter": "python",
   "pygments_lexer": "ipython3",
   "version": "3.10.2"
  }
 },
 "nbformat": 4,
 "nbformat_minor": 5
}
